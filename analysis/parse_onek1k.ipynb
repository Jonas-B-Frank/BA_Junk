{
 "cells": [
  {
   "cell_type": "code",
   "execution_count": 2,
   "metadata": {},
   "outputs": [],
   "source": [
    "import pandas as pd\n",
    "pd.set_option(\"display.max_columns\", None)"
   ]
  },
  {
   "cell_type": "code",
   "execution_count": 5,
   "metadata": {},
   "outputs": [],
   "source": [
    "filepath = \"../onek1k/onek1k_subset_columns.tsv\""
   ]
  },
  {
   "cell_type": "code",
   "execution_count": 6,
   "metadata": {},
   "outputs": [
    {
     "data": {
      "text/plain": [
       "(64374849, 11)"
      ]
     },
     "execution_count": 6,
     "metadata": {},
     "output_type": "execute_result"
    }
   ],
   "source": [
    "df = pd.read_csv(filepath, sep=\"\\t\")\n",
    "df.shape"
   ]
  },
  {
   "cell_type": "code",
   "execution_count": 8,
   "metadata": {},
   "outputs": [],
   "source": [
    "df[\"position_code\"] = df[\"#CHR\"].astype(\"str\") + \"-\" + df[\"POS\"].astype(\"str\")"
   ]
  },
  {
   "cell_type": "code",
   "execution_count": 9,
   "metadata": {},
   "outputs": [
    {
     "data": {
      "text/html": [
       "<div>\n",
       "<style scoped>\n",
       "    .dataframe tbody tr th:only-of-type {\n",
       "        vertical-align: middle;\n",
       "    }\n",
       "\n",
       "    .dataframe tbody tr th {\n",
       "        vertical-align: top;\n",
       "    }\n",
       "\n",
       "    .dataframe thead th {\n",
       "        text-align: right;\n",
       "    }\n",
       "</style>\n",
       "<table border=\"1\" class=\"dataframe\">\n",
       "  <thead>\n",
       "    <tr style=\"text-align: right;\">\n",
       "      <th></th>\n",
       "      <th>#CHR</th>\n",
       "      <th>POS</th>\n",
       "      <th>POS_DUMMY</th>\n",
       "      <th>CELL_TYPE</th>\n",
       "      <th>RSID</th>\n",
       "      <th>GENE</th>\n",
       "      <th>GENE_ID</th>\n",
       "      <th>A1</th>\n",
       "      <th>A2</th>\n",
       "      <th>A2_FREQ_ONEK1K</th>\n",
       "      <th>A2_FREQ_HRC</th>\n",
       "      <th>position_code</th>\n",
       "    </tr>\n",
       "  </thead>\n",
       "  <tbody>\n",
       "    <tr>\n",
       "      <th>0</th>\n",
       "      <td>1</td>\n",
       "      <td>228660479</td>\n",
       "      <td>228660479</td>\n",
       "      <td>Naïve/Immature B Cell</td>\n",
       "      <td>rs10753447</td>\n",
       "      <td>ZNF678</td>\n",
       "      <td>ENSG00000181450</td>\n",
       "      <td>C</td>\n",
       "      <td>A</td>\n",
       "      <td>0.56128</td>\n",
       "      <td>0.539544</td>\n",
       "      <td>1-228660479</td>\n",
       "    </tr>\n",
       "    <tr>\n",
       "      <th>1</th>\n",
       "      <td>1</td>\n",
       "      <td>228660501</td>\n",
       "      <td>228660501</td>\n",
       "      <td>Naïve/Immature B Cell</td>\n",
       "      <td>rs10733022</td>\n",
       "      <td>ZNF678</td>\n",
       "      <td>ENSG00000181450</td>\n",
       "      <td>C</td>\n",
       "      <td>A</td>\n",
       "      <td>0.64639</td>\n",
       "      <td>0.636110</td>\n",
       "      <td>1-228660501</td>\n",
       "    </tr>\n",
       "    <tr>\n",
       "      <th>2</th>\n",
       "      <td>1</td>\n",
       "      <td>228660718</td>\n",
       "      <td>228660718</td>\n",
       "      <td>Naïve/Immature B Cell</td>\n",
       "      <td>rs10916322</td>\n",
       "      <td>ZNF678</td>\n",
       "      <td>ENSG00000181450</td>\n",
       "      <td>A</td>\n",
       "      <td>G</td>\n",
       "      <td>0.08485</td>\n",
       "      <td>0.096012</td>\n",
       "      <td>1-228660718</td>\n",
       "    </tr>\n",
       "    <tr>\n",
       "      <th>3</th>\n",
       "      <td>1</td>\n",
       "      <td>228660847</td>\n",
       "      <td>228660847</td>\n",
       "      <td>Naïve/Immature B Cell</td>\n",
       "      <td>rs10737431</td>\n",
       "      <td>ZNF678</td>\n",
       "      <td>ENSG00000181450</td>\n",
       "      <td>A</td>\n",
       "      <td>G</td>\n",
       "      <td>0.66112</td>\n",
       "      <td>0.664737</td>\n",
       "      <td>1-228660847</td>\n",
       "    </tr>\n",
       "    <tr>\n",
       "      <th>4</th>\n",
       "      <td>1</td>\n",
       "      <td>228661593</td>\n",
       "      <td>228661593</td>\n",
       "      <td>Naïve/Immature B Cell</td>\n",
       "      <td>rs10916323</td>\n",
       "      <td>ZNF678</td>\n",
       "      <td>ENSG00000181450</td>\n",
       "      <td>G</td>\n",
       "      <td>T</td>\n",
       "      <td>0.13318</td>\n",
       "      <td>0.147475</td>\n",
       "      <td>1-228661593</td>\n",
       "    </tr>\n",
       "  </tbody>\n",
       "</table>\n",
       "</div>"
      ],
      "text/plain": [
       "   #CHR        POS  POS_DUMMY              CELL_TYPE        RSID    GENE   \n",
       "0     1  228660479  228660479  Naïve/Immature B Cell  rs10753447  ZNF678  \\\n",
       "1     1  228660501  228660501  Naïve/Immature B Cell  rs10733022  ZNF678   \n",
       "2     1  228660718  228660718  Naïve/Immature B Cell  rs10916322  ZNF678   \n",
       "3     1  228660847  228660847  Naïve/Immature B Cell  rs10737431  ZNF678   \n",
       "4     1  228661593  228661593  Naïve/Immature B Cell  rs10916323  ZNF678   \n",
       "\n",
       "           GENE_ID A1 A2  A2_FREQ_ONEK1K  A2_FREQ_HRC position_code  \n",
       "0  ENSG00000181450  C  A         0.56128     0.539544   1-228660479  \n",
       "1  ENSG00000181450  C  A         0.64639     0.636110   1-228660501  \n",
       "2  ENSG00000181450  A  G         0.08485     0.096012   1-228660718  \n",
       "3  ENSG00000181450  A  G         0.66112     0.664737   1-228660847  \n",
       "4  ENSG00000181450  G  T         0.13318     0.147475   1-228661593  "
      ]
     },
     "execution_count": 9,
     "metadata": {},
     "output_type": "execute_result"
    }
   ],
   "source": [
    "df.head()"
   ]
  },
  {
   "cell_type": "code",
   "execution_count": 10,
   "metadata": {},
   "outputs": [
    {
     "data": {
      "text/plain": [
       "4842867"
      ]
     },
     "execution_count": 10,
     "metadata": {},
     "output_type": "execute_result"
    }
   ],
   "source": [
    "df[\"position_code\"].nunique()"
   ]
  },
  {
   "attachments": {},
   "cell_type": "markdown",
   "metadata": {},
   "source": [
    "Aggregate CELL_TYPE, GENE and GENE_ID"
   ]
  },
  {
   "cell_type": "code",
   "execution_count": 12,
   "metadata": {},
   "outputs": [],
   "source": [
    "df = df.drop(columns=\"position_code\")"
   ]
  },
  {
   "cell_type": "code",
   "execution_count": 13,
   "metadata": {},
   "outputs": [
    {
     "data": {
      "text/plain": [
       "Index(['#CHR', 'POS', 'POS_DUMMY', 'CELL_TYPE', 'RSID', 'GENE', 'GENE_ID',\n",
       "       'A1', 'A2', 'A2_FREQ_ONEK1K', 'A2_FREQ_HRC'],\n",
       "      dtype='object')"
      ]
     },
     "execution_count": 13,
     "metadata": {},
     "output_type": "execute_result"
    }
   ],
   "source": [
    "df.columns"
   ]
  },
  {
   "cell_type": "code",
   "execution_count": 16,
   "metadata": {},
   "outputs": [
    {
     "data": {
      "text/plain": [
       "4842867"
      ]
     },
     "execution_count": 16,
     "metadata": {},
     "output_type": "execute_result"
    }
   ],
   "source": [
    "df_aggregated = df.groupby([\"#CHR\", \"POS\"]).agg({\"#CHR\": \"first\", \"POS\": \"first\", \"POS_DUMMY\": \"first\", \"CELL_TYPE\": lambda x: ','.join(x), \"RSID\": \"first\", \"GENE\": lambda x: set(x), \"GENE_ID\": lambda x: set(x), \"A1\": \"first\", \"A2\": \"first\", \"A2_FREQ_ONEK1K\": \"first\", \"A2_FREQ_HRC\": \"first\"}).reset_index(drop=True)\n",
    "len(df_aggregated)"
   ]
  },
  {
   "cell_type": "code",
   "execution_count": 17,
   "metadata": {},
   "outputs": [
    {
     "data": {
      "text/html": [
       "<div>\n",
       "<style scoped>\n",
       "    .dataframe tbody tr th:only-of-type {\n",
       "        vertical-align: middle;\n",
       "    }\n",
       "\n",
       "    .dataframe tbody tr th {\n",
       "        vertical-align: top;\n",
       "    }\n",
       "\n",
       "    .dataframe thead th {\n",
       "        text-align: right;\n",
       "    }\n",
       "</style>\n",
       "<table border=\"1\" class=\"dataframe\">\n",
       "  <thead>\n",
       "    <tr style=\"text-align: right;\">\n",
       "      <th></th>\n",
       "      <th>#CHR</th>\n",
       "      <th>POS</th>\n",
       "      <th>POS_DUMMY</th>\n",
       "      <th>CELL_TYPE</th>\n",
       "      <th>RSID</th>\n",
       "      <th>GENE</th>\n",
       "      <th>GENE_ID</th>\n",
       "      <th>A1</th>\n",
       "      <th>A2</th>\n",
       "      <th>A2_FREQ_ONEK1K</th>\n",
       "      <th>A2_FREQ_HRC</th>\n",
       "    </tr>\n",
       "  </thead>\n",
       "  <tbody>\n",
       "    <tr>\n",
       "      <th>0</th>\n",
       "      <td>1</td>\n",
       "      <td>729679</td>\n",
       "      <td>729679</td>\n",
       "      <td>Naïve/Immature B Cell,Memory B Cell,CD4 Effect...</td>\n",
       "      <td>rs4951859</td>\n",
       "      <td>{UBE2J2, RP11-206L10.9}</td>\n",
       "      <td>{ENSG00000160087, ENSG00000237491}</td>\n",
       "      <td>C</td>\n",
       "      <td>G</td>\n",
       "      <td>0.84121</td>\n",
       "      <td>0.816477</td>\n",
       "    </tr>\n",
       "    <tr>\n",
       "      <th>1</th>\n",
       "      <td>1</td>\n",
       "      <td>731718</td>\n",
       "      <td>731718</td>\n",
       "      <td>Naïve/Immature B Cell,Memory B Cell,CD4 Effect...</td>\n",
       "      <td>rs142557973</td>\n",
       "      <td>{UBE2J2}</td>\n",
       "      <td>{ENSG00000160087}</td>\n",
       "      <td>T</td>\n",
       "      <td>C</td>\n",
       "      <td>0.11641</td>\n",
       "      <td>0.129366</td>\n",
       "    </tr>\n",
       "    <tr>\n",
       "      <th>2</th>\n",
       "      <td>1</td>\n",
       "      <td>734349</td>\n",
       "      <td>734349</td>\n",
       "      <td>Naïve/Immature B Cell,Memory B Cell,CD4 Effect...</td>\n",
       "      <td>rs141242758</td>\n",
       "      <td>{UBE2J2}</td>\n",
       "      <td>{ENSG00000160087}</td>\n",
       "      <td>T</td>\n",
       "      <td>C</td>\n",
       "      <td>0.11530</td>\n",
       "      <td>0.128380</td>\n",
       "    </tr>\n",
       "    <tr>\n",
       "      <th>3</th>\n",
       "      <td>1</td>\n",
       "      <td>736289</td>\n",
       "      <td>736289</td>\n",
       "      <td>Naïve/Immature B Cell,Memory B Cell,CD4 Effect...</td>\n",
       "      <td>rs79010578</td>\n",
       "      <td>{UBE2J2}</td>\n",
       "      <td>{ENSG00000160087}</td>\n",
       "      <td>T</td>\n",
       "      <td>A</td>\n",
       "      <td>0.12816</td>\n",
       "      <td>0.138882</td>\n",
       "    </tr>\n",
       "    <tr>\n",
       "      <th>4</th>\n",
       "      <td>1</td>\n",
       "      <td>752566</td>\n",
       "      <td>752566</td>\n",
       "      <td>Naïve/Immature B Cell,Memory B Cell,CD4 Effect...</td>\n",
       "      <td>rs3094315</td>\n",
       "      <td>{UBE2J2}</td>\n",
       "      <td>{ENSG00000160087}</td>\n",
       "      <td>G</td>\n",
       "      <td>A</td>\n",
       "      <td>0.84074</td>\n",
       "      <td>0.819865</td>\n",
       "    </tr>\n",
       "  </tbody>\n",
       "</table>\n",
       "</div>"
      ],
      "text/plain": [
       "   #CHR     POS  POS_DUMMY                                          CELL_TYPE   \n",
       "0     1  729679     729679  Naïve/Immature B Cell,Memory B Cell,CD4 Effect...  \\\n",
       "1     1  731718     731718  Naïve/Immature B Cell,Memory B Cell,CD4 Effect...   \n",
       "2     1  734349     734349  Naïve/Immature B Cell,Memory B Cell,CD4 Effect...   \n",
       "3     1  736289     736289  Naïve/Immature B Cell,Memory B Cell,CD4 Effect...   \n",
       "4     1  752566     752566  Naïve/Immature B Cell,Memory B Cell,CD4 Effect...   \n",
       "\n",
       "          RSID                     GENE                             GENE_ID   \n",
       "0    rs4951859  {UBE2J2, RP11-206L10.9}  {ENSG00000160087, ENSG00000237491}  \\\n",
       "1  rs142557973                 {UBE2J2}                   {ENSG00000160087}   \n",
       "2  rs141242758                 {UBE2J2}                   {ENSG00000160087}   \n",
       "3   rs79010578                 {UBE2J2}                   {ENSG00000160087}   \n",
       "4    rs3094315                 {UBE2J2}                   {ENSG00000160087}   \n",
       "\n",
       "  A1 A2  A2_FREQ_ONEK1K  A2_FREQ_HRC  \n",
       "0  C  G         0.84121     0.816477  \n",
       "1  T  C         0.11641     0.129366  \n",
       "2  T  C         0.11530     0.128380  \n",
       "3  T  A         0.12816     0.138882  \n",
       "4  G  A         0.84074     0.819865  "
      ]
     },
     "execution_count": 17,
     "metadata": {},
     "output_type": "execute_result"
    }
   ],
   "source": [
    "df_aggregated.head()"
   ]
  },
  {
   "attachments": {},
   "cell_type": "markdown",
   "metadata": {},
   "source": [
    "Write to new file"
   ]
  },
  {
   "cell_type": "code",
   "execution_count": 18,
   "metadata": {},
   "outputs": [],
   "source": [
    "df_aggregated.to_csv(f\"../onek1k/onek1k_aggregated.tsv\", sep=\"\\t\", header=True, index=False)"
   ]
  }
 ],
 "metadata": {
  "kernelspec": {
   "display_name": ".venv",
   "language": "python",
   "name": "python3"
  },
  "language_info": {
   "codemirror_mode": {
    "name": "ipython",
    "version": 3
   },
   "file_extension": ".py",
   "mimetype": "text/x-python",
   "name": "python",
   "nbconvert_exporter": "python",
   "pygments_lexer": "ipython3",
   "version": "3.10.6"
  },
  "orig_nbformat": 4
 },
 "nbformat": 4,
 "nbformat_minor": 2
}

{
 "cells": [
  {
   "cell_type": "code",
   "execution_count": 1,
   "metadata": {},
   "outputs": [],
   "source": [
    "import pandas as pd\n",
    "pd.set_option(\"display.max_columns\", None)"
   ]
  },
  {
   "cell_type": "code",
   "execution_count": 2,
   "metadata": {},
   "outputs": [],
   "source": [
    "filepath = \"/home/junkhann/daten/onek1k/onek1k_eqtl_dataset.tsv\"\n",
    "cols_list = (\"CELL_TYPE\", \"RSID\", \"GENE\", \"GENE_ID\", \"CHR\", \"POS\", \"A1\", \"A2\", \"A2_FREQ_ONEK1K\", \"A2_FREQ_HRC\")"
   ]
  },
  {
   "cell_type": "code",
   "execution_count": 3,
   "metadata": {},
   "outputs": [
    {
     "data": {
      "text/plain": [
       "(64374849, 10)"
      ]
     },
     "execution_count": 3,
     "metadata": {},
     "output_type": "execute_result"
    }
   ],
   "source": [
    "df = pd.read_csv(filepath, sep=\"\\t\", usecols=cols_list)\n",
    "df.shape"
   ]
  },
  {
   "cell_type": "code",
   "execution_count": 8,
   "metadata": {},
   "outputs": [],
   "source": [
    "df[\"position_code\"] = df[\"CHR\"].astype(\"str\") + \"-\" + df[\"POS\"].astype(\"str\")"
   ]
  },
  {
   "cell_type": "code",
   "execution_count": 9,
   "metadata": {},
   "outputs": [
    {
     "data": {
      "text/html": [
       "<div>\n",
       "<style scoped>\n",
       "    .dataframe tbody tr th:only-of-type {\n",
       "        vertical-align: middle;\n",
       "    }\n",
       "\n",
       "    .dataframe tbody tr th {\n",
       "        vertical-align: top;\n",
       "    }\n",
       "\n",
       "    .dataframe thead th {\n",
       "        text-align: right;\n",
       "    }\n",
       "</style>\n",
       "<table border=\"1\" class=\"dataframe\">\n",
       "  <thead>\n",
       "    <tr style=\"text-align: right;\">\n",
       "      <th></th>\n",
       "      <th>CELL_TYPE</th>\n",
       "      <th>RSID</th>\n",
       "      <th>GENE</th>\n",
       "      <th>GENE_ID</th>\n",
       "      <th>CHR</th>\n",
       "      <th>POS</th>\n",
       "      <th>A1</th>\n",
       "      <th>A2</th>\n",
       "      <th>A2_FREQ_ONEK1K</th>\n",
       "      <th>A2_FREQ_HRC</th>\n",
       "      <th>position_code</th>\n",
       "    </tr>\n",
       "  </thead>\n",
       "  <tbody>\n",
       "    <tr>\n",
       "      <th>0</th>\n",
       "      <td>Naïve/Immature B Cell</td>\n",
       "      <td>rs10753447</td>\n",
       "      <td>ZNF678</td>\n",
       "      <td>ENSG00000181450</td>\n",
       "      <td>1</td>\n",
       "      <td>228660479.0</td>\n",
       "      <td>C</td>\n",
       "      <td>A</td>\n",
       "      <td>0.56128</td>\n",
       "      <td>0.539544</td>\n",
       "      <td>1-228660479.0</td>\n",
       "    </tr>\n",
       "    <tr>\n",
       "      <th>1</th>\n",
       "      <td>Naïve/Immature B Cell</td>\n",
       "      <td>rs10733022</td>\n",
       "      <td>ZNF678</td>\n",
       "      <td>ENSG00000181450</td>\n",
       "      <td>1</td>\n",
       "      <td>228660501.0</td>\n",
       "      <td>C</td>\n",
       "      <td>A</td>\n",
       "      <td>0.64639</td>\n",
       "      <td>0.636110</td>\n",
       "      <td>1-228660501.0</td>\n",
       "    </tr>\n",
       "    <tr>\n",
       "      <th>2</th>\n",
       "      <td>Naïve/Immature B Cell</td>\n",
       "      <td>rs10916322</td>\n",
       "      <td>ZNF678</td>\n",
       "      <td>ENSG00000181450</td>\n",
       "      <td>1</td>\n",
       "      <td>228660718.0</td>\n",
       "      <td>A</td>\n",
       "      <td>G</td>\n",
       "      <td>0.08485</td>\n",
       "      <td>0.096012</td>\n",
       "      <td>1-228660718.0</td>\n",
       "    </tr>\n",
       "    <tr>\n",
       "      <th>3</th>\n",
       "      <td>Naïve/Immature B Cell</td>\n",
       "      <td>rs10737431</td>\n",
       "      <td>ZNF678</td>\n",
       "      <td>ENSG00000181450</td>\n",
       "      <td>1</td>\n",
       "      <td>228660847.0</td>\n",
       "      <td>A</td>\n",
       "      <td>G</td>\n",
       "      <td>0.66112</td>\n",
       "      <td>0.664737</td>\n",
       "      <td>1-228660847.0</td>\n",
       "    </tr>\n",
       "    <tr>\n",
       "      <th>4</th>\n",
       "      <td>Naïve/Immature B Cell</td>\n",
       "      <td>rs10916323</td>\n",
       "      <td>ZNF678</td>\n",
       "      <td>ENSG00000181450</td>\n",
       "      <td>1</td>\n",
       "      <td>228661593.0</td>\n",
       "      <td>G</td>\n",
       "      <td>T</td>\n",
       "      <td>0.13318</td>\n",
       "      <td>0.147475</td>\n",
       "      <td>1-228661593.0</td>\n",
       "    </tr>\n",
       "  </tbody>\n",
       "</table>\n",
       "</div>"
      ],
      "text/plain": [
       "               CELL_TYPE        RSID    GENE          GENE_ID  CHR   \n",
       "0  Naïve/Immature B Cell  rs10753447  ZNF678  ENSG00000181450    1  \\\n",
       "1  Naïve/Immature B Cell  rs10733022  ZNF678  ENSG00000181450    1   \n",
       "2  Naïve/Immature B Cell  rs10916322  ZNF678  ENSG00000181450    1   \n",
       "3  Naïve/Immature B Cell  rs10737431  ZNF678  ENSG00000181450    1   \n",
       "4  Naïve/Immature B Cell  rs10916323  ZNF678  ENSG00000181450    1   \n",
       "\n",
       "           POS A1 A2  A2_FREQ_ONEK1K  A2_FREQ_HRC  position_code  \n",
       "0  228660479.0  C  A         0.56128     0.539544  1-228660479.0  \n",
       "1  228660501.0  C  A         0.64639     0.636110  1-228660501.0  \n",
       "2  228660718.0  A  G         0.08485     0.096012  1-228660718.0  \n",
       "3  228660847.0  A  G         0.66112     0.664737  1-228660847.0  \n",
       "4  228661593.0  G  T         0.13318     0.147475  1-228661593.0  "
      ]
     },
     "execution_count": 9,
     "metadata": {},
     "output_type": "execute_result"
    }
   ],
   "source": [
    "df.head()"
   ]
  },
  {
   "cell_type": "code",
   "execution_count": 10,
   "metadata": {},
   "outputs": [
    {
     "data": {
      "text/plain": [
       "4842867"
      ]
     },
     "execution_count": 10,
     "metadata": {},
     "output_type": "execute_result"
    }
   ],
   "source": [
    "df[\"position_code\"].nunique()"
   ]
  }
 ],
 "metadata": {
  "kernelspec": {
   "display_name": ".venv",
   "language": "python",
   "name": "python3"
  },
  "language_info": {
   "codemirror_mode": {
    "name": "ipython",
    "version": 3
   },
   "file_extension": ".py",
   "mimetype": "text/x-python",
   "name": "python",
   "nbconvert_exporter": "python",
   "pygments_lexer": "ipython3",
   "version": "3.10.6"
  },
  "orig_nbformat": 4
 },
 "nbformat": 4,
 "nbformat_minor": 2
}

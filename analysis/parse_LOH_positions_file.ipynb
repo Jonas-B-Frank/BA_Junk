{
 "cells": [
  {
   "cell_type": "code",
   "execution_count": 1,
   "metadata": {},
   "outputs": [],
   "source": [
    "import gzip\n",
    "\n",
    "import pandas as pd\n",
    "\n",
    "pd.set_option(\"display.max_columns\", None)"
   ]
  },
  {
   "attachments": {},
   "cell_type": "markdown",
   "metadata": {},
   "source": [
    "Read LOH positions"
   ]
  },
  {
   "cell_type": "code",
   "execution_count": 2,
   "metadata": {},
   "outputs": [
    {
     "data": {
      "text/plain": [
       "['#CHROM',\n",
       " 'pos',\n",
       " 'position_dummy',\n",
       " 'REF',\n",
       " 'ALT',\n",
       " 'INFO',\n",
       " 'sample_control',\n",
       " 'sample_tumor',\n",
       " 'start',\n",
       " 'end',\n",
       " 'genotype',\n",
       " 'TCN',\n",
       " 'PID',\n",
       " 'normal_genotype',\n",
       " 'tumor_genotype',\n",
       " 'quality_score',\n",
       " 'reads_normal',\n",
       " 'reads_tumor',\n",
       " '#CHR',\n",
       " 'POS',\n",
       " 'POS_DUMMY',\n",
       " 'CELL_TYPE',\n",
       " 'RSID',\n",
       " 'GENE',\n",
       " 'GENE_ID',\n",
       " 'A1',\n",
       " 'A2',\n",
       " 'A2_FREQ_ONEK1K',\n",
       " 'A2_FREQ_HRC']"
      ]
     },
     "execution_count": 2,
     "metadata": {},
     "output_type": "execute_result"
    }
   ],
   "source": [
    "with open(\"/home/junkhann/daten/mmml_onek1k_all_patients_columns.txt\", mode=\"r\") as columns_file:\n",
    "    columns_list = columns_file.readlines()\n",
    "\n",
    "columns_list = [col.rstrip(\"\\n\") for col in columns_list]\n",
    "\n",
    "columns_list[1] = \"pos\"\n",
    "columns_list"
   ]
  },
  {
   "cell_type": "code",
   "execution_count": 3,
   "metadata": {},
   "outputs": [
    {
     "data": {
      "text/plain": [
       "3210733"
      ]
     },
     "execution_count": 3,
     "metadata": {},
     "output_type": "execute_result"
    }
   ],
   "source": [
    "df = pd.read_csv(\"/home/junkhann/daten/LOH_positions.vcf.gz\", sep=\"\\t\", compression=\"gzip\", header=None, names=columns_list, low_memory=False)\n",
    "df = df.drop(columns=[\"position_dummy\", \"POS_DUMMY\", \"#CHR\", \"POS\"])\n",
    "len(df)"
   ]
  },
  {
   "cell_type": "code",
   "execution_count": 4,
   "metadata": {},
   "outputs": [
    {
     "data": {
      "text/html": [
       "<div>\n",
       "<style scoped>\n",
       "    .dataframe tbody tr th:only-of-type {\n",
       "        vertical-align: middle;\n",
       "    }\n",
       "\n",
       "    .dataframe tbody tr th {\n",
       "        vertical-align: top;\n",
       "    }\n",
       "\n",
       "    .dataframe thead th {\n",
       "        text-align: right;\n",
       "    }\n",
       "</style>\n",
       "<table border=\"1\" class=\"dataframe\">\n",
       "  <thead>\n",
       "    <tr style=\"text-align: right;\">\n",
       "      <th></th>\n",
       "      <th>#CHROM</th>\n",
       "      <th>pos</th>\n",
       "      <th>REF</th>\n",
       "      <th>ALT</th>\n",
       "      <th>INFO</th>\n",
       "      <th>sample_control</th>\n",
       "      <th>sample_tumor</th>\n",
       "      <th>start</th>\n",
       "      <th>end</th>\n",
       "      <th>genotype</th>\n",
       "      <th>TCN</th>\n",
       "      <th>PID</th>\n",
       "      <th>normal_genotype</th>\n",
       "      <th>tumor_genotype</th>\n",
       "      <th>quality_score</th>\n",
       "      <th>reads_normal</th>\n",
       "      <th>reads_tumor</th>\n",
       "      <th>CELL_TYPE</th>\n",
       "      <th>RSID</th>\n",
       "      <th>GENE</th>\n",
       "      <th>GENE_ID</th>\n",
       "      <th>A1</th>\n",
       "      <th>A2</th>\n",
       "      <th>A2_FREQ_ONEK1K</th>\n",
       "      <th>A2_FREQ_HRC</th>\n",
       "    </tr>\n",
       "  </thead>\n",
       "  <tbody>\n",
       "    <tr>\n",
       "      <th>0</th>\n",
       "      <td>3</td>\n",
       "      <td>116729229</td>\n",
       "      <td>G</td>\n",
       "      <td>A</td>\n",
       "      <td>BRF=0.21;FR=0.25;HP=2;HapScore=1;MGOF=36;MMLQ=...</td>\n",
       "      <td>1/0:-43.07,0,-50.77:4:99:31:14</td>\n",
       "      <td>0/0:0,-6.02,-62.3:36:60:20:0</td>\n",
       "      <td>116664052</td>\n",
       "      <td>116765897</td>\n",
       "      <td>1:0</td>\n",
       "      <td>1.0</td>\n",
       "      <td>4100314</td>\n",
       "      <td>1,1</td>\n",
       "      <td>1,0</td>\n",
       "      <td>99.000000</td>\n",
       "      <td>31</td>\n",
       "      <td>20</td>\n",
       "      <td>CD4 Naive/Central memory T cell</td>\n",
       "      <td>rs4855891</td>\n",
       "      <td>RP11-384F7.1</td>\n",
       "      <td>ENSG00000243276</td>\n",
       "      <td>G</td>\n",
       "      <td>A</td>\n",
       "      <td>0.55131</td>\n",
       "      <td>0.537927</td>\n",
       "    </tr>\n",
       "    <tr>\n",
       "      <th>1</th>\n",
       "      <td>3</td>\n",
       "      <td>116729818</td>\n",
       "      <td>C</td>\n",
       "      <td>T</td>\n",
       "      <td>BRF=0.12;FR=0.25;HP=1;HapScore=1;MGOF=11;MMLQ=...</td>\n",
       "      <td>0/1:-76.15,0,-67.55:7:99:54:27</td>\n",
       "      <td>0/0:0,-8.43,-96.7:11:84:30:0</td>\n",
       "      <td>116664052</td>\n",
       "      <td>116765897</td>\n",
       "      <td>1:0</td>\n",
       "      <td>1.0</td>\n",
       "      <td>4100314</td>\n",
       "      <td>1,1</td>\n",
       "      <td>1,0</td>\n",
       "      <td>99.000000</td>\n",
       "      <td>54</td>\n",
       "      <td>30</td>\n",
       "      <td>CD4 Naive/Central memory T cell</td>\n",
       "      <td>rs4855909</td>\n",
       "      <td>RP11-384F7.1</td>\n",
       "      <td>ENSG00000243276</td>\n",
       "      <td>C</td>\n",
       "      <td>T</td>\n",
       "      <td>0.54896</td>\n",
       "      <td>0.523437</td>\n",
       "    </tr>\n",
       "    <tr>\n",
       "      <th>2</th>\n",
       "      <td>3</td>\n",
       "      <td>116737017</td>\n",
       "      <td>T</td>\n",
       "      <td>G</td>\n",
       "      <td>BRF=0.2;FR=0.25;HP=1;HapScore=1;MGOF=19;MMLQ=3...</td>\n",
       "      <td>1/0:-55.47,0,-39.37:19:99:35:18</td>\n",
       "      <td>0/0:0,-5.72,-69.5:12:57:20:0</td>\n",
       "      <td>116664052</td>\n",
       "      <td>116765897</td>\n",
       "      <td>1:0</td>\n",
       "      <td>1.0</td>\n",
       "      <td>4100314</td>\n",
       "      <td>1,1</td>\n",
       "      <td>1,0</td>\n",
       "      <td>99.000000</td>\n",
       "      <td>35</td>\n",
       "      <td>20</td>\n",
       "      <td>CD4 Naive/Central memory T cell</td>\n",
       "      <td>rs2868485</td>\n",
       "      <td>RP11-384F7.1</td>\n",
       "      <td>ENSG00000243276</td>\n",
       "      <td>T</td>\n",
       "      <td>G</td>\n",
       "      <td>0.72818</td>\n",
       "      <td>0.715353</td>\n",
       "    </tr>\n",
       "    <tr>\n",
       "      <th>3</th>\n",
       "      <td>3</td>\n",
       "      <td>116753833</td>\n",
       "      <td>C</td>\n",
       "      <td>A</td>\n",
       "      <td>BRF=0.17;FR=0.25;HP=1;HapScore=1;MGOF=18;MMLQ=...</td>\n",
       "      <td>1/0:-45.56,0,-73.06:2:99:39:15</td>\n",
       "      <td>0/0:0,-6.32,-71.4:18:63:24:0</td>\n",
       "      <td>116664052</td>\n",
       "      <td>116765897</td>\n",
       "      <td>1:0</td>\n",
       "      <td>1.0</td>\n",
       "      <td>4100314</td>\n",
       "      <td>1,1</td>\n",
       "      <td>1,0</td>\n",
       "      <td>99.000000</td>\n",
       "      <td>39</td>\n",
       "      <td>24</td>\n",
       "      <td>CD4 Naive/Central memory T cell</td>\n",
       "      <td>rs651941</td>\n",
       "      <td>RP11-384F7.1</td>\n",
       "      <td>ENSG00000243276</td>\n",
       "      <td>C</td>\n",
       "      <td>A</td>\n",
       "      <td>0.33303</td>\n",
       "      <td>0.327702</td>\n",
       "    </tr>\n",
       "    <tr>\n",
       "      <th>4</th>\n",
       "      <td>4</td>\n",
       "      <td>189927806</td>\n",
       "      <td>A</td>\n",
       "      <td>G</td>\n",
       "      <td>BRF=0.29;FR=0.2501;HP=3;HapScore=2;MGOF=12;MML...</td>\n",
       "      <td>0/1:-13.92,0,-50.02:12:99:25:8</td>\n",
       "      <td>0/0:0,-2.8,-33.9:8:28:10:0</td>\n",
       "      <td>189519987</td>\n",
       "      <td>190939997</td>\n",
       "      <td>1:0</td>\n",
       "      <td>1.0</td>\n",
       "      <td>4100314</td>\n",
       "      <td>1,1</td>\n",
       "      <td>1,0</td>\n",
       "      <td>51.557951</td>\n",
       "      <td>25</td>\n",
       "      <td>10</td>\n",
       "      <td>Naïve/Immature B Cell</td>\n",
       "      <td>rs4863078</td>\n",
       "      <td>FRG1</td>\n",
       "      <td>ENSG00000109536</td>\n",
       "      <td>A</td>\n",
       "      <td>G</td>\n",
       "      <td>0.12902</td>\n",
       "      <td>0.144780</td>\n",
       "    </tr>\n",
       "  </tbody>\n",
       "</table>\n",
       "</div>"
      ],
      "text/plain": [
       "   #CHROM        pos REF ALT   \n",
       "0       3  116729229   G   A  \\\n",
       "1       3  116729818   C   T   \n",
       "2       3  116737017   T   G   \n",
       "3       3  116753833   C   A   \n",
       "4       4  189927806   A   G   \n",
       "\n",
       "                                                INFO   \n",
       "0  BRF=0.21;FR=0.25;HP=2;HapScore=1;MGOF=36;MMLQ=...  \\\n",
       "1  BRF=0.12;FR=0.25;HP=1;HapScore=1;MGOF=11;MMLQ=...   \n",
       "2  BRF=0.2;FR=0.25;HP=1;HapScore=1;MGOF=19;MMLQ=3...   \n",
       "3  BRF=0.17;FR=0.25;HP=1;HapScore=1;MGOF=18;MMLQ=...   \n",
       "4  BRF=0.29;FR=0.2501;HP=3;HapScore=2;MGOF=12;MML...   \n",
       "\n",
       "                    sample_control                  sample_tumor      start   \n",
       "0   1/0:-43.07,0,-50.77:4:99:31:14  0/0:0,-6.02,-62.3:36:60:20:0  116664052  \\\n",
       "1   0/1:-76.15,0,-67.55:7:99:54:27  0/0:0,-8.43,-96.7:11:84:30:0  116664052   \n",
       "2  1/0:-55.47,0,-39.37:19:99:35:18  0/0:0,-5.72,-69.5:12:57:20:0  116664052   \n",
       "3   1/0:-45.56,0,-73.06:2:99:39:15  0/0:0,-6.32,-71.4:18:63:24:0  116664052   \n",
       "4   0/1:-13.92,0,-50.02:12:99:25:8    0/0:0,-2.8,-33.9:8:28:10:0  189519987   \n",
       "\n",
       "         end genotype  TCN      PID normal_genotype tumor_genotype   \n",
       "0  116765897      1:0  1.0  4100314             1,1            1,0  \\\n",
       "1  116765897      1:0  1.0  4100314             1,1            1,0   \n",
       "2  116765897      1:0  1.0  4100314             1,1            1,0   \n",
       "3  116765897      1:0  1.0  4100314             1,1            1,0   \n",
       "4  190939997      1:0  1.0  4100314             1,1            1,0   \n",
       "\n",
       "   quality_score  reads_normal  reads_tumor                        CELL_TYPE   \n",
       "0      99.000000            31           20  CD4 Naive/Central memory T cell  \\\n",
       "1      99.000000            54           30  CD4 Naive/Central memory T cell   \n",
       "2      99.000000            35           20  CD4 Naive/Central memory T cell   \n",
       "3      99.000000            39           24  CD4 Naive/Central memory T cell   \n",
       "4      51.557951            25           10            Naïve/Immature B Cell   \n",
       "\n",
       "        RSID          GENE          GENE_ID A1 A2  A2_FREQ_ONEK1K  A2_FREQ_HRC  \n",
       "0  rs4855891  RP11-384F7.1  ENSG00000243276  G  A         0.55131     0.537927  \n",
       "1  rs4855909  RP11-384F7.1  ENSG00000243276  C  T         0.54896     0.523437  \n",
       "2  rs2868485  RP11-384F7.1  ENSG00000243276  T  G         0.72818     0.715353  \n",
       "3   rs651941  RP11-384F7.1  ENSG00000243276  C  A         0.33303     0.327702  \n",
       "4  rs4863078          FRG1  ENSG00000109536  A  G         0.12902     0.144780  "
      ]
     },
     "execution_count": 4,
     "metadata": {},
     "output_type": "execute_result"
    }
   ],
   "source": [
    "df.head()"
   ]
  },
  {
   "cell_type": "code",
   "execution_count": 5,
   "metadata": {},
   "outputs": [],
   "source": [
    "df[\"position_code\"] = df[\"#CHROM\"].astype(\"str\") + \"-\" + df[\"pos\"].astype(\"str\")"
   ]
  },
  {
   "cell_type": "code",
   "execution_count": 7,
   "metadata": {},
   "outputs": [
    {
     "data": {
      "text/plain": [
       "225485"
      ]
     },
     "execution_count": 7,
     "metadata": {},
     "output_type": "execute_result"
    }
   ],
   "source": [
    "no_distinct_positions = df[\"position_code\"].nunique()\n",
    "no_distinct_positions"
   ]
  },
  {
   "cell_type": "code",
   "execution_count": 8,
   "metadata": {},
   "outputs": [
    {
     "data": {
      "text/plain": [
       "22"
      ]
     },
     "execution_count": 8,
     "metadata": {},
     "output_type": "execute_result"
    }
   ],
   "source": [
    "df[\"#CHROM\"].nunique()"
   ]
  },
  {
   "cell_type": "code",
   "execution_count": 9,
   "metadata": {},
   "outputs": [
    {
     "data": {
      "text/plain": [
       "209"
      ]
     },
     "execution_count": 9,
     "metadata": {},
     "output_type": "execute_result"
    }
   ],
   "source": [
    "no_distinct_patients = df[\"PID\"].nunique()\n",
    "no_distinct_patients"
   ]
  },
  {
   "cell_type": "code",
   "execution_count": 10,
   "metadata": {},
   "outputs": [
    {
     "data": {
      "text/plain": [
       "237932"
      ]
     },
     "execution_count": 10,
     "metadata": {},
     "output_type": "execute_result"
    }
   ],
   "source": [
    "unique_combinations = len(df.drop_duplicates(['PID','position_code']).index)\n",
    "unique_combinations"
   ]
  },
  {
   "attachments": {},
   "cell_type": "markdown",
   "metadata": {},
   "source": [
    "Aggregate CELL_TYPE, GENE and GENE_ID"
   ]
  },
  {
   "cell_type": "code",
   "execution_count": 11,
   "metadata": {},
   "outputs": [
    {
     "data": {
      "text/plain": [
       "Index(['#CHROM', 'pos', 'REF', 'ALT', 'INFO', 'sample_control', 'sample_tumor',\n",
       "       'start', 'end', 'genotype', 'TCN', 'PID', 'normal_genotype',\n",
       "       'tumor_genotype', 'quality_score', 'reads_normal', 'reads_tumor',\n",
       "       'CELL_TYPE', 'RSID', 'GENE', 'GENE_ID', 'A1', 'A2', 'A2_FREQ_ONEK1K',\n",
       "       'A2_FREQ_HRC', 'position_code'],\n",
       "      dtype='object')"
      ]
     },
     "execution_count": 11,
     "metadata": {},
     "output_type": "execute_result"
    }
   ],
   "source": [
    "df.columns"
   ]
  },
  {
   "cell_type": "code",
   "execution_count": 12,
   "metadata": {},
   "outputs": [
    {
     "data": {
      "text/plain": [
       "237932"
      ]
     },
     "execution_count": 12,
     "metadata": {},
     "output_type": "execute_result"
    }
   ],
   "source": [
    "df_unique = df.groupby([\"#CHROM\", \"pos\", \"PID\"]).agg({'#CHROM': \"first\", 'pos': \"first\", 'REF': \"first\", 'ALT': \"first\", 'INFO': \"first\", 'sample_control': \"first\", 'sample_tumor': \"first\",\n",
    "       'start': \"first\", 'end': \"first\", 'genotype': \"first\", 'TCN': \"first\", 'PID': \"first\", 'normal_genotype': \"first\",\n",
    "       'tumor_genotype': \"first\", 'quality_score': \"first\", 'reads_normal': \"first\", 'reads_tumor': \"first\",\n",
    "       'CELL_TYPE': lambda x: ','.join(x), 'RSID': \"first\", 'GENE': lambda x: set(x), 'GENE_ID': lambda x: set(x), 'A1': \"first\", 'A2': \"first\", 'A2_FREQ_ONEK1K': \"first\",\n",
    "       'A2_FREQ_HRC': \"first\", 'position_code': \"first\"}).reset_index(drop=True)\n",
    "len(df_unique)"
   ]
  },
  {
   "cell_type": "code",
   "execution_count": 13,
   "metadata": {},
   "outputs": [
    {
     "data": {
      "text/html": [
       "<div>\n",
       "<style scoped>\n",
       "    .dataframe tbody tr th:only-of-type {\n",
       "        vertical-align: middle;\n",
       "    }\n",
       "\n",
       "    .dataframe tbody tr th {\n",
       "        vertical-align: top;\n",
       "    }\n",
       "\n",
       "    .dataframe thead th {\n",
       "        text-align: right;\n",
       "    }\n",
       "</style>\n",
       "<table border=\"1\" class=\"dataframe\">\n",
       "  <thead>\n",
       "    <tr style=\"text-align: right;\">\n",
       "      <th></th>\n",
       "      <th>#CHROM</th>\n",
       "      <th>pos</th>\n",
       "      <th>REF</th>\n",
       "      <th>ALT</th>\n",
       "      <th>INFO</th>\n",
       "      <th>sample_control</th>\n",
       "      <th>sample_tumor</th>\n",
       "      <th>start</th>\n",
       "      <th>end</th>\n",
       "      <th>genotype</th>\n",
       "      <th>TCN</th>\n",
       "      <th>PID</th>\n",
       "      <th>normal_genotype</th>\n",
       "      <th>tumor_genotype</th>\n",
       "      <th>quality_score</th>\n",
       "      <th>reads_normal</th>\n",
       "      <th>reads_tumor</th>\n",
       "      <th>CELL_TYPE</th>\n",
       "      <th>RSID</th>\n",
       "      <th>GENE</th>\n",
       "      <th>GENE_ID</th>\n",
       "      <th>A1</th>\n",
       "      <th>A2</th>\n",
       "      <th>A2_FREQ_ONEK1K</th>\n",
       "      <th>A2_FREQ_HRC</th>\n",
       "      <th>position_code</th>\n",
       "    </tr>\n",
       "  </thead>\n",
       "  <tbody>\n",
       "    <tr>\n",
       "      <th>0</th>\n",
       "      <td>1</td>\n",
       "      <td>842013</td>\n",
       "      <td>T</td>\n",
       "      <td>G</td>\n",
       "      <td>BRF=0.19;FR=0.25;HP=4;HapScore=1;MGOF=21;MMLQ=...</td>\n",
       "      <td>1/0:-36.89,0,-58.19:21:99:33:13</td>\n",
       "      <td>0/0:0,-5.07,-54.5:0:51:18:0</td>\n",
       "      <td>840009</td>\n",
       "      <td>12839977</td>\n",
       "      <td>2:0</td>\n",
       "      <td>2.0</td>\n",
       "      <td>4134434</td>\n",
       "      <td>1,1</td>\n",
       "      <td>2,0</td>\n",
       "      <td>99.000000</td>\n",
       "      <td>33</td>\n",
       "      <td>18</td>\n",
       "      <td>Naïve/Immature B Cell,Memory B Cell,CD4 Effect...</td>\n",
       "      <td>rs7419119</td>\n",
       "      <td>{UBE2J2}</td>\n",
       "      <td>{ENSG00000160087}</td>\n",
       "      <td>T</td>\n",
       "      <td>G</td>\n",
       "      <td>0.21688</td>\n",
       "      <td>0.212812</td>\n",
       "      <td>1-842013</td>\n",
       "    </tr>\n",
       "    <tr>\n",
       "      <th>1</th>\n",
       "      <td>1</td>\n",
       "      <td>846398</td>\n",
       "      <td>G</td>\n",
       "      <td>A</td>\n",
       "      <td>BRF=0.44;FR=0.25;HP=3;HapScore=1;MGOF=29;MMLQ=...</td>\n",
       "      <td>1/0:-23.69,0,-17.99:29:99:15:8</td>\n",
       "      <td>0/0:0,-5.12,-66.2:21:51:18:0</td>\n",
       "      <td>840009</td>\n",
       "      <td>12839977</td>\n",
       "      <td>2:0</td>\n",
       "      <td>2.0</td>\n",
       "      <td>4183136</td>\n",
       "      <td>1,1</td>\n",
       "      <td>2,0</td>\n",
       "      <td>60.703590</td>\n",
       "      <td>15</td>\n",
       "      <td>18</td>\n",
       "      <td>Naïve/Immature B Cell,Memory B Cell,CD4 Effect...</td>\n",
       "      <td>rs58781670</td>\n",
       "      <td>{UBE2J2}</td>\n",
       "      <td>{ENSG00000160087}</td>\n",
       "      <td>G</td>\n",
       "      <td>A</td>\n",
       "      <td>0.20774</td>\n",
       "      <td>0.216970</td>\n",
       "      <td>1-846398</td>\n",
       "    </tr>\n",
       "    <tr>\n",
       "      <th>2</th>\n",
       "      <td>1</td>\n",
       "      <td>848445</td>\n",
       "      <td>G</td>\n",
       "      <td>A</td>\n",
       "      <td>BRF=0.49;FR=0.254;HP=2;HapScore=3;MGOF=3;MMLQ=...</td>\n",
       "      <td>1/0:-20.1,0,-34.3:3:99:15:5</td>\n",
       "      <td>0/0:0,-1.56,-51.1:2:16:16:0</td>\n",
       "      <td>840009</td>\n",
       "      <td>12839977</td>\n",
       "      <td>2:0</td>\n",
       "      <td>2.0</td>\n",
       "      <td>4183136</td>\n",
       "      <td>1,1</td>\n",
       "      <td>2,0</td>\n",
       "      <td>53.958747</td>\n",
       "      <td>15</td>\n",
       "      <td>16</td>\n",
       "      <td>Naïve/Immature B Cell,Memory B Cell,CD4 Effect...</td>\n",
       "      <td>rs4626817</td>\n",
       "      <td>{UBE2J2}</td>\n",
       "      <td>{ENSG00000160087}</td>\n",
       "      <td>G</td>\n",
       "      <td>A</td>\n",
       "      <td>0.20797</td>\n",
       "      <td>0.210548</td>\n",
       "      <td>1-848445</td>\n",
       "    </tr>\n",
       "    <tr>\n",
       "      <th>3</th>\n",
       "      <td>1</td>\n",
       "      <td>850780</td>\n",
       "      <td>C</td>\n",
       "      <td>T</td>\n",
       "      <td>BRF=0.17;FR=0.25;HP=1;HapScore=1;MGOF=4;MMLQ=2...</td>\n",
       "      <td>0/1:-55.58,0,-49.58:4:99:46:23</td>\n",
       "      <td>0/0:0,-6.32,-76.5:1:63:25:0</td>\n",
       "      <td>840009</td>\n",
       "      <td>12839977</td>\n",
       "      <td>2:0</td>\n",
       "      <td>2.0</td>\n",
       "      <td>4149246</td>\n",
       "      <td>1,1</td>\n",
       "      <td>2,0</td>\n",
       "      <td>99.000000</td>\n",
       "      <td>46</td>\n",
       "      <td>25</td>\n",
       "      <td>Naïve/Immature B Cell,Memory B Cell,CD4 Effect...</td>\n",
       "      <td>rs6657440</td>\n",
       "      <td>{UBE2J2}</td>\n",
       "      <td>{ENSG00000160087}</td>\n",
       "      <td>C</td>\n",
       "      <td>T</td>\n",
       "      <td>0.60181</td>\n",
       "      <td>0.602125</td>\n",
       "      <td>1-850780</td>\n",
       "    </tr>\n",
       "    <tr>\n",
       "      <th>4</th>\n",
       "      <td>1</td>\n",
       "      <td>851190</td>\n",
       "      <td>G</td>\n",
       "      <td>A</td>\n",
       "      <td>BRF=0.29;FR=0.2501;HP=1;HapScore=1;MGOF=4;MMLQ...</td>\n",
       "      <td>1/0:-42.59,0,-62.89:2:99:30:12</td>\n",
       "      <td>0/0:0,-3.12,-73.7:4:31:20:0</td>\n",
       "      <td>840009</td>\n",
       "      <td>12839977</td>\n",
       "      <td>2:0</td>\n",
       "      <td>2.0</td>\n",
       "      <td>4176325</td>\n",
       "      <td>1,1</td>\n",
       "      <td>2,0</td>\n",
       "      <td>86.359655</td>\n",
       "      <td>30</td>\n",
       "      <td>20</td>\n",
       "      <td>Naïve/Immature B Cell,Memory B Cell,CD4 Effect...</td>\n",
       "      <td>rs28609852</td>\n",
       "      <td>{UBE2J2}</td>\n",
       "      <td>{ENSG00000160087}</td>\n",
       "      <td>G</td>\n",
       "      <td>A</td>\n",
       "      <td>0.21290</td>\n",
       "      <td>0.213474</td>\n",
       "      <td>1-851190</td>\n",
       "    </tr>\n",
       "  </tbody>\n",
       "</table>\n",
       "</div>"
      ],
      "text/plain": [
       "   #CHROM     pos REF ALT                                               INFO   \n",
       "0       1  842013   T   G  BRF=0.19;FR=0.25;HP=4;HapScore=1;MGOF=21;MMLQ=...  \\\n",
       "1       1  846398   G   A  BRF=0.44;FR=0.25;HP=3;HapScore=1;MGOF=29;MMLQ=...   \n",
       "2       1  848445   G   A  BRF=0.49;FR=0.254;HP=2;HapScore=3;MGOF=3;MMLQ=...   \n",
       "3       1  850780   C   T  BRF=0.17;FR=0.25;HP=1;HapScore=1;MGOF=4;MMLQ=2...   \n",
       "4       1  851190   G   A  BRF=0.29;FR=0.2501;HP=1;HapScore=1;MGOF=4;MMLQ...   \n",
       "\n",
       "                    sample_control                  sample_tumor   start   \n",
       "0  1/0:-36.89,0,-58.19:21:99:33:13   0/0:0,-5.07,-54.5:0:51:18:0  840009  \\\n",
       "1   1/0:-23.69,0,-17.99:29:99:15:8  0/0:0,-5.12,-66.2:21:51:18:0  840009   \n",
       "2      1/0:-20.1,0,-34.3:3:99:15:5   0/0:0,-1.56,-51.1:2:16:16:0  840009   \n",
       "3   0/1:-55.58,0,-49.58:4:99:46:23   0/0:0,-6.32,-76.5:1:63:25:0  840009   \n",
       "4   1/0:-42.59,0,-62.89:2:99:30:12   0/0:0,-3.12,-73.7:4:31:20:0  840009   \n",
       "\n",
       "        end genotype  TCN      PID normal_genotype tumor_genotype   \n",
       "0  12839977      2:0  2.0  4134434             1,1            2,0  \\\n",
       "1  12839977      2:0  2.0  4183136             1,1            2,0   \n",
       "2  12839977      2:0  2.0  4183136             1,1            2,0   \n",
       "3  12839977      2:0  2.0  4149246             1,1            2,0   \n",
       "4  12839977      2:0  2.0  4176325             1,1            2,0   \n",
       "\n",
       "   quality_score  reads_normal  reads_tumor   \n",
       "0      99.000000            33           18  \\\n",
       "1      60.703590            15           18   \n",
       "2      53.958747            15           16   \n",
       "3      99.000000            46           25   \n",
       "4      86.359655            30           20   \n",
       "\n",
       "                                           CELL_TYPE        RSID      GENE   \n",
       "0  Naïve/Immature B Cell,Memory B Cell,CD4 Effect...   rs7419119  {UBE2J2}  \\\n",
       "1  Naïve/Immature B Cell,Memory B Cell,CD4 Effect...  rs58781670  {UBE2J2}   \n",
       "2  Naïve/Immature B Cell,Memory B Cell,CD4 Effect...   rs4626817  {UBE2J2}   \n",
       "3  Naïve/Immature B Cell,Memory B Cell,CD4 Effect...   rs6657440  {UBE2J2}   \n",
       "4  Naïve/Immature B Cell,Memory B Cell,CD4 Effect...  rs28609852  {UBE2J2}   \n",
       "\n",
       "             GENE_ID A1 A2  A2_FREQ_ONEK1K  A2_FREQ_HRC position_code  \n",
       "0  {ENSG00000160087}  T  G         0.21688     0.212812      1-842013  \n",
       "1  {ENSG00000160087}  G  A         0.20774     0.216970      1-846398  \n",
       "2  {ENSG00000160087}  G  A         0.20797     0.210548      1-848445  \n",
       "3  {ENSG00000160087}  C  T         0.60181     0.602125      1-850780  \n",
       "4  {ENSG00000160087}  G  A         0.21290     0.213474      1-851190  "
      ]
     },
     "execution_count": 13,
     "metadata": {},
     "output_type": "execute_result"
    }
   ],
   "source": [
    "df_unique.head()"
   ]
  },
  {
   "attachments": {},
   "cell_type": "markdown",
   "metadata": {},
   "source": [
    "Check genotype fields"
   ]
  },
  {
   "cell_type": "code",
   "execution_count": 14,
   "metadata": {},
   "outputs": [
    {
     "data": {
      "text/plain": [
       "normal_genotype\n",
       "1,1    237932\n",
       "Name: count, dtype: int64"
      ]
     },
     "execution_count": 14,
     "metadata": {},
     "output_type": "execute_result"
    }
   ],
   "source": [
    "df_unique[\"normal_genotype\"].value_counts()"
   ]
  },
  {
   "cell_type": "code",
   "execution_count": 15,
   "metadata": {},
   "outputs": [
    {
     "data": {
      "text/plain": [
       "tumor_genotype\n",
       "1,0    108535\n",
       "2,0    105829\n",
       "4,0     15893\n",
       "3,0      5761\n",
       "5,0       750\n",
       "0,1       613\n",
       "6,0       508\n",
       "0,2        37\n",
       "0,3         4\n",
       "8,0         1\n",
       "0,4         1\n",
       "Name: count, dtype: int64"
      ]
     },
     "execution_count": 15,
     "metadata": {},
     "output_type": "execute_result"
    }
   ],
   "source": [
    "df_unique[\"tumor_genotype\"].value_counts()"
   ]
  },
  {
   "attachments": {},
   "cell_type": "markdown",
   "metadata": {},
   "source": [
    "Check equality of REF - ALT and A1 - A2"
   ]
  },
  {
   "cell_type": "code",
   "execution_count": 16,
   "metadata": {},
   "outputs": [],
   "source": [
    "df_unique[\"_equal\"] = (df_unique[\"REF\"] == df_unique[\"A1\"]) & (df_unique[\"ALT\"] == df_unique[\"A2\"])"
   ]
  },
  {
   "cell_type": "code",
   "execution_count": 17,
   "metadata": {},
   "outputs": [
    {
     "data": {
      "text/plain": [
       "_equal\n",
       "True     235331\n",
       "False      2601\n",
       "Name: count, dtype: int64"
      ]
     },
     "execution_count": 17,
     "metadata": {},
     "output_type": "execute_result"
    }
   ],
   "source": [
    "df_unique[\"_equal\"].value_counts()"
   ]
  },
  {
   "cell_type": "code",
   "execution_count": 18,
   "metadata": {},
   "outputs": [
    {
     "data": {
      "text/plain": [
       "235331"
      ]
     },
     "execution_count": 18,
     "metadata": {},
     "output_type": "execute_result"
    }
   ],
   "source": [
    "df_unique = df_unique[df_unique[\"_equal\"] == True]\n",
    "df_unique = df_unique.drop(columns=\"_equal\")\n",
    "len(df_unique)"
   ]
  },
  {
   "attachments": {},
   "cell_type": "markdown",
   "metadata": {},
   "source": [
    "Check number of different ALT alleles per position"
   ]
  },
  {
   "cell_type": "code",
   "execution_count": 19,
   "metadata": {},
   "outputs": [],
   "source": [
    "def count_unique_alt_alleles(df_pos: pd.DataFrame, d: dict):\n",
    "    alt_alleles = df_pos[\"ALT\"].nunique()\n",
    "    pos = df_pos.name\n",
    "    d[pos] = alt_alleles"
   ]
  },
  {
   "cell_type": "code",
   "execution_count": 20,
   "metadata": {},
   "outputs": [
    {
     "data": {
      "text/html": [
       "<div>\n",
       "<style scoped>\n",
       "    .dataframe tbody tr th:only-of-type {\n",
       "        vertical-align: middle;\n",
       "    }\n",
       "\n",
       "    .dataframe tbody tr th {\n",
       "        vertical-align: top;\n",
       "    }\n",
       "\n",
       "    .dataframe thead th {\n",
       "        text-align: right;\n",
       "    }\n",
       "</style>\n",
       "<table border=\"1\" class=\"dataframe\">\n",
       "  <thead>\n",
       "    <tr style=\"text-align: right;\">\n",
       "      <th></th>\n",
       "    </tr>\n",
       "  </thead>\n",
       "  <tbody>\n",
       "  </tbody>\n",
       "</table>\n",
       "</div>"
      ],
      "text/plain": [
       "Empty DataFrame\n",
       "Columns: []\n",
       "Index: []"
      ]
     },
     "execution_count": 20,
     "metadata": {},
     "output_type": "execute_result"
    }
   ],
   "source": [
    "count_dict = {}\n",
    "df_unique.groupby(\"position_code\").apply(count_unique_alt_alleles, count_dict) "
   ]
  },
  {
   "cell_type": "code",
   "execution_count": 21,
   "metadata": {},
   "outputs": [
    {
     "data": {
      "text/plain": [
       "{1}"
      ]
     },
     "execution_count": 21,
     "metadata": {},
     "output_type": "execute_result"
    }
   ],
   "source": [
    "set(count_dict.values())"
   ]
  },
  {
   "attachments": {},
   "cell_type": "markdown",
   "metadata": {},
   "source": [
    "Write to file"
   ]
  },
  {
   "cell_type": "code",
   "execution_count": 22,
   "metadata": {},
   "outputs": [],
   "source": [
    "df_unique.to_csv(f\"/home/junkhann/daten/LOH_positions_aggregated.tsv.gz\", sep=\"\\t\", header=True, index=False, compression=\"gzip\")"
   ]
  }
 ],
 "metadata": {
  "kernelspec": {
   "display_name": ".venv",
   "language": "python",
   "name": "python3"
  },
  "language_info": {
   "codemirror_mode": {
    "name": "ipython",
    "version": 3
   },
   "file_extension": ".py",
   "mimetype": "text/x-python",
   "name": "python",
   "nbconvert_exporter": "python",
   "pygments_lexer": "ipython3",
   "version": "3.10.6"
  },
  "orig_nbformat": 4
 },
 "nbformat": 4,
 "nbformat_minor": 2
}

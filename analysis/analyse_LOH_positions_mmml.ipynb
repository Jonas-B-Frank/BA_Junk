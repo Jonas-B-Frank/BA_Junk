{
 "cells": [
  {
   "cell_type": "code",
   "execution_count": 1,
   "metadata": {},
   "outputs": [],
   "source": [
    "import gzip\n",
    "\n",
    "import pandas as pd\n",
    "\n",
    "pd.set_option(\"display.max_columns\", None)"
   ]
  },
  {
   "attachments": {},
   "cell_type": "markdown",
   "metadata": {},
   "source": [
    "Read LOH positions"
   ]
  },
  {
   "cell_type": "code",
   "execution_count": 2,
   "metadata": {},
   "outputs": [
    {
     "data": {
      "text/plain": [
       "['#CHROM',\n",
       " 'pos',\n",
       " 'position_dummy',\n",
       " 'REF',\n",
       " 'ALT',\n",
       " 'INFO',\n",
       " 'sample_control',\n",
       " 'sample_tumor',\n",
       " 'start',\n",
       " 'end',\n",
       " 'genotype',\n",
       " 'TCN',\n",
       " 'PID',\n",
       " 'normal_genotype',\n",
       " 'tumor_genotype',\n",
       " 'quality_score',\n",
       " 'reads_normal',\n",
       " 'reads_tumor']"
      ]
     },
     "execution_count": 2,
     "metadata": {},
     "output_type": "execute_result"
    }
   ],
   "source": [
    "with open(\"../mmml_onek1k_all_patients_columns.txt\", mode=\"rt\") as columns_file:\n",
    "    columns_list = columns_file.readlines()\n",
    "\n",
    "columns_list = [col.rstrip(\"\\n\") for col in columns_list]\n",
    "\n",
    "columns_list[1] = \"pos\"\n",
    "columns_list = columns_list[0:18]\n",
    "columns_list"
   ]
  },
  {
   "cell_type": "code",
   "execution_count": 3,
   "metadata": {},
   "outputs": [
    {
     "data": {
      "text/plain": [
       "28270385"
      ]
     },
     "execution_count": 3,
     "metadata": {},
     "output_type": "execute_result"
    }
   ],
   "source": [
    "df = pd.read_csv(\"../LOH_positions_mmml.vcf.gz\", sep=\"\\t\", header=None, names=columns_list, compression=\"gzip\", low_memory=False)\n",
    "len(df)"
   ]
  },
  {
   "cell_type": "code",
   "execution_count": 4,
   "metadata": {},
   "outputs": [
    {
     "data": {
      "text/html": [
       "<div>\n",
       "<style scoped>\n",
       "    .dataframe tbody tr th:only-of-type {\n",
       "        vertical-align: middle;\n",
       "    }\n",
       "\n",
       "    .dataframe tbody tr th {\n",
       "        vertical-align: top;\n",
       "    }\n",
       "\n",
       "    .dataframe thead th {\n",
       "        text-align: right;\n",
       "    }\n",
       "</style>\n",
       "<table border=\"1\" class=\"dataframe\">\n",
       "  <thead>\n",
       "    <tr style=\"text-align: right;\">\n",
       "      <th></th>\n",
       "      <th>#CHROM</th>\n",
       "      <th>pos</th>\n",
       "      <th>position_dummy</th>\n",
       "      <th>REF</th>\n",
       "      <th>ALT</th>\n",
       "      <th>INFO</th>\n",
       "      <th>sample_control</th>\n",
       "      <th>sample_tumor</th>\n",
       "      <th>start</th>\n",
       "      <th>end</th>\n",
       "      <th>genotype</th>\n",
       "      <th>TCN</th>\n",
       "      <th>PID</th>\n",
       "      <th>normal_genotype</th>\n",
       "      <th>tumor_genotype</th>\n",
       "      <th>quality_score</th>\n",
       "      <th>reads_normal</th>\n",
       "      <th>reads_tumor</th>\n",
       "    </tr>\n",
       "  </thead>\n",
       "  <tbody>\n",
       "    <tr>\n",
       "      <th>0</th>\n",
       "      <td>9</td>\n",
       "      <td>21353407</td>\n",
       "      <td>21353408</td>\n",
       "      <td>G</td>\n",
       "      <td>T</td>\n",
       "      <td>BRF=0.15;FR=0.4997;HP=20;HapScore=1;MGOF=48;MM...</td>\n",
       "      <td>0/1:-3.69,0,-93.84:30:37:34:5</td>\n",
       "      <td>0/1:-3.12,0,-74.9:48:31:29:4</td>\n",
       "      <td>21341573</td>\n",
       "      <td>21731170</td>\n",
       "      <td>1:0</td>\n",
       "      <td>1.0</td>\n",
       "      <td>4100049</td>\n",
       "      <td>1,1</td>\n",
       "      <td>1,0</td>\n",
       "      <td>95.745711</td>\n",
       "      <td>34.0</td>\n",
       "      <td>29</td>\n",
       "    </tr>\n",
       "    <tr>\n",
       "      <th>1</th>\n",
       "      <td>9</td>\n",
       "      <td>21361365</td>\n",
       "      <td>21361366</td>\n",
       "      <td>T</td>\n",
       "      <td>A</td>\n",
       "      <td>BRF=0.16;FR=0.5;HP=2;HapScore=3;MGOF=43;MMLQ=3...</td>\n",
       "      <td>1/0:-34.53,0,-35.16:38:99:49:10</td>\n",
       "      <td>1/0:-5.09,0,-30.15:43:51:27:2</td>\n",
       "      <td>21341573</td>\n",
       "      <td>21731170</td>\n",
       "      <td>1:0</td>\n",
       "      <td>1.0</td>\n",
       "      <td>4100049</td>\n",
       "      <td>1,1</td>\n",
       "      <td>1,0</td>\n",
       "      <td>99.000000</td>\n",
       "      <td>49.0</td>\n",
       "      <td>27</td>\n",
       "    </tr>\n",
       "    <tr>\n",
       "      <th>2</th>\n",
       "      <td>9</td>\n",
       "      <td>21361367</td>\n",
       "      <td>21361368</td>\n",
       "      <td>A</td>\n",
       "      <td>T</td>\n",
       "      <td>BRF=0.16;FR=0.5;HP=2;HapScore=3;MGOF=43;MMLQ=3...</td>\n",
       "      <td>1/0:-26.24,0,-48.75:38:99:49:8</td>\n",
       "      <td>1/0:-5.09,0,-39.67:43:51:27:1</td>\n",
       "      <td>21341573</td>\n",
       "      <td>21731170</td>\n",
       "      <td>1:0</td>\n",
       "      <td>1.0</td>\n",
       "      <td>4100049</td>\n",
       "      <td>1,1</td>\n",
       "      <td>1,0</td>\n",
       "      <td>99.000000</td>\n",
       "      <td>49.0</td>\n",
       "      <td>27</td>\n",
       "    </tr>\n",
       "    <tr>\n",
       "      <th>3</th>\n",
       "      <td>9</td>\n",
       "      <td>21376039</td>\n",
       "      <td>21376040</td>\n",
       "      <td>T</td>\n",
       "      <td>C</td>\n",
       "      <td>BRF=0.09;FR=0.5;HP=2;HapScore=1;MGOF=7;MMLQ=42...</td>\n",
       "      <td>1/0:-77.69,0,-82.49:6:99:48:23</td>\n",
       "      <td>1/0:-61.18,0,-6.38:7:64:24:20</td>\n",
       "      <td>21341573</td>\n",
       "      <td>21731170</td>\n",
       "      <td>1:0</td>\n",
       "      <td>1.0</td>\n",
       "      <td>4100049</td>\n",
       "      <td>1,1</td>\n",
       "      <td>0,1</td>\n",
       "      <td>72.949113</td>\n",
       "      <td>48.0</td>\n",
       "      <td>24</td>\n",
       "    </tr>\n",
       "    <tr>\n",
       "      <th>4</th>\n",
       "      <td>9</td>\n",
       "      <td>21395908</td>\n",
       "      <td>21395909</td>\n",
       "      <td>T</td>\n",
       "      <td>C</td>\n",
       "      <td>BRF=0.34;FR=0.5;HP=4;HapScore=2;MGOF=14;MMLQ=3...</td>\n",
       "      <td>1/0:-61.8,0,-61.4:7:99:37:18</td>\n",
       "      <td>1/0:-22.98,0,-54.38:14:99:27:10</td>\n",
       "      <td>21341573</td>\n",
       "      <td>21731170</td>\n",
       "      <td>1:0</td>\n",
       "      <td>1.0</td>\n",
       "      <td>4100049</td>\n",
       "      <td>1,1</td>\n",
       "      <td>1,0</td>\n",
       "      <td>31.915237</td>\n",
       "      <td>37.0</td>\n",
       "      <td>27</td>\n",
       "    </tr>\n",
       "  </tbody>\n",
       "</table>\n",
       "</div>"
      ],
      "text/plain": [
       "   #CHROM       pos  position_dummy REF ALT   \n",
       "0       9  21353407        21353408   G   T  \\\n",
       "1       9  21361365        21361366   T   A   \n",
       "2       9  21361367        21361368   A   T   \n",
       "3       9  21376039        21376040   T   C   \n",
       "4       9  21395908        21395909   T   C   \n",
       "\n",
       "                                                INFO   \n",
       "0  BRF=0.15;FR=0.4997;HP=20;HapScore=1;MGOF=48;MM...  \\\n",
       "1  BRF=0.16;FR=0.5;HP=2;HapScore=3;MGOF=43;MMLQ=3...   \n",
       "2  BRF=0.16;FR=0.5;HP=2;HapScore=3;MGOF=43;MMLQ=3...   \n",
       "3  BRF=0.09;FR=0.5;HP=2;HapScore=1;MGOF=7;MMLQ=42...   \n",
       "4  BRF=0.34;FR=0.5;HP=4;HapScore=2;MGOF=14;MMLQ=3...   \n",
       "\n",
       "                    sample_control                     sample_tumor     start   \n",
       "0    0/1:-3.69,0,-93.84:30:37:34:5     0/1:-3.12,0,-74.9:48:31:29:4  21341573  \\\n",
       "1  1/0:-34.53,0,-35.16:38:99:49:10    1/0:-5.09,0,-30.15:43:51:27:2  21341573   \n",
       "2   1/0:-26.24,0,-48.75:38:99:49:8    1/0:-5.09,0,-39.67:43:51:27:1  21341573   \n",
       "3   1/0:-77.69,0,-82.49:6:99:48:23    1/0:-61.18,0,-6.38:7:64:24:20  21341573   \n",
       "4     1/0:-61.8,0,-61.4:7:99:37:18  1/0:-22.98,0,-54.38:14:99:27:10  21341573   \n",
       "\n",
       "        end genotype  TCN      PID normal_genotype tumor_genotype   \n",
       "0  21731170      1:0  1.0  4100049             1,1            1,0  \\\n",
       "1  21731170      1:0  1.0  4100049             1,1            1,0   \n",
       "2  21731170      1:0  1.0  4100049             1,1            1,0   \n",
       "3  21731170      1:0  1.0  4100049             1,1            0,1   \n",
       "4  21731170      1:0  1.0  4100049             1,1            1,0   \n",
       "\n",
       "   quality_score  reads_normal  reads_tumor  \n",
       "0      95.745711          34.0           29  \n",
       "1      99.000000          49.0           27  \n",
       "2      99.000000          49.0           27  \n",
       "3      72.949113          48.0           24  \n",
       "4      31.915237          37.0           27  "
      ]
     },
     "execution_count": 4,
     "metadata": {},
     "output_type": "execute_result"
    }
   ],
   "source": [
    "df.head()"
   ]
  },
  {
   "cell_type": "code",
   "execution_count": 5,
   "metadata": {},
   "outputs": [],
   "source": [
    "df = df.drop(columns=[\"position_dummy\"])"
   ]
  },
  {
   "attachments": {},
   "cell_type": "markdown",
   "metadata": {},
   "source": [
    "Analyse LOH positions"
   ]
  },
  {
   "cell_type": "code",
   "execution_count": 6,
   "metadata": {},
   "outputs": [],
   "source": [
    "df[\"position_code\"] = df[\"#CHROM\"].astype(str) + \"-\" + df[\"pos\"].astype(str)"
   ]
  },
  {
   "cell_type": "code",
   "execution_count": 7,
   "metadata": {},
   "outputs": [
    {
     "data": {
      "text/plain": [
       "7636988"
      ]
     },
     "execution_count": 7,
     "metadata": {},
     "output_type": "execute_result"
    }
   ],
   "source": [
    "no_distinct_positions = df[\"position_code\"].nunique()\n",
    "no_distinct_positions"
   ]
  },
  {
   "cell_type": "code",
   "execution_count": 8,
   "metadata": {},
   "outputs": [
    {
     "data": {
      "text/plain": [
       "22"
      ]
     },
     "execution_count": 8,
     "metadata": {},
     "output_type": "execute_result"
    }
   ],
   "source": [
    "df[\"#CHROM\"].nunique()"
   ]
  },
  {
   "cell_type": "code",
   "execution_count": 9,
   "metadata": {},
   "outputs": [
    {
     "data": {
      "text/plain": [
       "242"
      ]
     },
     "execution_count": 9,
     "metadata": {},
     "output_type": "execute_result"
    }
   ],
   "source": [
    "no_distinct_patients = df[\"PID\"].nunique()\n",
    "no_distinct_patients"
   ]
  },
  {
   "attachments": {},
   "cell_type": "markdown",
   "metadata": {},
   "source": [
    "Merge position count"
   ]
  },
  {
   "cell_type": "code",
   "execution_count": 10,
   "metadata": {},
   "outputs": [
    {
     "data": {
      "text/plain": [
       "(7636988, 2)"
      ]
     },
     "execution_count": 10,
     "metadata": {},
     "output_type": "execute_result"
    }
   ],
   "source": [
    "ser = pd.read_json(\"../LOH_position_count_mmml_all_patients_extra_columns.json\", typ=\"series\", dtype={str})\n",
    "df_position_count = ser.to_frame(\"position_count\")\n",
    "df_position_count = df_position_count.reset_index(names=\"pos\")\n",
    "df_position_count.shape"
   ]
  },
  {
   "cell_type": "code",
   "execution_count": 11,
   "metadata": {},
   "outputs": [
    {
     "data": {
      "text/html": [
       "<div>\n",
       "<style scoped>\n",
       "    .dataframe tbody tr th:only-of-type {\n",
       "        vertical-align: middle;\n",
       "    }\n",
       "\n",
       "    .dataframe tbody tr th {\n",
       "        vertical-align: top;\n",
       "    }\n",
       "\n",
       "    .dataframe thead th {\n",
       "        text-align: right;\n",
       "    }\n",
       "</style>\n",
       "<table border=\"1\" class=\"dataframe\">\n",
       "  <thead>\n",
       "    <tr style=\"text-align: right;\">\n",
       "      <th></th>\n",
       "      <th>pos</th>\n",
       "      <th>position_count</th>\n",
       "    </tr>\n",
       "  </thead>\n",
       "  <tbody>\n",
       "    <tr>\n",
       "      <th>0</th>\n",
       "      <td>9-21353407</td>\n",
       "      <td>2</td>\n",
       "    </tr>\n",
       "    <tr>\n",
       "      <th>1</th>\n",
       "      <td>9-21361365</td>\n",
       "      <td>16</td>\n",
       "    </tr>\n",
       "    <tr>\n",
       "      <th>2</th>\n",
       "      <td>9-21361367</td>\n",
       "      <td>8</td>\n",
       "    </tr>\n",
       "    <tr>\n",
       "      <th>3</th>\n",
       "      <td>9-21376039</td>\n",
       "      <td>1</td>\n",
       "    </tr>\n",
       "    <tr>\n",
       "      <th>4</th>\n",
       "      <td>9-21395908</td>\n",
       "      <td>1</td>\n",
       "    </tr>\n",
       "  </tbody>\n",
       "</table>\n",
       "</div>"
      ],
      "text/plain": [
       "          pos  position_count\n",
       "0  9-21353407               2\n",
       "1  9-21361365              16\n",
       "2  9-21361367               8\n",
       "3  9-21376039               1\n",
       "4  9-21395908               1"
      ]
     },
     "execution_count": 11,
     "metadata": {},
     "output_type": "execute_result"
    }
   ],
   "source": [
    "df_position_count.head()"
   ]
  },
  {
   "cell_type": "code",
   "execution_count": 12,
   "metadata": {},
   "outputs": [
    {
     "data": {
      "text/plain": [
       "28270385"
      ]
     },
     "execution_count": 12,
     "metadata": {},
     "output_type": "execute_result"
    }
   ],
   "source": [
    "df = df.merge(df_position_count, how=\"inner\", left_on=\"position_code\", right_on=\"pos\")\n",
    "len(df)"
   ]
  },
  {
   "attachments": {},
   "cell_type": "markdown",
   "metadata": {},
   "source": [
    "Set threshold"
   ]
  },
  {
   "cell_type": "code",
   "execution_count": 25,
   "metadata": {},
   "outputs": [
    {
     "data": {
      "text/plain": [
       "3610841"
      ]
     },
     "execution_count": 25,
     "metadata": {},
     "output_type": "execute_result"
    }
   ],
   "source": [
    "threshold = 20\n",
    "df_thresholded = df[df[\"position_count\"] >= threshold]\n",
    "len(df_thresholded)"
   ]
  },
  {
   "attachments": {},
   "cell_type": "markdown",
   "metadata": {},
   "source": [
    "Analyze thresholded dataframe"
   ]
  },
  {
   "cell_type": "code",
   "execution_count": 26,
   "metadata": {},
   "outputs": [
    {
     "data": {
      "text/plain": [
       "237"
      ]
     },
     "execution_count": 26,
     "metadata": {},
     "output_type": "execute_result"
    }
   ],
   "source": [
    "df_thresholded[\"PID\"].nunique()"
   ]
  },
  {
   "cell_type": "code",
   "execution_count": 27,
   "metadata": {},
   "outputs": [
    {
     "data": {
      "text/plain": [
       "12"
      ]
     },
     "execution_count": 27,
     "metadata": {},
     "output_type": "execute_result"
    }
   ],
   "source": [
    "df_thresholded[\"#CHROM\"].nunique()"
   ]
  },
  {
   "cell_type": "code",
   "execution_count": 28,
   "metadata": {},
   "outputs": [
    {
     "data": {
      "text/plain": [
       "array([ 9, 14,  1,  6, 16, 17, 22,  2, 10, 15,  8, 19])"
      ]
     },
     "execution_count": 28,
     "metadata": {},
     "output_type": "execute_result"
    }
   ],
   "source": [
    "df_thresholded[\"#CHROM\"].unique()"
   ]
  },
  {
   "cell_type": "code",
   "execution_count": 29,
   "metadata": {},
   "outputs": [
    {
     "data": {
      "text/plain": [
       "145064"
      ]
     },
     "execution_count": 29,
     "metadata": {},
     "output_type": "execute_result"
    }
   ],
   "source": [
    "df_thresholded[\"position_code\"].nunique()"
   ]
  },
  {
   "attachments": {},
   "cell_type": "markdown",
   "metadata": {},
   "source": [
    "Write to csv"
   ]
  },
  {
   "cell_type": "code",
   "execution_count": 30,
   "metadata": {},
   "outputs": [],
   "source": [
    "df_thresholded.to_csv(f\"../LOH_pos_mmml_thresholded/LOH_positions_threshold_{threshold}.tsv.gz\", sep=\"\\t\", header=True, index=False, compression=\"gzip\")"
   ]
  }
 ],
 "metadata": {
  "kernelspec": {
   "display_name": ".venv",
   "language": "python",
   "name": "python3"
  },
  "language_info": {
   "codemirror_mode": {
    "name": "ipython",
    "version": 3
   },
   "file_extension": ".py",
   "mimetype": "text/x-python",
   "name": "python",
   "nbconvert_exporter": "python",
   "pygments_lexer": "ipython3",
   "version": "3.10.9"
  },
  "orig_nbformat": 4
 },
 "nbformat": 4,
 "nbformat_minor": 2
}

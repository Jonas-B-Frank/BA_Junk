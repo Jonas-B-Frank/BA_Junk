{
 "cells": [
  {
   "cell_type": "code",
   "execution_count": 12,
   "metadata": {},
   "outputs": [],
   "source": [
    "import gzip\n",
    "\n",
    "import pandas as pd\n",
    "\n",
    "pd.set_option(\"display.max_columns\", None)"
   ]
  },
  {
   "attachments": {},
   "cell_type": "markdown",
   "metadata": {},
   "source": [
    "Read LOH positions"
   ]
  },
  {
   "cell_type": "code",
   "execution_count": 13,
   "metadata": {},
   "outputs": [
    {
     "data": {
      "text/plain": [
       "235331"
      ]
     },
     "execution_count": 13,
     "metadata": {},
     "output_type": "execute_result"
    }
   ],
   "source": [
    "df = pd.read_csv(\"/home/junkhann/daten/LOH_positions_aggregated.tsv.gz\", sep=\"\\t\", compression=\"gzip\", low_memory=False)\n",
    "# df = df.drop(columns=[\"\"])\n",
    "len(df)"
   ]
  },
  {
   "cell_type": "code",
   "execution_count": 14,
   "metadata": {},
   "outputs": [
    {
     "data": {
      "text/html": [
       "<div>\n",
       "<style scoped>\n",
       "    .dataframe tbody tr th:only-of-type {\n",
       "        vertical-align: middle;\n",
       "    }\n",
       "\n",
       "    .dataframe tbody tr th {\n",
       "        vertical-align: top;\n",
       "    }\n",
       "\n",
       "    .dataframe thead th {\n",
       "        text-align: right;\n",
       "    }\n",
       "</style>\n",
       "<table border=\"1\" class=\"dataframe\">\n",
       "  <thead>\n",
       "    <tr style=\"text-align: right;\">\n",
       "      <th></th>\n",
       "      <th>#CHROM</th>\n",
       "      <th>pos</th>\n",
       "      <th>REF</th>\n",
       "      <th>ALT</th>\n",
       "      <th>INFO</th>\n",
       "      <th>sample_control</th>\n",
       "      <th>sample_tumor</th>\n",
       "      <th>start</th>\n",
       "      <th>end</th>\n",
       "      <th>genotype</th>\n",
       "      <th>TCN</th>\n",
       "      <th>PID</th>\n",
       "      <th>normal_genotype</th>\n",
       "      <th>tumor_genotype</th>\n",
       "      <th>quality_score</th>\n",
       "      <th>reads_normal</th>\n",
       "      <th>reads_tumor</th>\n",
       "      <th>CELL_TYPE</th>\n",
       "      <th>RSID</th>\n",
       "      <th>GENE</th>\n",
       "      <th>GENE_ID</th>\n",
       "      <th>A1</th>\n",
       "      <th>A2</th>\n",
       "      <th>A2_FREQ_ONEK1K</th>\n",
       "      <th>A2_FREQ_HRC</th>\n",
       "      <th>position_code</th>\n",
       "    </tr>\n",
       "  </thead>\n",
       "  <tbody>\n",
       "    <tr>\n",
       "      <th>0</th>\n",
       "      <td>1</td>\n",
       "      <td>842013</td>\n",
       "      <td>T</td>\n",
       "      <td>G</td>\n",
       "      <td>BRF=0.19;FR=0.25;HP=4;HapScore=1;MGOF=21;MMLQ=...</td>\n",
       "      <td>1/0:-36.89,0,-58.19:21:99:33:13</td>\n",
       "      <td>0/0:0,-5.07,-54.5:0:51:18:0</td>\n",
       "      <td>840009</td>\n",
       "      <td>12839977</td>\n",
       "      <td>2:0</td>\n",
       "      <td>2.0</td>\n",
       "      <td>4134434</td>\n",
       "      <td>1,1</td>\n",
       "      <td>2,0</td>\n",
       "      <td>99.000000</td>\n",
       "      <td>33</td>\n",
       "      <td>18</td>\n",
       "      <td>Naïve/Immature B Cell,Memory B Cell,CD4 Effect...</td>\n",
       "      <td>rs7419119</td>\n",
       "      <td>{'UBE2J2'}</td>\n",
       "      <td>{'ENSG00000160087'}</td>\n",
       "      <td>T</td>\n",
       "      <td>G</td>\n",
       "      <td>0.21688</td>\n",
       "      <td>0.212812</td>\n",
       "      <td>1-842013</td>\n",
       "    </tr>\n",
       "    <tr>\n",
       "      <th>1</th>\n",
       "      <td>1</td>\n",
       "      <td>846398</td>\n",
       "      <td>G</td>\n",
       "      <td>A</td>\n",
       "      <td>BRF=0.44;FR=0.25;HP=3;HapScore=1;MGOF=29;MMLQ=...</td>\n",
       "      <td>1/0:-23.69,0,-17.99:29:99:15:8</td>\n",
       "      <td>0/0:0,-5.12,-66.2:21:51:18:0</td>\n",
       "      <td>840009</td>\n",
       "      <td>12839977</td>\n",
       "      <td>2:0</td>\n",
       "      <td>2.0</td>\n",
       "      <td>4183136</td>\n",
       "      <td>1,1</td>\n",
       "      <td>2,0</td>\n",
       "      <td>60.703590</td>\n",
       "      <td>15</td>\n",
       "      <td>18</td>\n",
       "      <td>Naïve/Immature B Cell,Memory B Cell,CD4 Effect...</td>\n",
       "      <td>rs58781670</td>\n",
       "      <td>{'UBE2J2'}</td>\n",
       "      <td>{'ENSG00000160087'}</td>\n",
       "      <td>G</td>\n",
       "      <td>A</td>\n",
       "      <td>0.20774</td>\n",
       "      <td>0.216970</td>\n",
       "      <td>1-846398</td>\n",
       "    </tr>\n",
       "    <tr>\n",
       "      <th>2</th>\n",
       "      <td>1</td>\n",
       "      <td>848445</td>\n",
       "      <td>G</td>\n",
       "      <td>A</td>\n",
       "      <td>BRF=0.49;FR=0.254;HP=2;HapScore=3;MGOF=3;MMLQ=...</td>\n",
       "      <td>1/0:-20.1,0,-34.3:3:99:15:5</td>\n",
       "      <td>0/0:0,-1.56,-51.1:2:16:16:0</td>\n",
       "      <td>840009</td>\n",
       "      <td>12839977</td>\n",
       "      <td>2:0</td>\n",
       "      <td>2.0</td>\n",
       "      <td>4183136</td>\n",
       "      <td>1,1</td>\n",
       "      <td>2,0</td>\n",
       "      <td>53.958747</td>\n",
       "      <td>15</td>\n",
       "      <td>16</td>\n",
       "      <td>Naïve/Immature B Cell,Memory B Cell,CD4 Effect...</td>\n",
       "      <td>rs4626817</td>\n",
       "      <td>{'UBE2J2'}</td>\n",
       "      <td>{'ENSG00000160087'}</td>\n",
       "      <td>G</td>\n",
       "      <td>A</td>\n",
       "      <td>0.20797</td>\n",
       "      <td>0.210548</td>\n",
       "      <td>1-848445</td>\n",
       "    </tr>\n",
       "    <tr>\n",
       "      <th>3</th>\n",
       "      <td>1</td>\n",
       "      <td>850780</td>\n",
       "      <td>C</td>\n",
       "      <td>T</td>\n",
       "      <td>BRF=0.17;FR=0.25;HP=1;HapScore=1;MGOF=4;MMLQ=2...</td>\n",
       "      <td>0/1:-55.58,0,-49.58:4:99:46:23</td>\n",
       "      <td>0/0:0,-6.32,-76.5:1:63:25:0</td>\n",
       "      <td>840009</td>\n",
       "      <td>12839977</td>\n",
       "      <td>2:0</td>\n",
       "      <td>2.0</td>\n",
       "      <td>4149246</td>\n",
       "      <td>1,1</td>\n",
       "      <td>2,0</td>\n",
       "      <td>99.000000</td>\n",
       "      <td>46</td>\n",
       "      <td>25</td>\n",
       "      <td>Naïve/Immature B Cell,Memory B Cell,CD4 Effect...</td>\n",
       "      <td>rs6657440</td>\n",
       "      <td>{'UBE2J2'}</td>\n",
       "      <td>{'ENSG00000160087'}</td>\n",
       "      <td>C</td>\n",
       "      <td>T</td>\n",
       "      <td>0.60181</td>\n",
       "      <td>0.602125</td>\n",
       "      <td>1-850780</td>\n",
       "    </tr>\n",
       "    <tr>\n",
       "      <th>4</th>\n",
       "      <td>1</td>\n",
       "      <td>851190</td>\n",
       "      <td>G</td>\n",
       "      <td>A</td>\n",
       "      <td>BRF=0.29;FR=0.2501;HP=1;HapScore=1;MGOF=4;MMLQ...</td>\n",
       "      <td>1/0:-42.59,0,-62.89:2:99:30:12</td>\n",
       "      <td>0/0:0,-3.12,-73.7:4:31:20:0</td>\n",
       "      <td>840009</td>\n",
       "      <td>12839977</td>\n",
       "      <td>2:0</td>\n",
       "      <td>2.0</td>\n",
       "      <td>4176325</td>\n",
       "      <td>1,1</td>\n",
       "      <td>2,0</td>\n",
       "      <td>86.359655</td>\n",
       "      <td>30</td>\n",
       "      <td>20</td>\n",
       "      <td>Naïve/Immature B Cell,Memory B Cell,CD4 Effect...</td>\n",
       "      <td>rs28609852</td>\n",
       "      <td>{'UBE2J2'}</td>\n",
       "      <td>{'ENSG00000160087'}</td>\n",
       "      <td>G</td>\n",
       "      <td>A</td>\n",
       "      <td>0.21290</td>\n",
       "      <td>0.213474</td>\n",
       "      <td>1-851190</td>\n",
       "    </tr>\n",
       "  </tbody>\n",
       "</table>\n",
       "</div>"
      ],
      "text/plain": [
       "   #CHROM     pos REF ALT                                               INFO   \n",
       "0       1  842013   T   G  BRF=0.19;FR=0.25;HP=4;HapScore=1;MGOF=21;MMLQ=...  \\\n",
       "1       1  846398   G   A  BRF=0.44;FR=0.25;HP=3;HapScore=1;MGOF=29;MMLQ=...   \n",
       "2       1  848445   G   A  BRF=0.49;FR=0.254;HP=2;HapScore=3;MGOF=3;MMLQ=...   \n",
       "3       1  850780   C   T  BRF=0.17;FR=0.25;HP=1;HapScore=1;MGOF=4;MMLQ=2...   \n",
       "4       1  851190   G   A  BRF=0.29;FR=0.2501;HP=1;HapScore=1;MGOF=4;MMLQ...   \n",
       "\n",
       "                    sample_control                  sample_tumor   start   \n",
       "0  1/0:-36.89,0,-58.19:21:99:33:13   0/0:0,-5.07,-54.5:0:51:18:0  840009  \\\n",
       "1   1/0:-23.69,0,-17.99:29:99:15:8  0/0:0,-5.12,-66.2:21:51:18:0  840009   \n",
       "2      1/0:-20.1,0,-34.3:3:99:15:5   0/0:0,-1.56,-51.1:2:16:16:0  840009   \n",
       "3   0/1:-55.58,0,-49.58:4:99:46:23   0/0:0,-6.32,-76.5:1:63:25:0  840009   \n",
       "4   1/0:-42.59,0,-62.89:2:99:30:12   0/0:0,-3.12,-73.7:4:31:20:0  840009   \n",
       "\n",
       "        end genotype  TCN      PID normal_genotype tumor_genotype   \n",
       "0  12839977      2:0  2.0  4134434             1,1            2,0  \\\n",
       "1  12839977      2:0  2.0  4183136             1,1            2,0   \n",
       "2  12839977      2:0  2.0  4183136             1,1            2,0   \n",
       "3  12839977      2:0  2.0  4149246             1,1            2,0   \n",
       "4  12839977      2:0  2.0  4176325             1,1            2,0   \n",
       "\n",
       "   quality_score  reads_normal  reads_tumor   \n",
       "0      99.000000            33           18  \\\n",
       "1      60.703590            15           18   \n",
       "2      53.958747            15           16   \n",
       "3      99.000000            46           25   \n",
       "4      86.359655            30           20   \n",
       "\n",
       "                                           CELL_TYPE        RSID        GENE   \n",
       "0  Naïve/Immature B Cell,Memory B Cell,CD4 Effect...   rs7419119  {'UBE2J2'}  \\\n",
       "1  Naïve/Immature B Cell,Memory B Cell,CD4 Effect...  rs58781670  {'UBE2J2'}   \n",
       "2  Naïve/Immature B Cell,Memory B Cell,CD4 Effect...   rs4626817  {'UBE2J2'}   \n",
       "3  Naïve/Immature B Cell,Memory B Cell,CD4 Effect...   rs6657440  {'UBE2J2'}   \n",
       "4  Naïve/Immature B Cell,Memory B Cell,CD4 Effect...  rs28609852  {'UBE2J2'}   \n",
       "\n",
       "               GENE_ID A1 A2  A2_FREQ_ONEK1K  A2_FREQ_HRC position_code  \n",
       "0  {'ENSG00000160087'}  T  G         0.21688     0.212812      1-842013  \n",
       "1  {'ENSG00000160087'}  G  A         0.20774     0.216970      1-846398  \n",
       "2  {'ENSG00000160087'}  G  A         0.20797     0.210548      1-848445  \n",
       "3  {'ENSG00000160087'}  C  T         0.60181     0.602125      1-850780  \n",
       "4  {'ENSG00000160087'}  G  A         0.21290     0.213474      1-851190  "
      ]
     },
     "execution_count": 14,
     "metadata": {},
     "output_type": "execute_result"
    }
   ],
   "source": [
    "df.head()"
   ]
  },
  {
   "attachments": {},
   "cell_type": "markdown",
   "metadata": {},
   "source": [
    "Analyse LOH positions"
   ]
  },
  {
   "cell_type": "code",
   "execution_count": 15,
   "metadata": {},
   "outputs": [
    {
     "data": {
      "text/plain": [
       "223063"
      ]
     },
     "execution_count": 15,
     "metadata": {},
     "output_type": "execute_result"
    }
   ],
   "source": [
    "no_distinct_positions = df[\"position_code\"].nunique()\n",
    "no_distinct_positions"
   ]
  },
  {
   "cell_type": "code",
   "execution_count": 16,
   "metadata": {},
   "outputs": [
    {
     "data": {
      "text/plain": [
       "22"
      ]
     },
     "execution_count": 16,
     "metadata": {},
     "output_type": "execute_result"
    }
   ],
   "source": [
    "df[\"#CHROM\"].nunique()"
   ]
  },
  {
   "cell_type": "code",
   "execution_count": 17,
   "metadata": {},
   "outputs": [
    {
     "data": {
      "text/plain": [
       "204"
      ]
     },
     "execution_count": 17,
     "metadata": {},
     "output_type": "execute_result"
    }
   ],
   "source": [
    "no_distinct_patients = df[\"PID\"].nunique()\n",
    "no_distinct_patients"
   ]
  },
  {
   "cell_type": "code",
   "execution_count": 18,
   "metadata": {},
   "outputs": [
    {
     "data": {
      "text/plain": [
       "235331"
      ]
     },
     "execution_count": 18,
     "metadata": {},
     "output_type": "execute_result"
    }
   ],
   "source": [
    "unique_combinations = len(df.drop_duplicates(['PID','position_code']).index)\n",
    "unique_combinations"
   ]
  },
  {
   "cell_type": "code",
   "execution_count": 19,
   "metadata": {},
   "outputs": [
    {
     "data": {
      "text/plain": [
       "tumor_genotype\n",
       "1,0    107457\n",
       "2,0    104513\n",
       "4,0     15777\n",
       "3,0      5687\n",
       "5,0       746\n",
       "0,1       606\n",
       "6,0       502\n",
       "0,2        37\n",
       "0,3         4\n",
       "8,0         1\n",
       "0,4         1\n",
       "Name: count, dtype: int64"
      ]
     },
     "execution_count": 19,
     "metadata": {},
     "output_type": "execute_result"
    }
   ],
   "source": [
    "df[\"tumor_genotype\"].value_counts()"
   ]
  },
  {
   "attachments": {},
   "cell_type": "markdown",
   "metadata": {},
   "source": [
    "Merge position count"
   ]
  },
  {
   "cell_type": "code",
   "execution_count": 21,
   "metadata": {},
   "outputs": [
    {
     "data": {
      "text/plain": [
       "(223063, 2)"
      ]
     },
     "execution_count": 21,
     "metadata": {},
     "output_type": "execute_result"
    }
   ],
   "source": [
    "ser = pd.read_json(\"/home/junkhann/daten/LOH_position_count_mmml.json\", typ=\"series\", dtype={str})\n",
    "df_position_count = ser.to_frame(\"position_count\")\n",
    "df_position_count = df_position_count.reset_index(names=\"pos\")\n",
    "df_position_count.shape"
   ]
  },
  {
   "cell_type": "code",
   "execution_count": 22,
   "metadata": {},
   "outputs": [
    {
     "data": {
      "text/html": [
       "<div>\n",
       "<style scoped>\n",
       "    .dataframe tbody tr th:only-of-type {\n",
       "        vertical-align: middle;\n",
       "    }\n",
       "\n",
       "    .dataframe tbody tr th {\n",
       "        vertical-align: top;\n",
       "    }\n",
       "\n",
       "    .dataframe thead th {\n",
       "        text-align: right;\n",
       "    }\n",
       "</style>\n",
       "<table border=\"1\" class=\"dataframe\">\n",
       "  <thead>\n",
       "    <tr style=\"text-align: right;\">\n",
       "      <th></th>\n",
       "      <th>pos</th>\n",
       "      <th>position_count</th>\n",
       "    </tr>\n",
       "  </thead>\n",
       "  <tbody>\n",
       "    <tr>\n",
       "      <th>0</th>\n",
       "      <td>1-842013</td>\n",
       "      <td>1</td>\n",
       "    </tr>\n",
       "    <tr>\n",
       "      <th>1</th>\n",
       "      <td>1-846398</td>\n",
       "      <td>1</td>\n",
       "    </tr>\n",
       "    <tr>\n",
       "      <th>2</th>\n",
       "      <td>1-848445</td>\n",
       "      <td>1</td>\n",
       "    </tr>\n",
       "    <tr>\n",
       "      <th>3</th>\n",
       "      <td>1-850780</td>\n",
       "      <td>1</td>\n",
       "    </tr>\n",
       "    <tr>\n",
       "      <th>4</th>\n",
       "      <td>1-851190</td>\n",
       "      <td>1</td>\n",
       "    </tr>\n",
       "  </tbody>\n",
       "</table>\n",
       "</div>"
      ],
      "text/plain": [
       "        pos  position_count\n",
       "0  1-842013               1\n",
       "1  1-846398               1\n",
       "2  1-848445               1\n",
       "3  1-850780               1\n",
       "4  1-851190               1"
      ]
     },
     "execution_count": 22,
     "metadata": {},
     "output_type": "execute_result"
    }
   ],
   "source": [
    "df_position_count.head()"
   ]
  },
  {
   "cell_type": "code",
   "execution_count": 23,
   "metadata": {},
   "outputs": [
    {
     "data": {
      "text/plain": [
       "235331"
      ]
     },
     "execution_count": 23,
     "metadata": {},
     "output_type": "execute_result"
    }
   ],
   "source": [
    "df = df.merge(df_position_count, how=\"inner\", left_on=\"position_code\", right_on=\"pos\")\n",
    "len(df)"
   ]
  },
  {
   "attachments": {},
   "cell_type": "markdown",
   "metadata": {},
   "source": [
    "Set threshold"
   ]
  },
  {
   "cell_type": "code",
   "execution_count": 28,
   "metadata": {},
   "outputs": [
    {
     "data": {
      "text/plain": [
       "209"
      ]
     },
     "execution_count": 28,
     "metadata": {},
     "output_type": "execute_result"
    }
   ],
   "source": [
    "threshold = 40\n",
    "df_thresholded = df[df[\"position_count\"] >= threshold]\n",
    "len(df_thresholded)"
   ]
  },
  {
   "attachments": {},
   "cell_type": "markdown",
   "metadata": {},
   "source": [
    "Analyze thresholded dataframe"
   ]
  },
  {
   "cell_type": "code",
   "execution_count": 29,
   "metadata": {},
   "outputs": [
    {
     "data": {
      "text/plain": [
       "74"
      ]
     },
     "execution_count": 29,
     "metadata": {},
     "output_type": "execute_result"
    }
   ],
   "source": [
    "df_thresholded[\"PID\"].nunique()"
   ]
  },
  {
   "cell_type": "code",
   "execution_count": 30,
   "metadata": {},
   "outputs": [
    {
     "data": {
      "text/plain": [
       "6"
      ]
     },
     "execution_count": 30,
     "metadata": {},
     "output_type": "execute_result"
    }
   ],
   "source": [
    "df_thresholded[\"#CHROM\"].nunique()"
   ]
  },
  {
   "cell_type": "code",
   "execution_count": 31,
   "metadata": {},
   "outputs": [
    {
     "data": {
      "text/plain": [
       "array([ 1,  6,  9, 11, 17, 19])"
      ]
     },
     "execution_count": 31,
     "metadata": {},
     "output_type": "execute_result"
    }
   ],
   "source": [
    "df_thresholded[\"#CHROM\"].unique()"
   ]
  },
  {
   "cell_type": "code",
   "execution_count": 32,
   "metadata": {},
   "outputs": [
    {
     "data": {
      "text/plain": [
       "49"
      ]
     },
     "execution_count": 32,
     "metadata": {},
     "output_type": "execute_result"
    }
   ],
   "source": [
    "df_thresholded[\"position_code\"].nunique()"
   ]
  },
  {
   "attachments": {},
   "cell_type": "markdown",
   "metadata": {},
   "source": [
    "Write to csv"
   ]
  },
  {
   "cell_type": "code",
   "execution_count": 33,
   "metadata": {},
   "outputs": [],
   "source": [
    "df_thresholded.to_csv(f\"/home/junkhann/daten/LOH_pos_thresholded/LOH_positions_mmml_threshold_{threshold}.tsv.gz\", sep=\"\\t\", header=True, index=False, compression=\"gzip\")"
   ]
  },
  {
   "cell_type": "code",
   "execution_count": null,
   "metadata": {},
   "outputs": [],
   "source": []
  }
 ],
 "metadata": {
  "kernelspec": {
   "display_name": ".venv",
   "language": "python",
   "name": "python3"
  },
  "language_info": {
   "codemirror_mode": {
    "name": "ipython",
    "version": 3
   },
   "file_extension": ".py",
   "mimetype": "text/x-python",
   "name": "python",
   "nbconvert_exporter": "python",
   "pygments_lexer": "ipython3",
   "version": "3.10.6"
  },
  "orig_nbformat": 4
 },
 "nbformat": 4,
 "nbformat_minor": 2
}

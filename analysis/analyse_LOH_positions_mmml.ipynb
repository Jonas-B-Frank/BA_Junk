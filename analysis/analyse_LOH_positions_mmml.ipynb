{
 "cells": [
  {
   "cell_type": "code",
   "execution_count": 1,
   "metadata": {},
   "outputs": [],
   "source": [
    "import gzip\n",
    "\n",
    "import pandas as pd\n",
    "\n",
    "pd.set_option(\"display.max_columns\", None)"
   ]
  },
  {
   "attachments": {},
   "cell_type": "markdown",
   "metadata": {},
   "source": [
    "Read LOH positions"
   ]
  },
  {
   "cell_type": "code",
   "execution_count": 6,
   "metadata": {},
   "outputs": [
    {
     "data": {
      "text/plain": [
       "['#CHROM',\n",
       " 'pos',\n",
       " 'position_dummy',\n",
       " 'REF',\n",
       " 'ALT',\n",
       " 'INFO',\n",
       " 'sample_control',\n",
       " 'sample_tumor',\n",
       " 'start',\n",
       " 'end',\n",
       " 'genotype',\n",
       " 'TCN',\n",
       " 'PID',\n",
       " 'normal_genotype',\n",
       " 'tumor_genotype',\n",
       " 'quality_score',\n",
       " 'reads_normal',\n",
       " 'reads_tumor']"
      ]
     },
     "execution_count": 6,
     "metadata": {},
     "output_type": "execute_result"
    }
   ],
   "source": [
    "with open(\"/home/junkhann/daten/mmml_onek1k_all_patients_columns.txt\", mode=\"r\") as columns_file:\n",
    "    columns_list = columns_file.readlines()\n",
    "\n",
    "columns_list = [col.rstrip(\"\\n\") for col in columns_list]\n",
    "\n",
    "columns_list[1] = \"pos\"\n",
    "columns_list = columns_list[0:18]\n",
    "columns_list"
   ]
  },
  {
   "cell_type": "code",
   "execution_count": 7,
   "metadata": {},
   "outputs": [
    {
     "data": {
      "text/plain": [
       "28265798"
      ]
     },
     "execution_count": 7,
     "metadata": {},
     "output_type": "execute_result"
    }
   ],
   "source": [
    "df = pd.read_csv(\"/home/junkhann/daten/LOH_positions_mmml.vcf.gz\", sep=\"\\t\", header=None, names=columns_list, compression=\"gzip\", low_memory=False)\n",
    "len(df)"
   ]
  },
  {
   "cell_type": "code",
   "execution_count": 8,
   "metadata": {},
   "outputs": [
    {
     "data": {
      "text/html": [
       "<div>\n",
       "<style scoped>\n",
       "    .dataframe tbody tr th:only-of-type {\n",
       "        vertical-align: middle;\n",
       "    }\n",
       "\n",
       "    .dataframe tbody tr th {\n",
       "        vertical-align: top;\n",
       "    }\n",
       "\n",
       "    .dataframe thead th {\n",
       "        text-align: right;\n",
       "    }\n",
       "</style>\n",
       "<table border=\"1\" class=\"dataframe\">\n",
       "  <thead>\n",
       "    <tr style=\"text-align: right;\">\n",
       "      <th></th>\n",
       "      <th>#CHROM</th>\n",
       "      <th>pos</th>\n",
       "      <th>position_dummy</th>\n",
       "      <th>REF</th>\n",
       "      <th>ALT</th>\n",
       "      <th>INFO</th>\n",
       "      <th>sample_control</th>\n",
       "      <th>sample_tumor</th>\n",
       "      <th>start</th>\n",
       "      <th>end</th>\n",
       "      <th>genotype</th>\n",
       "      <th>TCN</th>\n",
       "      <th>PID</th>\n",
       "      <th>normal_genotype</th>\n",
       "      <th>tumor_genotype</th>\n",
       "      <th>quality_score</th>\n",
       "      <th>reads_normal</th>\n",
       "      <th>reads_tumor</th>\n",
       "    </tr>\n",
       "  </thead>\n",
       "  <tbody>\n",
       "    <tr>\n",
       "      <th>0</th>\n",
       "      <td>3</td>\n",
       "      <td>116221105</td>\n",
       "      <td>116221105</td>\n",
       "      <td>C</td>\n",
       "      <td>A</td>\n",
       "      <td>BRF=0.18;FR=0.5256;HP=6;HapScore=4;MGOF=9;MMLQ...</td>\n",
       "      <td>1/0:-42.61,0,-38.37:9:99:36:18</td>\n",
       "      <td>0/1:-18.43,0,-1.47:6:15:11:9</td>\n",
       "      <td>116220095</td>\n",
       "      <td>116342540</td>\n",
       "      <td>1:0</td>\n",
       "      <td>1.0</td>\n",
       "      <td>4100314</td>\n",
       "      <td>1,1</td>\n",
       "      <td>0,1</td>\n",
       "      <td>52.130925</td>\n",
       "      <td>36.0</td>\n",
       "      <td>11</td>\n",
       "    </tr>\n",
       "    <tr>\n",
       "      <th>1</th>\n",
       "      <td>3</td>\n",
       "      <td>116221490</td>\n",
       "      <td>116221490</td>\n",
       "      <td>A</td>\n",
       "      <td>C</td>\n",
       "      <td>BRF=0.13;FR=0.7499;HP=1;HapScore=1;MGOF=26;MML...</td>\n",
       "      <td>0/1:-67.26,0,-65.76:5:99:45:22</td>\n",
       "      <td>1/1:-69.7,-2.82,0:26:28:22:21</td>\n",
       "      <td>116220095</td>\n",
       "      <td>116342540</td>\n",
       "      <td>1:0</td>\n",
       "      <td>1.0</td>\n",
       "      <td>4100314</td>\n",
       "      <td>1,1</td>\n",
       "      <td>0,1</td>\n",
       "      <td>99.000000</td>\n",
       "      <td>45.0</td>\n",
       "      <td>22</td>\n",
       "    </tr>\n",
       "    <tr>\n",
       "      <th>2</th>\n",
       "      <td>3</td>\n",
       "      <td>116221573</td>\n",
       "      <td>116221573</td>\n",
       "      <td>T</td>\n",
       "      <td>C</td>\n",
       "      <td>BRF=0.06;FR=0.75;HP=1;HapScore=1;MGOF=41;MMLQ=...</td>\n",
       "      <td>1/0:-25.97,0,-63.87:23:99:32:10</td>\n",
       "      <td>1/1:-89,-6.33,0:41:63:28:27</td>\n",
       "      <td>116220095</td>\n",
       "      <td>116342540</td>\n",
       "      <td>1:0</td>\n",
       "      <td>1.0</td>\n",
       "      <td>4100314</td>\n",
       "      <td>1,1</td>\n",
       "      <td>0,1</td>\n",
       "      <td>99.000000</td>\n",
       "      <td>32.0</td>\n",
       "      <td>28</td>\n",
       "    </tr>\n",
       "    <tr>\n",
       "      <th>3</th>\n",
       "      <td>3</td>\n",
       "      <td>116222047</td>\n",
       "      <td>116222047</td>\n",
       "      <td>G</td>\n",
       "      <td>A</td>\n",
       "      <td>BRF=0.29;FR=0.75;HP=4;HapScore=1;MGOF=6;MMLQ=3...</td>\n",
       "      <td>1/0:-60.05,0,-72.45:5:99:45:20</td>\n",
       "      <td>1/1:-87.9,-7.22,0:6:72:24:24</td>\n",
       "      <td>116220095</td>\n",
       "      <td>116342540</td>\n",
       "      <td>1:0</td>\n",
       "      <td>1.0</td>\n",
       "      <td>4100314</td>\n",
       "      <td>1,1</td>\n",
       "      <td>0,1</td>\n",
       "      <td>99.000000</td>\n",
       "      <td>45.0</td>\n",
       "      <td>24</td>\n",
       "    </tr>\n",
       "    <tr>\n",
       "      <th>4</th>\n",
       "      <td>3</td>\n",
       "      <td>116223336</td>\n",
       "      <td>116223336</td>\n",
       "      <td>A</td>\n",
       "      <td>G</td>\n",
       "      <td>BRF=0.19;FR=0.7499;HP=1;HapScore=1;MGOF=12;MML...</td>\n",
       "      <td>0/1:-82.34,0,-89.54:12:99:57:29</td>\n",
       "      <td>1/1:-77.1,-3.12,0:6:31:24:23</td>\n",
       "      <td>116220095</td>\n",
       "      <td>116342540</td>\n",
       "      <td>1:0</td>\n",
       "      <td>1.0</td>\n",
       "      <td>4100314</td>\n",
       "      <td>1,1</td>\n",
       "      <td>0,1</td>\n",
       "      <td>99.000000</td>\n",
       "      <td>57.0</td>\n",
       "      <td>24</td>\n",
       "    </tr>\n",
       "  </tbody>\n",
       "</table>\n",
       "</div>"
      ],
      "text/plain": [
       "   #CHROM        pos  position_dummy REF ALT   \n",
       "0       3  116221105       116221105   C   A  \\\n",
       "1       3  116221490       116221490   A   C   \n",
       "2       3  116221573       116221573   T   C   \n",
       "3       3  116222047       116222047   G   A   \n",
       "4       3  116223336       116223336   A   G   \n",
       "\n",
       "                                                INFO   \n",
       "0  BRF=0.18;FR=0.5256;HP=6;HapScore=4;MGOF=9;MMLQ...  \\\n",
       "1  BRF=0.13;FR=0.7499;HP=1;HapScore=1;MGOF=26;MML...   \n",
       "2  BRF=0.06;FR=0.75;HP=1;HapScore=1;MGOF=41;MMLQ=...   \n",
       "3  BRF=0.29;FR=0.75;HP=4;HapScore=1;MGOF=6;MMLQ=3...   \n",
       "4  BRF=0.19;FR=0.7499;HP=1;HapScore=1;MGOF=12;MML...   \n",
       "\n",
       "                    sample_control                   sample_tumor      start   \n",
       "0   1/0:-42.61,0,-38.37:9:99:36:18   0/1:-18.43,0,-1.47:6:15:11:9  116220095  \\\n",
       "1   0/1:-67.26,0,-65.76:5:99:45:22  1/1:-69.7,-2.82,0:26:28:22:21  116220095   \n",
       "2  1/0:-25.97,0,-63.87:23:99:32:10    1/1:-89,-6.33,0:41:63:28:27  116220095   \n",
       "3   1/0:-60.05,0,-72.45:5:99:45:20   1/1:-87.9,-7.22,0:6:72:24:24  116220095   \n",
       "4  0/1:-82.34,0,-89.54:12:99:57:29   1/1:-77.1,-3.12,0:6:31:24:23  116220095   \n",
       "\n",
       "         end genotype  TCN      PID normal_genotype tumor_genotype   \n",
       "0  116342540      1:0  1.0  4100314             1,1            0,1  \\\n",
       "1  116342540      1:0  1.0  4100314             1,1            0,1   \n",
       "2  116342540      1:0  1.0  4100314             1,1            0,1   \n",
       "3  116342540      1:0  1.0  4100314             1,1            0,1   \n",
       "4  116342540      1:0  1.0  4100314             1,1            0,1   \n",
       "\n",
       "   quality_score  reads_normal  reads_tumor  \n",
       "0      52.130925          36.0           11  \n",
       "1      99.000000          45.0           22  \n",
       "2      99.000000          32.0           28  \n",
       "3      99.000000          45.0           24  \n",
       "4      99.000000          57.0           24  "
      ]
     },
     "execution_count": 8,
     "metadata": {},
     "output_type": "execute_result"
    }
   ],
   "source": [
    "df.head()"
   ]
  },
  {
   "cell_type": "code",
   "execution_count": 9,
   "metadata": {},
   "outputs": [],
   "source": [
    "df = df.drop(columns=[\"position_dummy\"])"
   ]
  },
  {
   "attachments": {},
   "cell_type": "markdown",
   "metadata": {},
   "source": [
    "Analyse LOH positions"
   ]
  },
  {
   "cell_type": "code",
   "execution_count": 10,
   "metadata": {},
   "outputs": [],
   "source": [
    "df[\"position_code\"] = df[\"#CHROM\"].astype(str) + \"-\" + df[\"pos\"].astype(str)"
   ]
  },
  {
   "cell_type": "code",
   "execution_count": 11,
   "metadata": {},
   "outputs": [
    {
     "data": {
      "text/plain": [
       "7636659"
      ]
     },
     "execution_count": 11,
     "metadata": {},
     "output_type": "execute_result"
    }
   ],
   "source": [
    "no_distinct_positions = df[\"position_code\"].nunique()\n",
    "no_distinct_positions"
   ]
  },
  {
   "cell_type": "code",
   "execution_count": 12,
   "metadata": {},
   "outputs": [
    {
     "data": {
      "text/plain": [
       "22"
      ]
     },
     "execution_count": 12,
     "metadata": {},
     "output_type": "execute_result"
    }
   ],
   "source": [
    "df[\"#CHROM\"].nunique()"
   ]
  },
  {
   "cell_type": "code",
   "execution_count": 13,
   "metadata": {},
   "outputs": [
    {
     "data": {
      "text/plain": [
       "241"
      ]
     },
     "execution_count": 13,
     "metadata": {},
     "output_type": "execute_result"
    }
   ],
   "source": [
    "no_distinct_patients = df[\"PID\"].nunique()\n",
    "no_distinct_patients"
   ]
  },
  {
   "attachments": {},
   "cell_type": "markdown",
   "metadata": {},
   "source": [
    "Merge position count"
   ]
  },
  {
   "cell_type": "code",
   "execution_count": 16,
   "metadata": {},
   "outputs": [
    {
     "data": {
      "text/plain": [
       "(7636659, 2)"
      ]
     },
     "execution_count": 16,
     "metadata": {},
     "output_type": "execute_result"
    }
   ],
   "source": [
    "ser = pd.read_json(\"/home/junkhann/daten/LOH_position_count_mmml.json\", typ=\"series\", dtype={str})\n",
    "df_position_count = ser.to_frame(\"position_count\")\n",
    "df_position_count = df_position_count.reset_index(names=\"pos\")\n",
    "df_position_count.shape"
   ]
  },
  {
   "cell_type": "code",
   "execution_count": 17,
   "metadata": {},
   "outputs": [
    {
     "data": {
      "text/html": [
       "<div>\n",
       "<style scoped>\n",
       "    .dataframe tbody tr th:only-of-type {\n",
       "        vertical-align: middle;\n",
       "    }\n",
       "\n",
       "    .dataframe tbody tr th {\n",
       "        vertical-align: top;\n",
       "    }\n",
       "\n",
       "    .dataframe thead th {\n",
       "        text-align: right;\n",
       "    }\n",
       "</style>\n",
       "<table border=\"1\" class=\"dataframe\">\n",
       "  <thead>\n",
       "    <tr style=\"text-align: right;\">\n",
       "      <th></th>\n",
       "      <th>pos</th>\n",
       "      <th>position_count</th>\n",
       "    </tr>\n",
       "  </thead>\n",
       "  <tbody>\n",
       "    <tr>\n",
       "      <th>0</th>\n",
       "      <td>3-116221105</td>\n",
       "      <td>5</td>\n",
       "    </tr>\n",
       "    <tr>\n",
       "      <th>1</th>\n",
       "      <td>3-116221490</td>\n",
       "      <td>5</td>\n",
       "    </tr>\n",
       "    <tr>\n",
       "      <th>2</th>\n",
       "      <td>3-116221573</td>\n",
       "      <td>5</td>\n",
       "    </tr>\n",
       "    <tr>\n",
       "      <th>3</th>\n",
       "      <td>3-116222047</td>\n",
       "      <td>5</td>\n",
       "    </tr>\n",
       "    <tr>\n",
       "      <th>4</th>\n",
       "      <td>3-116223336</td>\n",
       "      <td>5</td>\n",
       "    </tr>\n",
       "  </tbody>\n",
       "</table>\n",
       "</div>"
      ],
      "text/plain": [
       "           pos  position_count\n",
       "0  3-116221105               5\n",
       "1  3-116221490               5\n",
       "2  3-116221573               5\n",
       "3  3-116222047               5\n",
       "4  3-116223336               5"
      ]
     },
     "execution_count": 17,
     "metadata": {},
     "output_type": "execute_result"
    }
   ],
   "source": [
    "df_position_count.head()"
   ]
  },
  {
   "cell_type": "code",
   "execution_count": 18,
   "metadata": {},
   "outputs": [
    {
     "data": {
      "text/plain": [
       "28265798"
      ]
     },
     "execution_count": 18,
     "metadata": {},
     "output_type": "execute_result"
    }
   ],
   "source": [
    "df = df.merge(df_position_count, how=\"inner\", left_on=\"position_code\", right_on=\"pos\")\n",
    "len(df)"
   ]
  },
  {
   "attachments": {},
   "cell_type": "markdown",
   "metadata": {},
   "source": [
    "Set threshold"
   ]
  },
  {
   "cell_type": "code",
   "execution_count": 33,
   "metadata": {},
   "outputs": [
    {
     "data": {
      "text/plain": [
       "10126763"
      ]
     },
     "execution_count": 33,
     "metadata": {},
     "output_type": "execute_result"
    }
   ],
   "source": [
    "threshold = 10\n",
    "df_thresholded = df[df[\"position_count\"] >= threshold]\n",
    "len(df_thresholded)"
   ]
  },
  {
   "attachments": {},
   "cell_type": "markdown",
   "metadata": {},
   "source": [
    "Analyze thresholded dataframe"
   ]
  },
  {
   "cell_type": "code",
   "execution_count": 34,
   "metadata": {},
   "outputs": [
    {
     "data": {
      "text/plain": [
       "240"
      ]
     },
     "execution_count": 34,
     "metadata": {},
     "output_type": "execute_result"
    }
   ],
   "source": [
    "df_thresholded[\"PID\"].nunique()"
   ]
  },
  {
   "cell_type": "code",
   "execution_count": 35,
   "metadata": {},
   "outputs": [
    {
     "data": {
      "text/plain": [
       "17"
      ]
     },
     "execution_count": 35,
     "metadata": {},
     "output_type": "execute_result"
    }
   ],
   "source": [
    "df_thresholded[\"#CHROM\"].nunique()"
   ]
  },
  {
   "cell_type": "code",
   "execution_count": 36,
   "metadata": {},
   "outputs": [
    {
     "data": {
      "text/plain": [
       "array([ 3, 14,  1,  6,  9, 16, 17, 19, 22, 10, 11,  2, 13, 15,  8, 18, 12])"
      ]
     },
     "execution_count": 36,
     "metadata": {},
     "output_type": "execute_result"
    }
   ],
   "source": [
    "df_thresholded[\"#CHROM\"].unique()"
   ]
  },
  {
   "cell_type": "code",
   "execution_count": 37,
   "metadata": {},
   "outputs": [
    {
     "data": {
      "text/plain": [
       "641574"
      ]
     },
     "execution_count": 37,
     "metadata": {},
     "output_type": "execute_result"
    }
   ],
   "source": [
    "df_thresholded[\"position_code\"].nunique()"
   ]
  },
  {
   "attachments": {},
   "cell_type": "markdown",
   "metadata": {},
   "source": [
    "Write to csv"
   ]
  },
  {
   "cell_type": "code",
   "execution_count": 38,
   "metadata": {},
   "outputs": [],
   "source": [
    "df_thresholded.to_csv(f\"/home/junkhann/daten/LOH_pos_mmml_thresholded/LOH_positions_threshold_{threshold}.tsv.gz\", sep=\"\\t\", header=True, index=False, compression=\"gzip\")"
   ]
  }
 ],
 "metadata": {
  "kernelspec": {
   "display_name": ".venv",
   "language": "python",
   "name": "python3"
  },
  "language_info": {
   "codemirror_mode": {
    "name": "ipython",
    "version": 3
   },
   "file_extension": ".py",
   "mimetype": "text/x-python",
   "name": "python",
   "nbconvert_exporter": "python",
   "pygments_lexer": "ipython3",
   "version": "3.10.6"
  },
  "orig_nbformat": 4
 },
 "nbformat": 4,
 "nbformat_minor": 2
}

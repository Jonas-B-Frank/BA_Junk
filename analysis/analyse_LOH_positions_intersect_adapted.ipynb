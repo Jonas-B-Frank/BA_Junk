{
 "cells": [
  {
   "cell_type": "code",
   "execution_count": 3,
   "metadata": {},
   "outputs": [],
   "source": [
    "import gzip\n",
    "\n",
    "import pandas as pd\n",
    "\n",
    "pd.set_option(\"display.max_columns\", None)"
   ]
  },
  {
   "attachments": {},
   "cell_type": "markdown",
   "metadata": {},
   "source": [
    "Read LOH positions"
   ]
  },
  {
   "cell_type": "code",
   "execution_count": 4,
   "metadata": {},
   "outputs": [
    {
     "data": {
      "text/plain": [
       "18889487"
      ]
     },
     "execution_count": 4,
     "metadata": {},
     "output_type": "execute_result"
    }
   ],
   "source": [
    "df = pd.read_csv(\"../intersect_mmml_onek1k_with_header_adapted.vcf.gz\", sep=\"\\t\", compression=\"gzip\", low_memory=False)\n",
    "len(df)"
   ]
  },
  {
   "cell_type": "code",
   "execution_count": 5,
   "metadata": {},
   "outputs": [],
   "source": [
    "df = df.drop(columns=[\"Unnamed: 29\", \"position_dummy\", \"#CHR\", \"POS\", \"POS_DUMMY\"])"
   ]
  },
  {
   "cell_type": "code",
   "execution_count": 6,
   "metadata": {},
   "outputs": [],
   "source": [
    "df[\"position_code\"] = df[\"#CHROM\"].astype(str) + \"-\" + df[\"pos\"].astype(str)"
   ]
  },
  {
   "cell_type": "code",
   "execution_count": 7,
   "metadata": {},
   "outputs": [
    {
     "data": {
      "text/html": [
       "<div>\n",
       "<style scoped>\n",
       "    .dataframe tbody tr th:only-of-type {\n",
       "        vertical-align: middle;\n",
       "    }\n",
       "\n",
       "    .dataframe tbody tr th {\n",
       "        vertical-align: top;\n",
       "    }\n",
       "\n",
       "    .dataframe thead th {\n",
       "        text-align: right;\n",
       "    }\n",
       "</style>\n",
       "<table border=\"1\" class=\"dataframe\">\n",
       "  <thead>\n",
       "    <tr style=\"text-align: right;\">\n",
       "      <th></th>\n",
       "      <th>#CHROM</th>\n",
       "      <th>pos</th>\n",
       "      <th>REF</th>\n",
       "      <th>ALT</th>\n",
       "      <th>INFO</th>\n",
       "      <th>sample_control</th>\n",
       "      <th>sample_tumor</th>\n",
       "      <th>start</th>\n",
       "      <th>end</th>\n",
       "      <th>genotype</th>\n",
       "      <th>TCN</th>\n",
       "      <th>PID</th>\n",
       "      <th>normal_genotype</th>\n",
       "      <th>tumor_genotype</th>\n",
       "      <th>quality_score</th>\n",
       "      <th>reads_normal</th>\n",
       "      <th>reads_tumor</th>\n",
       "      <th>CELL_TYPE</th>\n",
       "      <th>RSID</th>\n",
       "      <th>GENE</th>\n",
       "      <th>GENE_ID</th>\n",
       "      <th>A1</th>\n",
       "      <th>A2</th>\n",
       "      <th>A2_FREQ_ONEK1K</th>\n",
       "      <th>A2_FREQ_HRC</th>\n",
       "      <th>position_code</th>\n",
       "    </tr>\n",
       "  </thead>\n",
       "  <tbody>\n",
       "    <tr>\n",
       "      <th>0</th>\n",
       "      <td>9</td>\n",
       "      <td>21448448</td>\n",
       "      <td>G</td>\n",
       "      <td>A</td>\n",
       "      <td>BRF=0.13;FR=0.5;HP=1;HapScore=2;MGOF=18;MMLQ=3...</td>\n",
       "      <td>1/0:-38.46,0,-91.36:8:99:38:13</td>\n",
       "      <td>1/0:-32.21,0,-45.31:18:99:27:11</td>\n",
       "      <td>21341573</td>\n",
       "      <td>21731170</td>\n",
       "      <td>1:0</td>\n",
       "      <td>1.0</td>\n",
       "      <td>4100049</td>\n",
       "      <td>1,1</td>\n",
       "      <td>1,0</td>\n",
       "      <td>22.796598</td>\n",
       "      <td>38</td>\n",
       "      <td>27</td>\n",
       "      <td>Naïve/Immature B Cell,Memory B Cell,CD4 Effect...</td>\n",
       "      <td>rs7864960</td>\n",
       "      <td>{'PTPLAD2', 'RP11-70L8.4', 'RP11-408N14.1'}</td>\n",
       "      <td>{'ENSG00000188921', 'ENSG00000265194', 'ENSG00...</td>\n",
       "      <td>G</td>\n",
       "      <td>A</td>\n",
       "      <td>0.49054</td>\n",
       "      <td>0.493363</td>\n",
       "      <td>9-21448448</td>\n",
       "    </tr>\n",
       "    <tr>\n",
       "      <th>1</th>\n",
       "      <td>9</td>\n",
       "      <td>21456776</td>\n",
       "      <td>G</td>\n",
       "      <td>A</td>\n",
       "      <td>BRF=0.18;FR=0.5;HP=2;HapScore=1;MGOF=9;MMLQ=37...</td>\n",
       "      <td>1/0:-69.42,0,-74.92:5:99:46:23</td>\n",
       "      <td>1/0:-9.51,0,-59.71:9:95:23:4</td>\n",
       "      <td>21341573</td>\n",
       "      <td>21731170</td>\n",
       "      <td>1:0</td>\n",
       "      <td>1.0</td>\n",
       "      <td>4100049</td>\n",
       "      <td>1,1</td>\n",
       "      <td>1,0</td>\n",
       "      <td>68.389793</td>\n",
       "      <td>46</td>\n",
       "      <td>23</td>\n",
       "      <td>Naïve/Immature B Cell,Memory B Cell,CD4 Effect...</td>\n",
       "      <td>rs10491569</td>\n",
       "      <td>{'PTPLAD2', 'RP11-70L8.4', 'RP11-408N14.1'}</td>\n",
       "      <td>{'ENSG00000188921', 'ENSG00000265194', 'ENSG00...</td>\n",
       "      <td>G</td>\n",
       "      <td>A</td>\n",
       "      <td>0.28734</td>\n",
       "      <td>0.273914</td>\n",
       "      <td>9-21456776</td>\n",
       "    </tr>\n",
       "    <tr>\n",
       "      <th>2</th>\n",
       "      <td>9</td>\n",
       "      <td>21471499</td>\n",
       "      <td>C</td>\n",
       "      <td>T</td>\n",
       "      <td>BRF=0.1;FR=0.5;HP=2;HapScore=2;MGOF=11;MMLQ=37...</td>\n",
       "      <td>0/1:-71.26,0,-46.26:11:99:35:20</td>\n",
       "      <td>0/1:-17.58,0,-59.78:11:99:25:5</td>\n",
       "      <td>21341573</td>\n",
       "      <td>21731170</td>\n",
       "      <td>1:0</td>\n",
       "      <td>1.0</td>\n",
       "      <td>4100049</td>\n",
       "      <td>1,1</td>\n",
       "      <td>1,0</td>\n",
       "      <td>68.389793</td>\n",
       "      <td>35</td>\n",
       "      <td>25</td>\n",
       "      <td>Naïve/Immature B Cell,Memory B Cell,CD4 Effect...</td>\n",
       "      <td>rs1412395</td>\n",
       "      <td>{'PTPLAD2', 'RP11-70L8.4', 'RP11-408N14.1'}</td>\n",
       "      <td>{'ENSG00000188921', 'ENSG00000265194', 'ENSG00...</td>\n",
       "      <td>C</td>\n",
       "      <td>T</td>\n",
       "      <td>0.60961</td>\n",
       "      <td>0.612796</td>\n",
       "      <td>9-21471499</td>\n",
       "    </tr>\n",
       "    <tr>\n",
       "      <th>3</th>\n",
       "      <td>9</td>\n",
       "      <td>21471726</td>\n",
       "      <td>C</td>\n",
       "      <td>T</td>\n",
       "      <td>BRF=0.17;FR=0.5;HP=1;HapScore=2;MGOF=12;MMLQ=4...</td>\n",
       "      <td>0/1:-72.59,0,-64.49:7:99:42:22</td>\n",
       "      <td>0/1:-10.98,0,-55.68:12:99:24:6</td>\n",
       "      <td>21341573</td>\n",
       "      <td>21731170</td>\n",
       "      <td>1:0</td>\n",
       "      <td>1.0</td>\n",
       "      <td>4100049</td>\n",
       "      <td>1,1</td>\n",
       "      <td>1,0</td>\n",
       "      <td>54.711835</td>\n",
       "      <td>42</td>\n",
       "      <td>24</td>\n",
       "      <td>Naïve/Immature B Cell,Memory B Cell,CD4 Effect...</td>\n",
       "      <td>rs2383192</td>\n",
       "      <td>{'PTPLAD2', 'RP11-70L8.4', 'RP11-408N14.1'}</td>\n",
       "      <td>{'ENSG00000188921', 'ENSG00000265194', 'ENSG00...</td>\n",
       "      <td>C</td>\n",
       "      <td>T</td>\n",
       "      <td>0.53553</td>\n",
       "      <td>0.531583</td>\n",
       "      <td>9-21471726</td>\n",
       "    </tr>\n",
       "    <tr>\n",
       "      <th>4</th>\n",
       "      <td>9</td>\n",
       "      <td>21473817</td>\n",
       "      <td>A</td>\n",
       "      <td>G</td>\n",
       "      <td>BRF=0.14;FR=0.3913;HP=4;HapScore=1;MGOF=12;MML...</td>\n",
       "      <td>0/1:-85.27,0,-104.07:12:99:63:28</td>\n",
       "      <td>0/1:-0.31,0,-95.51:3:5:29:2</td>\n",
       "      <td>21341573</td>\n",
       "      <td>21731170</td>\n",
       "      <td>1:0</td>\n",
       "      <td>1.0</td>\n",
       "      <td>4100049</td>\n",
       "      <td>1,1</td>\n",
       "      <td>1,0</td>\n",
       "      <td>99.000000</td>\n",
       "      <td>63</td>\n",
       "      <td>29</td>\n",
       "      <td>Naïve/Immature B Cell,Memory B Cell,CD4 Effect...</td>\n",
       "      <td>rs10965014</td>\n",
       "      <td>{'PTPLAD2', 'RP11-70L8.4', 'RP11-408N14.1'}</td>\n",
       "      <td>{'ENSG00000188921', 'ENSG00000265194', 'ENSG00...</td>\n",
       "      <td>A</td>\n",
       "      <td>G</td>\n",
       "      <td>0.61050</td>\n",
       "      <td>0.604250</td>\n",
       "      <td>9-21473817</td>\n",
       "    </tr>\n",
       "  </tbody>\n",
       "</table>\n",
       "</div>"
      ],
      "text/plain": [
       "   #CHROM       pos REF ALT   \n",
       "0       9  21448448   G   A  \\\n",
       "1       9  21456776   G   A   \n",
       "2       9  21471499   C   T   \n",
       "3       9  21471726   C   T   \n",
       "4       9  21473817   A   G   \n",
       "\n",
       "                                                INFO   \n",
       "0  BRF=0.13;FR=0.5;HP=1;HapScore=2;MGOF=18;MMLQ=3...  \\\n",
       "1  BRF=0.18;FR=0.5;HP=2;HapScore=1;MGOF=9;MMLQ=37...   \n",
       "2  BRF=0.1;FR=0.5;HP=2;HapScore=2;MGOF=11;MMLQ=37...   \n",
       "3  BRF=0.17;FR=0.5;HP=1;HapScore=2;MGOF=12;MMLQ=4...   \n",
       "4  BRF=0.14;FR=0.3913;HP=4;HapScore=1;MGOF=12;MML...   \n",
       "\n",
       "                     sample_control                     sample_tumor   \n",
       "0    1/0:-38.46,0,-91.36:8:99:38:13  1/0:-32.21,0,-45.31:18:99:27:11  \\\n",
       "1    1/0:-69.42,0,-74.92:5:99:46:23     1/0:-9.51,0,-59.71:9:95:23:4   \n",
       "2   0/1:-71.26,0,-46.26:11:99:35:20   0/1:-17.58,0,-59.78:11:99:25:5   \n",
       "3    0/1:-72.59,0,-64.49:7:99:42:22   0/1:-10.98,0,-55.68:12:99:24:6   \n",
       "4  0/1:-85.27,0,-104.07:12:99:63:28      0/1:-0.31,0,-95.51:3:5:29:2   \n",
       "\n",
       "      start       end genotype  TCN      PID normal_genotype tumor_genotype   \n",
       "0  21341573  21731170      1:0  1.0  4100049             1,1            1,0  \\\n",
       "1  21341573  21731170      1:0  1.0  4100049             1,1            1,0   \n",
       "2  21341573  21731170      1:0  1.0  4100049             1,1            1,0   \n",
       "3  21341573  21731170      1:0  1.0  4100049             1,1            1,0   \n",
       "4  21341573  21731170      1:0  1.0  4100049             1,1            1,0   \n",
       "\n",
       "   quality_score  reads_normal  reads_tumor   \n",
       "0      22.796598            38           27  \\\n",
       "1      68.389793            46           23   \n",
       "2      68.389793            35           25   \n",
       "3      54.711835            42           24   \n",
       "4      99.000000            63           29   \n",
       "\n",
       "                                           CELL_TYPE        RSID   \n",
       "0  Naïve/Immature B Cell,Memory B Cell,CD4 Effect...   rs7864960  \\\n",
       "1  Naïve/Immature B Cell,Memory B Cell,CD4 Effect...  rs10491569   \n",
       "2  Naïve/Immature B Cell,Memory B Cell,CD4 Effect...   rs1412395   \n",
       "3  Naïve/Immature B Cell,Memory B Cell,CD4 Effect...   rs2383192   \n",
       "4  Naïve/Immature B Cell,Memory B Cell,CD4 Effect...  rs10965014   \n",
       "\n",
       "                                          GENE   \n",
       "0  {'PTPLAD2', 'RP11-70L8.4', 'RP11-408N14.1'}  \\\n",
       "1  {'PTPLAD2', 'RP11-70L8.4', 'RP11-408N14.1'}   \n",
       "2  {'PTPLAD2', 'RP11-70L8.4', 'RP11-408N14.1'}   \n",
       "3  {'PTPLAD2', 'RP11-70L8.4', 'RP11-408N14.1'}   \n",
       "4  {'PTPLAD2', 'RP11-70L8.4', 'RP11-408N14.1'}   \n",
       "\n",
       "                                             GENE_ID A1 A2  A2_FREQ_ONEK1K   \n",
       "0  {'ENSG00000188921', 'ENSG00000265194', 'ENSG00...  G  A         0.49054  \\\n",
       "1  {'ENSG00000188921', 'ENSG00000265194', 'ENSG00...  G  A         0.28734   \n",
       "2  {'ENSG00000188921', 'ENSG00000265194', 'ENSG00...  C  T         0.60961   \n",
       "3  {'ENSG00000188921', 'ENSG00000265194', 'ENSG00...  C  T         0.53553   \n",
       "4  {'ENSG00000188921', 'ENSG00000265194', 'ENSG00...  A  G         0.61050   \n",
       "\n",
       "   A2_FREQ_HRC position_code  \n",
       "0     0.493363    9-21448448  \n",
       "1     0.273914    9-21456776  \n",
       "2     0.612796    9-21471499  \n",
       "3     0.531583    9-21471726  \n",
       "4     0.604250    9-21473817  "
      ]
     },
     "execution_count": 7,
     "metadata": {},
     "output_type": "execute_result"
    }
   ],
   "source": [
    "df.head()"
   ]
  },
  {
   "attachments": {},
   "cell_type": "markdown",
   "metadata": {},
   "source": [
    "Analyse LOH positions"
   ]
  },
  {
   "cell_type": "code",
   "execution_count": 8,
   "metadata": {},
   "outputs": [
    {
     "data": {
      "text/plain": [
       "4115418"
      ]
     },
     "execution_count": 8,
     "metadata": {},
     "output_type": "execute_result"
    }
   ],
   "source": [
    "no_distinct_positions = df[\"position_code\"].nunique()\n",
    "no_distinct_positions"
   ]
  },
  {
   "cell_type": "code",
   "execution_count": 9,
   "metadata": {},
   "outputs": [
    {
     "data": {
      "text/plain": [
       "22"
      ]
     },
     "execution_count": 9,
     "metadata": {},
     "output_type": "execute_result"
    }
   ],
   "source": [
    "df[\"#CHROM\"].nunique()"
   ]
  },
  {
   "cell_type": "code",
   "execution_count": 10,
   "metadata": {},
   "outputs": [
    {
     "data": {
      "text/plain": [
       "233"
      ]
     },
     "execution_count": 10,
     "metadata": {},
     "output_type": "execute_result"
    }
   ],
   "source": [
    "no_distinct_patients = df[\"PID\"].nunique()\n",
    "no_distinct_patients"
   ]
  },
  {
   "cell_type": "code",
   "execution_count": 11,
   "metadata": {},
   "outputs": [
    {
     "data": {
      "text/plain": [
       "18672344"
      ]
     },
     "execution_count": 11,
     "metadata": {},
     "output_type": "execute_result"
    }
   ],
   "source": [
    "unique_combinations = len(df.drop_duplicates(['PID','position_code']).index)\n",
    "unique_combinations"
   ]
  },
  {
   "attachments": {},
   "cell_type": "markdown",
   "metadata": {},
   "source": [
    "Merge position count"
   ]
  },
  {
   "cell_type": "code",
   "execution_count": 12,
   "metadata": {},
   "outputs": [
    {
     "data": {
      "text/plain": [
       "(4115418, 2)"
      ]
     },
     "execution_count": 12,
     "metadata": {},
     "output_type": "execute_result"
    }
   ],
   "source": [
    "ser = pd.read_json(\"../intersect_position_count_adapted.json\", typ=\"series\", dtype={str})\n",
    "df_position_count = ser.to_frame(\"position_count\")\n",
    "df_position_count = df_position_count.reset_index(names=\"pos\")\n",
    "df_position_count.shape"
   ]
  },
  {
   "cell_type": "code",
   "execution_count": 13,
   "metadata": {},
   "outputs": [
    {
     "data": {
      "text/html": [
       "<div>\n",
       "<style scoped>\n",
       "    .dataframe tbody tr th:only-of-type {\n",
       "        vertical-align: middle;\n",
       "    }\n",
       "\n",
       "    .dataframe tbody tr th {\n",
       "        vertical-align: top;\n",
       "    }\n",
       "\n",
       "    .dataframe thead th {\n",
       "        text-align: right;\n",
       "    }\n",
       "</style>\n",
       "<table border=\"1\" class=\"dataframe\">\n",
       "  <thead>\n",
       "    <tr style=\"text-align: right;\">\n",
       "      <th></th>\n",
       "      <th>pos</th>\n",
       "      <th>position_count</th>\n",
       "    </tr>\n",
       "  </thead>\n",
       "  <tbody>\n",
       "    <tr>\n",
       "      <th>0</th>\n",
       "      <td>9-21448448</td>\n",
       "      <td>12</td>\n",
       "    </tr>\n",
       "    <tr>\n",
       "      <th>1</th>\n",
       "      <td>9-21456776</td>\n",
       "      <td>13</td>\n",
       "    </tr>\n",
       "    <tr>\n",
       "      <th>2</th>\n",
       "      <td>9-21471499</td>\n",
       "      <td>15</td>\n",
       "    </tr>\n",
       "    <tr>\n",
       "      <th>3</th>\n",
       "      <td>9-21471726</td>\n",
       "      <td>17</td>\n",
       "    </tr>\n",
       "    <tr>\n",
       "      <th>4</th>\n",
       "      <td>9-21473817</td>\n",
       "      <td>14</td>\n",
       "    </tr>\n",
       "  </tbody>\n",
       "</table>\n",
       "</div>"
      ],
      "text/plain": [
       "          pos  position_count\n",
       "0  9-21448448              12\n",
       "1  9-21456776              13\n",
       "2  9-21471499              15\n",
       "3  9-21471726              17\n",
       "4  9-21473817              14"
      ]
     },
     "execution_count": 13,
     "metadata": {},
     "output_type": "execute_result"
    }
   ],
   "source": [
    "df_position_count.head()"
   ]
  },
  {
   "cell_type": "code",
   "execution_count": 14,
   "metadata": {},
   "outputs": [
    {
     "data": {
      "text/plain": [
       "18889487"
      ]
     },
     "execution_count": 14,
     "metadata": {},
     "output_type": "execute_result"
    }
   ],
   "source": [
    "df = df.merge(df_position_count, how=\"inner\", left_on=\"position_code\", right_on=\"pos\")\n",
    "len(df)"
   ]
  },
  {
   "attachments": {},
   "cell_type": "markdown",
   "metadata": {},
   "source": [
    "Set threshold"
   ]
  },
  {
   "cell_type": "code",
   "execution_count": 27,
   "metadata": {},
   "outputs": [
    {
     "data": {
      "text/plain": [
       "2550487"
      ]
     },
     "execution_count": 27,
     "metadata": {},
     "output_type": "execute_result"
    }
   ],
   "source": [
    "threshold = 20\n",
    "df_thresholded = df[df[\"position_count\"] >= threshold]\n",
    "len(df_thresholded)"
   ]
  },
  {
   "attachments": {},
   "cell_type": "markdown",
   "metadata": {},
   "source": [
    "Analyze thresholded dataframe"
   ]
  },
  {
   "cell_type": "code",
   "execution_count": 28,
   "metadata": {},
   "outputs": [
    {
     "data": {
      "text/plain": [
       "224"
      ]
     },
     "execution_count": 28,
     "metadata": {},
     "output_type": "execute_result"
    }
   ],
   "source": [
    "df_thresholded[\"PID\"].nunique()"
   ]
  },
  {
   "cell_type": "code",
   "execution_count": 29,
   "metadata": {},
   "outputs": [
    {
     "data": {
      "text/plain": [
       "15"
      ]
     },
     "execution_count": 29,
     "metadata": {},
     "output_type": "execute_result"
    }
   ],
   "source": [
    "df_thresholded[\"#CHROM\"].nunique()"
   ]
  },
  {
   "cell_type": "code",
   "execution_count": 30,
   "metadata": {},
   "outputs": [
    {
     "data": {
      "text/plain": [
       "array([ 9, 14,  3,  1,  6, 17, 22, 10, 13, 15, 16,  2, 18,  8, 19])"
      ]
     },
     "execution_count": 30,
     "metadata": {},
     "output_type": "execute_result"
    }
   ],
   "source": [
    "df_thresholded[\"#CHROM\"].unique()"
   ]
  },
  {
   "cell_type": "code",
   "execution_count": 31,
   "metadata": {},
   "outputs": [
    {
     "data": {
      "text/plain": [
       "105490"
      ]
     },
     "execution_count": 31,
     "metadata": {},
     "output_type": "execute_result"
    }
   ],
   "source": [
    "df_thresholded[\"position_code\"].nunique()"
   ]
  },
  {
   "attachments": {},
   "cell_type": "markdown",
   "metadata": {},
   "source": [
    "Write to csv"
   ]
  },
  {
   "cell_type": "code",
   "execution_count": 32,
   "metadata": {},
   "outputs": [],
   "source": [
    "df_thresholded.to_csv(f\"../LOH_pos_thresholded_adapted/LOH_positions_threshold_{threshold}.tsv.gz\", sep=\"\\t\", header=True, index=False, compression=\"gzip\")"
   ]
  },
  {
   "cell_type": "code",
   "execution_count": null,
   "metadata": {},
   "outputs": [],
   "source": []
  }
 ],
 "metadata": {
  "kernelspec": {
   "display_name": ".venv",
   "language": "python",
   "name": "python3"
  },
  "language_info": {
   "codemirror_mode": {
    "name": "ipython",
    "version": 3
   },
   "file_extension": ".py",
   "mimetype": "text/x-python",
   "name": "python",
   "nbconvert_exporter": "python",
   "pygments_lexer": "ipython3",
   "version": "3.10.9"
  },
  "orig_nbformat": 4
 },
 "nbformat": 4,
 "nbformat_minor": 2
}

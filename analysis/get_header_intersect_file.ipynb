{
 "cells": [
  {
   "cell_type": "code",
   "execution_count": 1,
   "metadata": {},
   "outputs": [],
   "source": [
    "import gzip"
   ]
  },
  {
   "cell_type": "code",
   "execution_count": 2,
   "metadata": {},
   "outputs": [
    {
     "data": {
      "text/plain": [
       "['#CHROM',\n",
       " 'pos',\n",
       " 'position_dummy',\n",
       " 'REF',\n",
       " 'ALT',\n",
       " 'INFO',\n",
       " 'sample_control',\n",
       " 'sample_tumor',\n",
       " 'start',\n",
       " 'end',\n",
       " 'genotype',\n",
       " 'TCN',\n",
       " 'PID',\n",
       " 'normal_genotype',\n",
       " 'tumor_genotype',\n",
       " 'quality_score',\n",
       " 'reads_normal',\n",
       " 'reads_tumor',\n",
       " '#CHR',\n",
       " 'POS',\n",
       " 'POS_DUMMY',\n",
       " 'CELL_TYPE',\n",
       " 'RSID',\n",
       " 'GENE',\n",
       " 'GENE_ID',\n",
       " 'A1',\n",
       " 'A2',\n",
       " 'A2_FREQ_ONEK1K',\n",
       " 'A2_FREQ_HRC']"
      ]
     },
     "execution_count": 2,
     "metadata": {},
     "output_type": "execute_result"
    }
   ],
   "source": [
    "with open(\"../mmml_onek1k_all_patients_columns.txt\", mode=\"r\") as columns_file:\n",
    "    columns_list = columns_file.readlines()\n",
    "\n",
    "columns_list = [col.rstrip(\"\\n\") for col in columns_list]\n",
    "\n",
    "columns_list[1] = \"pos\"\n",
    "columns_list"
   ]
  },
  {
   "cell_type": "code",
   "execution_count": 3,
   "metadata": {},
   "outputs": [],
   "source": [
    "with gzip.open(\"../intersect_header.vcf.gz\", mode=\"wt\") as write_file:\n",
    "    write_file.writelines(col + \"\\t\" for col in columns_list)\n",
    "    write_file.write(\"\\n\")"
   ]
  }
 ],
 "metadata": {
  "kernelspec": {
   "display_name": ".venv",
   "language": "python",
   "name": "python3"
  },
  "language_info": {
   "codemirror_mode": {
    "name": "ipython",
    "version": 3
   },
   "file_extension": ".py",
   "mimetype": "text/x-python",
   "name": "python",
   "nbconvert_exporter": "python",
   "pygments_lexer": "ipython3",
   "version": "3.10.9"
  },
  "orig_nbformat": 4
 },
 "nbformat": 4,
 "nbformat_minor": 2
}

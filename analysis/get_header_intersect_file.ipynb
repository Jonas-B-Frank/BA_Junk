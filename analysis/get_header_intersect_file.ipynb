{
 "cells": [
  {
   "cell_type": "code",
   "execution_count": null,
   "metadata": {},
   "outputs": [],
   "source": [
    "import gzip"
   ]
  },
  {
   "cell_type": "code",
   "execution_count": null,
   "metadata": {},
   "outputs": [],
   "source": [
    "with open(\"../mmml_onek1k_all_patients_columns.txt\", mode=\"r\") as columns_file:\n",
    "    columns_list = columns_file.readlines()\n",
    "\n",
    "columns_list = [col.rstrip(\"\\n\") for col in columns_list]\n",
    "\n",
    "columns_list[1] = \"pos\"\n",
    "columns_list"
   ]
  },
  {
   "cell_type": "code",
   "execution_count": null,
   "metadata": {},
   "outputs": [],
   "source": [
    "with gzip.open(\"../intersect_header.vcf.gz\", mode=\"wt\") as write_file:\n",
    "    write_file.writelines(col + \"\\t\" for col in columns_list)\n",
    "    write_file.write(\"\\n\")"
   ]
  }
 ],
 "metadata": {
  "kernelspec": {
   "display_name": ".venv",
   "language": "python",
   "name": "python3"
  },
  "language_info": {
   "codemirror_mode": {
    "name": "ipython",
    "version": 3
   },
   "file_extension": ".py",
   "mimetype": "text/x-python",
   "name": "python",
   "nbconvert_exporter": "python",
   "pygments_lexer": "ipython3",
   "version": "3.10.9"
  },
  "orig_nbformat": 4
 },
 "nbformat": 4,
 "nbformat_minor": 2
}

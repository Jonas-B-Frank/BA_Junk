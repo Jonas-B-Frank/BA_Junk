{
 "cells": [
  {
   "cell_type": "code",
   "execution_count": 2,
   "metadata": {},
   "outputs": [],
   "source": [
    "import gzip\n",
    "\n",
    "import matplotlib.pyplot as plt\n",
    "import pandas as pd\n",
    "from scipy.stats import binomtest \n",
    "\n",
    "pd.set_option(\"display.max_columns\", None)"
   ]
  },
  {
   "attachments": {},
   "cell_type": "markdown",
   "metadata": {},
   "source": [
    "Read thresholded dataframe with LOH positions"
   ]
  },
  {
   "cell_type": "code",
   "execution_count": 3,
   "metadata": {},
   "outputs": [],
   "source": [
    "threshold = 4"
   ]
  },
  {
   "cell_type": "code",
   "execution_count": 4,
   "metadata": {},
   "outputs": [
    {
     "data": {
      "text/plain": [
       "209"
      ]
     },
     "execution_count": 4,
     "metadata": {},
     "output_type": "execute_result"
    }
   ],
   "source": [
    "df = pd.read_csv(f\"/home/junkhann/daten/LOH_pos_thresholded/LOH_positions_threshold_{threshold}.tsv.gz\", sep=\"\\t\", compression=\"gzip\")\n",
    "len(df)"
   ]
  },
  {
   "cell_type": "code",
   "execution_count": 5,
   "metadata": {},
   "outputs": [],
   "source": [
    "def get_number_ref_alleles(entry: str) -> int:\n",
    "    return entry.split(\",\")[0]"
   ]
  },
  {
   "cell_type": "code",
   "execution_count": 6,
   "metadata": {},
   "outputs": [],
   "source": [
    "def get_number_alt_alleles(entry: str) -> int:\n",
    "    return entry.split(\",\")[1]"
   ]
  },
  {
   "cell_type": "code",
   "execution_count": 7,
   "metadata": {},
   "outputs": [],
   "source": [
    "# tumor_genotype field is \"ref,alt\"\n",
    "df[\"n_ref_alleles\"] = df[\"tumor_genotype\"].apply(get_number_ref_alleles)\n",
    "df[\"n_alt_alleles\"] = df[\"tumor_genotype\"].apply(get_number_alt_alleles)"
   ]
  },
  {
   "cell_type": "code",
   "execution_count": 8,
   "metadata": {},
   "outputs": [
    {
     "data": {
      "text/html": [
       "<div>\n",
       "<style scoped>\n",
       "    .dataframe tbody tr th:only-of-type {\n",
       "        vertical-align: middle;\n",
       "    }\n",
       "\n",
       "    .dataframe tbody tr th {\n",
       "        vertical-align: top;\n",
       "    }\n",
       "\n",
       "    .dataframe thead th {\n",
       "        text-align: right;\n",
       "    }\n",
       "</style>\n",
       "<table border=\"1\" class=\"dataframe\">\n",
       "  <thead>\n",
       "    <tr style=\"text-align: right;\">\n",
       "      <th></th>\n",
       "      <th>#CHROM</th>\n",
       "      <th>pos_x</th>\n",
       "      <th>REF</th>\n",
       "      <th>ALT</th>\n",
       "      <th>INFO</th>\n",
       "      <th>sample_control</th>\n",
       "      <th>sample_tumor</th>\n",
       "      <th>start</th>\n",
       "      <th>end</th>\n",
       "      <th>genotype</th>\n",
       "      <th>TCN</th>\n",
       "      <th>PID</th>\n",
       "      <th>normal_genotype</th>\n",
       "      <th>tumor_genotype</th>\n",
       "      <th>quality_score</th>\n",
       "      <th>reads_normal</th>\n",
       "      <th>reads_tumor</th>\n",
       "      <th>CELL_TYPE</th>\n",
       "      <th>RSID</th>\n",
       "      <th>GENE</th>\n",
       "      <th>GENE_ID</th>\n",
       "      <th>A1</th>\n",
       "      <th>A2</th>\n",
       "      <th>A2_FREQ_ONEK1K</th>\n",
       "      <th>A2_FREQ_HRC</th>\n",
       "      <th>position_code</th>\n",
       "      <th>pos_y</th>\n",
       "      <th>position_count</th>\n",
       "      <th>n_ref_alleles</th>\n",
       "      <th>n_alt_alleles</th>\n",
       "    </tr>\n",
       "  </thead>\n",
       "  <tbody>\n",
       "    <tr>\n",
       "      <th>0</th>\n",
       "      <td>1</td>\n",
       "      <td>2073553</td>\n",
       "      <td>A</td>\n",
       "      <td>G</td>\n",
       "      <td>BRF=0.45;FR=0.2606;HP=1;HapScore=2;MGOF=21;MML...</td>\n",
       "      <td>0/1:-5.09,0,-21.29:7:51:17:4</td>\n",
       "      <td>0/0:0,-0.9,-12.6:21:10:6:0</td>\n",
       "      <td>840009</td>\n",
       "      <td>8439906</td>\n",
       "      <td>1:0</td>\n",
       "      <td>1.0</td>\n",
       "      <td>4100636</td>\n",
       "      <td>1,1</td>\n",
       "      <td>1,0</td>\n",
       "      <td>14.124316</td>\n",
       "      <td>17</td>\n",
       "      <td>6</td>\n",
       "      <td>Naïve/Immature B Cell,Memory B Cell,CD4 Effect...</td>\n",
       "      <td>rs643076</td>\n",
       "      <td>{'UBE2J2'}</td>\n",
       "      <td>{'ENSG00000160087'}</td>\n",
       "      <td>A</td>\n",
       "      <td>G</td>\n",
       "      <td>0.70747</td>\n",
       "      <td>0.732261</td>\n",
       "      <td>1-2073553</td>\n",
       "      <td>1-2073553</td>\n",
       "      <td>4</td>\n",
       "      <td>1</td>\n",
       "      <td>0</td>\n",
       "    </tr>\n",
       "    <tr>\n",
       "      <th>1</th>\n",
       "      <td>1</td>\n",
       "      <td>2073553</td>\n",
       "      <td>A</td>\n",
       "      <td>G</td>\n",
       "      <td>BRF=0.4;FR=0.2507;HP=1;HapScore=2;MGOF=2;MMLQ=...</td>\n",
       "      <td>0/1:-14.83,0,-4.83:1:48:9:6</td>\n",
       "      <td>0/0:0,-2.07,-22.4:2:21:8:0</td>\n",
       "      <td>1240050</td>\n",
       "      <td>5560051</td>\n",
       "      <td>1:0</td>\n",
       "      <td>1.0</td>\n",
       "      <td>4128477</td>\n",
       "      <td>1,1</td>\n",
       "      <td>1,0</td>\n",
       "      <td>17.667007</td>\n",
       "      <td>9</td>\n",
       "      <td>8</td>\n",
       "      <td>Naïve/Immature B Cell,Memory B Cell,CD4 Effect...</td>\n",
       "      <td>rs643076</td>\n",
       "      <td>{'UBE2J2'}</td>\n",
       "      <td>{'ENSG00000160087'}</td>\n",
       "      <td>A</td>\n",
       "      <td>G</td>\n",
       "      <td>0.70747</td>\n",
       "      <td>0.732261</td>\n",
       "      <td>1-2073553</td>\n",
       "      <td>1-2073553</td>\n",
       "      <td>4</td>\n",
       "      <td>1</td>\n",
       "      <td>0</td>\n",
       "    </tr>\n",
       "    <tr>\n",
       "      <th>2</th>\n",
       "      <td>1</td>\n",
       "      <td>2073553</td>\n",
       "      <td>A</td>\n",
       "      <td>G</td>\n",
       "      <td>BRF=0.78;FR=0.3335;HP=1;HapScore=2;MGOF=17;MML...</td>\n",
       "      <td>0/1:-7.84,0,-11.74:17:78:10:3</td>\n",
       "      <td>./.:0,-0,-4.2:12:3:2:0</td>\n",
       "      <td>1709905</td>\n",
       "      <td>5380014</td>\n",
       "      <td>1:0</td>\n",
       "      <td>1.0</td>\n",
       "      <td>4186613</td>\n",
       "      <td>1,1</td>\n",
       "      <td>1,0</td>\n",
       "      <td>1.686418</td>\n",
       "      <td>10</td>\n",
       "      <td>2</td>\n",
       "      <td>Naïve/Immature B Cell,Memory B Cell,CD4 Effect...</td>\n",
       "      <td>rs643076</td>\n",
       "      <td>{'UBE2J2'}</td>\n",
       "      <td>{'ENSG00000160087'}</td>\n",
       "      <td>A</td>\n",
       "      <td>G</td>\n",
       "      <td>0.70747</td>\n",
       "      <td>0.732261</td>\n",
       "      <td>1-2073553</td>\n",
       "      <td>1-2073553</td>\n",
       "      <td>4</td>\n",
       "      <td>1</td>\n",
       "      <td>0</td>\n",
       "    </tr>\n",
       "    <tr>\n",
       "      <th>3</th>\n",
       "      <td>1</td>\n",
       "      <td>2073553</td>\n",
       "      <td>A</td>\n",
       "      <td>G</td>\n",
       "      <td>BRF=0.54;FR=0.2929;HP=1;HapScore=2;MGOF=10;MML...</td>\n",
       "      <td>0/1:-11.04,0,-23.24:10:99:17:6</td>\n",
       "      <td>0/0:0,-0.3,-5:0:5:2:0</td>\n",
       "      <td>1310029</td>\n",
       "      <td>12839977</td>\n",
       "      <td>1:0</td>\n",
       "      <td>1.0</td>\n",
       "      <td>4199848</td>\n",
       "      <td>1,1</td>\n",
       "      <td>1,0</td>\n",
       "      <td>4.277596</td>\n",
       "      <td>17</td>\n",
       "      <td>2</td>\n",
       "      <td>Naïve/Immature B Cell,Memory B Cell,CD4 Effect...</td>\n",
       "      <td>rs643076</td>\n",
       "      <td>{'UBE2J2'}</td>\n",
       "      <td>{'ENSG00000160087'}</td>\n",
       "      <td>A</td>\n",
       "      <td>G</td>\n",
       "      <td>0.70747</td>\n",
       "      <td>0.732261</td>\n",
       "      <td>1-2073553</td>\n",
       "      <td>1-2073553</td>\n",
       "      <td>4</td>\n",
       "      <td>1</td>\n",
       "      <td>0</td>\n",
       "    </tr>\n",
       "    <tr>\n",
       "      <th>4</th>\n",
       "      <td>1</td>\n",
       "      <td>2897455</td>\n",
       "      <td>T</td>\n",
       "      <td>C</td>\n",
       "      <td>BRF=0.32;FR=0.3341;HP=1;HapScore=8;MGOF=20;MML...</td>\n",
       "      <td>1/0:-44.1,0,-32.6:15:99:30:16</td>\n",
       "      <td>0/0:0,-0.4,-8:20:5:5:0</td>\n",
       "      <td>840009</td>\n",
       "      <td>8439906</td>\n",
       "      <td>1:0</td>\n",
       "      <td>1.0</td>\n",
       "      <td>4100636</td>\n",
       "      <td>1,1</td>\n",
       "      <td>1,0</td>\n",
       "      <td>11.770263</td>\n",
       "      <td>30</td>\n",
       "      <td>5</td>\n",
       "      <td>Naïve/Immature B Cell,Memory B Cell,CD4 Effect...</td>\n",
       "      <td>rs3001801</td>\n",
       "      <td>{'WRAP73'}</td>\n",
       "      <td>{'ENSG00000116213'}</td>\n",
       "      <td>T</td>\n",
       "      <td>C</td>\n",
       "      <td>0.74634</td>\n",
       "      <td>0.754296</td>\n",
       "      <td>1-2897455</td>\n",
       "      <td>1-2897455</td>\n",
       "      <td>4</td>\n",
       "      <td>1</td>\n",
       "      <td>0</td>\n",
       "    </tr>\n",
       "  </tbody>\n",
       "</table>\n",
       "</div>"
      ],
      "text/plain": [
       "   #CHROM    pos_x REF ALT                                               INFO   \n",
       "0       1  2073553   A   G  BRF=0.45;FR=0.2606;HP=1;HapScore=2;MGOF=21;MML...  \\\n",
       "1       1  2073553   A   G  BRF=0.4;FR=0.2507;HP=1;HapScore=2;MGOF=2;MMLQ=...   \n",
       "2       1  2073553   A   G  BRF=0.78;FR=0.3335;HP=1;HapScore=2;MGOF=17;MML...   \n",
       "3       1  2073553   A   G  BRF=0.54;FR=0.2929;HP=1;HapScore=2;MGOF=10;MML...   \n",
       "4       1  2897455   T   C  BRF=0.32;FR=0.3341;HP=1;HapScore=8;MGOF=20;MML...   \n",
       "\n",
       "                   sample_control                sample_tumor    start   \n",
       "0    0/1:-5.09,0,-21.29:7:51:17:4  0/0:0,-0.9,-12.6:21:10:6:0   840009  \\\n",
       "1     0/1:-14.83,0,-4.83:1:48:9:6  0/0:0,-2.07,-22.4:2:21:8:0  1240050   \n",
       "2   0/1:-7.84,0,-11.74:17:78:10:3      ./.:0,-0,-4.2:12:3:2:0  1709905   \n",
       "3  0/1:-11.04,0,-23.24:10:99:17:6       0/0:0,-0.3,-5:0:5:2:0  1310029   \n",
       "4   1/0:-44.1,0,-32.6:15:99:30:16      0/0:0,-0.4,-8:20:5:5:0   840009   \n",
       "\n",
       "        end genotype  TCN      PID normal_genotype tumor_genotype   \n",
       "0   8439906      1:0  1.0  4100636             1,1            1,0  \\\n",
       "1   5560051      1:0  1.0  4128477             1,1            1,0   \n",
       "2   5380014      1:0  1.0  4186613             1,1            1,0   \n",
       "3  12839977      1:0  1.0  4199848             1,1            1,0   \n",
       "4   8439906      1:0  1.0  4100636             1,1            1,0   \n",
       "\n",
       "   quality_score  reads_normal  reads_tumor   \n",
       "0      14.124316            17            6  \\\n",
       "1      17.667007             9            8   \n",
       "2       1.686418            10            2   \n",
       "3       4.277596            17            2   \n",
       "4      11.770263            30            5   \n",
       "\n",
       "                                           CELL_TYPE       RSID        GENE   \n",
       "0  Naïve/Immature B Cell,Memory B Cell,CD4 Effect...   rs643076  {'UBE2J2'}  \\\n",
       "1  Naïve/Immature B Cell,Memory B Cell,CD4 Effect...   rs643076  {'UBE2J2'}   \n",
       "2  Naïve/Immature B Cell,Memory B Cell,CD4 Effect...   rs643076  {'UBE2J2'}   \n",
       "3  Naïve/Immature B Cell,Memory B Cell,CD4 Effect...   rs643076  {'UBE2J2'}   \n",
       "4  Naïve/Immature B Cell,Memory B Cell,CD4 Effect...  rs3001801  {'WRAP73'}   \n",
       "\n",
       "               GENE_ID A1 A2  A2_FREQ_ONEK1K  A2_FREQ_HRC position_code   \n",
       "0  {'ENSG00000160087'}  A  G         0.70747     0.732261     1-2073553  \\\n",
       "1  {'ENSG00000160087'}  A  G         0.70747     0.732261     1-2073553   \n",
       "2  {'ENSG00000160087'}  A  G         0.70747     0.732261     1-2073553   \n",
       "3  {'ENSG00000160087'}  A  G         0.70747     0.732261     1-2073553   \n",
       "4  {'ENSG00000116213'}  T  C         0.74634     0.754296     1-2897455   \n",
       "\n",
       "       pos_y  position_count n_ref_alleles n_alt_alleles  \n",
       "0  1-2073553               4             1             0  \n",
       "1  1-2073553               4             1             0  \n",
       "2  1-2073553               4             1             0  \n",
       "3  1-2073553               4             1             0  \n",
       "4  1-2897455               4             1             0  "
      ]
     },
     "execution_count": 8,
     "metadata": {},
     "output_type": "execute_result"
    }
   ],
   "source": [
    "df.head()"
   ]
  },
  {
   "cell_type": "code",
   "execution_count": 9,
   "metadata": {},
   "outputs": [
    {
     "data": {
      "text/plain": [
       "208"
      ]
     },
     "execution_count": 9,
     "metadata": {},
     "output_type": "execute_result"
    }
   ],
   "source": [
    "len(df[df[\"n_alt_alleles\"] == \"0\"])"
   ]
  },
  {
   "attachments": {},
   "cell_type": "markdown",
   "metadata": {},
   "source": [
    "Perform binomial test for each position"
   ]
  },
  {
   "cell_type": "code",
   "execution_count": 10,
   "metadata": {},
   "outputs": [],
   "source": [
    "def get_p_value(df_position: pd.DataFrame) -> tuple[float, float]:\n",
    "    n = len(df_position)\n",
    "    df_loss_ref = df_position[df_position[\"n_alt_alleles\"] == \"0\"]\n",
    "    k = len(df_loss_ref)\n",
    "    result = binomtest(k=k, n=n, p=0.5, alternative=\"greater\")\n",
    "    return result.pvalue"
   ]
  },
  {
   "cell_type": "code",
   "execution_count": 11,
   "metadata": {},
   "outputs": [],
   "source": [
    "p_values = df.groupby(\"position_code\").apply(get_p_value)"
   ]
  },
  {
   "attachments": {},
   "cell_type": "markdown",
   "metadata": {},
   "source": [
    "Plot p-values"
   ]
  },
  {
   "cell_type": "code",
   "execution_count": 13,
   "metadata": {},
   "outputs": [
    {
     "data": {
      "text/plain": [
       "<Axes: title={'center': 'Distribution of p-values'}, xlabel='p-value', ylabel='Frequency'>"
      ]
     },
     "execution_count": 13,
     "metadata": {},
     "output_type": "execute_result"
    },
    {
     "data": {
      "image/png": "[encoded data removed]",
      "text/plain": [
       "<Figure size 640x480 with 1 Axes>"
      ]
     },
     "metadata": {},
     "output_type": "display_data"
    }
   ],
   "source": [
    "p_values.plot(kind=\"hist\", title=\"Distribution of p-values\", xlabel=\"p-value\")\n",
    "#plt.yscale(\"log\")"
   ]
  },
  {
   "cell_type": "code",
   "execution_count": null,
   "metadata": {},
   "outputs": [],
   "source": []
  }
 ],
 "metadata": {
  "kernelspec": {
   "display_name": ".venv",
   "language": "python",
   "name": "python3"
  },
  "language_info": {
   "codemirror_mode": {
    "name": "ipython",
    "version": 3
   },
   "file_extension": ".py",
   "mimetype": "text/x-python",
   "name": "python",
   "nbconvert_exporter": "python",
   "pygments_lexer": "ipython3",
   "version": "3.10.6"
  },
  "orig_nbformat": 4
 },
 "nbformat": 4,
 "nbformat_minor": 2
}

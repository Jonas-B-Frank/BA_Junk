{
 "cells": [
  {
   "cell_type": "markdown",
   "metadata": {},
   "source": [
    "## Notebook for analysis of allele biases\n",
    "\n",
    "The parameters 'threshold', 'folder' and 'chromosome' can be changed manually. "
   ]
  },
  {
   "cell_type": "code",
   "execution_count": 2,
   "metadata": {},
   "outputs": [],
   "source": [
    "import math\n",
    "\n",
    "import matplotlib.pyplot as plt\n",
    "import pandas as pd\n",
    "from bioinfokit import analys, visuz\n",
    "from scipy.stats import binomtest \n",
    "from statsmodels.stats import multitest\n",
    "from qmplot import manhattanplot\n",
    "\n",
    "pd.set_option(\"display.max_columns\", None)"
   ]
  },
  {
   "attachments": {},
   "cell_type": "markdown",
   "metadata": {},
   "source": [
    "Read thresholded dataframe with LOH positions"
   ]
  },
  {
   "cell_type": "code",
   "execution_count": 3,
   "metadata": {},
   "outputs": [],
   "source": [
    "threshold = 10\n",
    "folder = \"LOH_pos_thresholded\"\n",
    "readfile = f\"/home/junkhann/daten/{folder}/LOH_positions_threshold_{threshold}.tsv.gz\""
   ]
  },
  {
   "cell_type": "code",
   "execution_count": 4,
   "metadata": {},
   "outputs": [
    {
     "data": {
      "text/plain": [
       "7614506"
      ]
     },
     "execution_count": 4,
     "metadata": {},
     "output_type": "execute_result"
    }
   ],
   "source": [
    "df = pd.read_csv(readfile, sep=\"\\t\", compression=\"gzip\")\n",
    "len(df)"
   ]
  },
  {
   "cell_type": "code",
   "execution_count": 5,
   "metadata": {},
   "outputs": [],
   "source": [
    "def get_number_ref_alleles(entry: str) -> int:\n",
    "    return entry.split(\",\")[0]"
   ]
  },
  {
   "cell_type": "code",
   "execution_count": 6,
   "metadata": {},
   "outputs": [],
   "source": [
    "def get_number_alt_alleles(entry: str) -> int:\n",
    "    return entry.split(\",\")[1]"
   ]
  },
  {
   "cell_type": "code",
   "execution_count": 7,
   "metadata": {},
   "outputs": [],
   "source": [
    "# tumor_genotype field is \"ref,alt\"\n",
    "df[\"n_ref_alleles\"] = df[\"tumor_genotype\"].apply(get_number_ref_alleles)\n",
    "df[\"n_alt_alleles\"] = df[\"tumor_genotype\"].apply(get_number_alt_alleles)"
   ]
  },
  {
   "cell_type": "code",
   "execution_count": 8,
   "metadata": {},
   "outputs": [
    {
     "data": {
      "text/html": [
       "<div>\n",
       "<style scoped>\n",
       "    .dataframe tbody tr th:only-of-type {\n",
       "        vertical-align: middle;\n",
       "    }\n",
       "\n",
       "    .dataframe tbody tr th {\n",
       "        vertical-align: top;\n",
       "    }\n",
       "\n",
       "    .dataframe thead th {\n",
       "        text-align: right;\n",
       "    }\n",
       "</style>\n",
       "<table border=\"1\" class=\"dataframe\">\n",
       "  <thead>\n",
       "    <tr style=\"text-align: right;\">\n",
       "      <th></th>\n",
       "      <th>#CHROM</th>\n",
       "      <th>pos_x</th>\n",
       "      <th>REF</th>\n",
       "      <th>ALT</th>\n",
       "      <th>INFO</th>\n",
       "      <th>sample_control</th>\n",
       "      <th>sample_tumor</th>\n",
       "      <th>start</th>\n",
       "      <th>end</th>\n",
       "      <th>genotype</th>\n",
       "      <th>TCN</th>\n",
       "      <th>PID</th>\n",
       "      <th>normal_genotype</th>\n",
       "      <th>tumor_genotype</th>\n",
       "      <th>quality_score</th>\n",
       "      <th>reads_normal</th>\n",
       "      <th>reads_tumor</th>\n",
       "      <th>CELL_TYPE</th>\n",
       "      <th>RSID</th>\n",
       "      <th>GENE</th>\n",
       "      <th>GENE_ID</th>\n",
       "      <th>A1</th>\n",
       "      <th>A2</th>\n",
       "      <th>A2_FREQ_ONEK1K</th>\n",
       "      <th>A2_FREQ_HRC</th>\n",
       "      <th>position_code</th>\n",
       "      <th>pos_y</th>\n",
       "      <th>position_count</th>\n",
       "      <th>n_ref_alleles</th>\n",
       "      <th>n_alt_alleles</th>\n",
       "    </tr>\n",
       "  </thead>\n",
       "  <tbody>\n",
       "    <tr>\n",
       "      <th>0</th>\n",
       "      <td>3</td>\n",
       "      <td>116741503</td>\n",
       "      <td>G</td>\n",
       "      <td>T</td>\n",
       "      <td>BRF=0.3;FR=0.2502;HP=1;HapScore=1;MGOF=5;MMLQ=...</td>\n",
       "      <td>0/1:-68.95,0,-82.05:5:99:49:24</td>\n",
       "      <td>0/0:0,-2.64,-115.1:2:26:36:3</td>\n",
       "      <td>116664052</td>\n",
       "      <td>116765897</td>\n",
       "      <td>1:0</td>\n",
       "      <td>1.0</td>\n",
       "      <td>4100314</td>\n",
       "      <td>1,1</td>\n",
       "      <td>1,0</td>\n",
       "      <td>99.000000</td>\n",
       "      <td>49</td>\n",
       "      <td>36</td>\n",
       "      <td>CD4 Naive/Central memory T cell</td>\n",
       "      <td>rs62266231</td>\n",
       "      <td>{'RP11-384F7.1'}</td>\n",
       "      <td>{'ENSG00000243276'}</td>\n",
       "      <td>G</td>\n",
       "      <td>T</td>\n",
       "      <td>0.40140</td>\n",
       "      <td>0.394672</td>\n",
       "      <td>3-116741503</td>\n",
       "      <td>3-116741503</td>\n",
       "      <td>20</td>\n",
       "      <td>1</td>\n",
       "      <td>0</td>\n",
       "    </tr>\n",
       "    <tr>\n",
       "      <th>1</th>\n",
       "      <td>3</td>\n",
       "      <td>116741503</td>\n",
       "      <td>G</td>\n",
       "      <td>T</td>\n",
       "      <td>BRF=0.3;FR=0.2502;HP=1;HapScore=1;MGOF=5;MMLQ=...</td>\n",
       "      <td>0/1:-68.95,0,-82.05:5:99:49:24</td>\n",
       "      <td>0/0:0,-2.64,-115.1:2:26:36:3</td>\n",
       "      <td>116664052</td>\n",
       "      <td>116765897</td>\n",
       "      <td>1:0</td>\n",
       "      <td>1.0</td>\n",
       "      <td>4100314</td>\n",
       "      <td>1,1</td>\n",
       "      <td>1,0</td>\n",
       "      <td>99.000000</td>\n",
       "      <td>49</td>\n",
       "      <td>36</td>\n",
       "      <td>CD4 Naive/Central memory T cell</td>\n",
       "      <td>rs75148451</td>\n",
       "      <td>{'RP11-384F7.1'}</td>\n",
       "      <td>{'ENSG00000243276'}</td>\n",
       "      <td>C</td>\n",
       "      <td>T</td>\n",
       "      <td>0.15285</td>\n",
       "      <td>0.141993</td>\n",
       "      <td>3-116741503</td>\n",
       "      <td>3-116741503</td>\n",
       "      <td>20</td>\n",
       "      <td>1</td>\n",
       "      <td>0</td>\n",
       "    </tr>\n",
       "    <tr>\n",
       "      <th>2</th>\n",
       "      <td>3</td>\n",
       "      <td>116741503</td>\n",
       "      <td>G</td>\n",
       "      <td>T</td>\n",
       "      <td>BRF=0.4;FR=0.5;HP=1;HapScore=1;MGOF=1;MMLQ=34;...</td>\n",
       "      <td>0/1:-60.47,0,-30.27:1:99:32:20</td>\n",
       "      <td>0/1:-72.47,0,-17.97:1:99:29:22</td>\n",
       "      <td>116599128</td>\n",
       "      <td>116949659</td>\n",
       "      <td>2:0</td>\n",
       "      <td>2.0</td>\n",
       "      <td>4104105</td>\n",
       "      <td>1,1</td>\n",
       "      <td>0,2</td>\n",
       "      <td>43.209753</td>\n",
       "      <td>32</td>\n",
       "      <td>29</td>\n",
       "      <td>CD4 Naive/Central memory T cell</td>\n",
       "      <td>rs62266231</td>\n",
       "      <td>{'RP11-384F7.1'}</td>\n",
       "      <td>{'ENSG00000243276'}</td>\n",
       "      <td>G</td>\n",
       "      <td>T</td>\n",
       "      <td>0.40140</td>\n",
       "      <td>0.394672</td>\n",
       "      <td>3-116741503</td>\n",
       "      <td>3-116741503</td>\n",
       "      <td>20</td>\n",
       "      <td>0</td>\n",
       "      <td>2</td>\n",
       "    </tr>\n",
       "    <tr>\n",
       "      <th>3</th>\n",
       "      <td>3</td>\n",
       "      <td>116741503</td>\n",
       "      <td>G</td>\n",
       "      <td>T</td>\n",
       "      <td>BRF=0.4;FR=0.5;HP=1;HapScore=1;MGOF=1;MMLQ=34;...</td>\n",
       "      <td>0/1:-60.47,0,-30.27:1:99:32:20</td>\n",
       "      <td>0/1:-72.47,0,-17.97:1:99:29:22</td>\n",
       "      <td>116599128</td>\n",
       "      <td>116949659</td>\n",
       "      <td>2:0</td>\n",
       "      <td>2.0</td>\n",
       "      <td>4104105</td>\n",
       "      <td>1,1</td>\n",
       "      <td>0,2</td>\n",
       "      <td>43.209753</td>\n",
       "      <td>32</td>\n",
       "      <td>29</td>\n",
       "      <td>CD4 Naive/Central memory T cell</td>\n",
       "      <td>rs75148451</td>\n",
       "      <td>{'RP11-384F7.1'}</td>\n",
       "      <td>{'ENSG00000243276'}</td>\n",
       "      <td>C</td>\n",
       "      <td>T</td>\n",
       "      <td>0.15285</td>\n",
       "      <td>0.141993</td>\n",
       "      <td>3-116741503</td>\n",
       "      <td>3-116741503</td>\n",
       "      <td>20</td>\n",
       "      <td>0</td>\n",
       "      <td>2</td>\n",
       "    </tr>\n",
       "    <tr>\n",
       "      <th>4</th>\n",
       "      <td>3</td>\n",
       "      <td>116741503</td>\n",
       "      <td>G</td>\n",
       "      <td>T</td>\n",
       "      <td>BRF=0.2;FR=0.5001;HP=1;HapScore=1;MGOF=1;MMLQ=...</td>\n",
       "      <td>0/1:-59,0,-70.35:1:99:37:16</td>\n",
       "      <td>0/1:-78.38,0,-3.28:0:33:24:22</td>\n",
       "      <td>101685018</td>\n",
       "      <td>127432248</td>\n",
       "      <td>5:0</td>\n",
       "      <td>5.0</td>\n",
       "      <td>4111337</td>\n",
       "      <td>1,1</td>\n",
       "      <td>0,5</td>\n",
       "      <td>99.000000</td>\n",
       "      <td>37</td>\n",
       "      <td>24</td>\n",
       "      <td>CD4 Naive/Central memory T cell</td>\n",
       "      <td>rs62266231</td>\n",
       "      <td>{'RP11-384F7.1'}</td>\n",
       "      <td>{'ENSG00000243276'}</td>\n",
       "      <td>G</td>\n",
       "      <td>T</td>\n",
       "      <td>0.40140</td>\n",
       "      <td>0.394672</td>\n",
       "      <td>3-116741503</td>\n",
       "      <td>3-116741503</td>\n",
       "      <td>20</td>\n",
       "      <td>0</td>\n",
       "      <td>5</td>\n",
       "    </tr>\n",
       "  </tbody>\n",
       "</table>\n",
       "</div>"
      ],
      "text/plain": [
       "   #CHROM      pos_x REF ALT   \n",
       "0       3  116741503   G   T  \\\n",
       "1       3  116741503   G   T   \n",
       "2       3  116741503   G   T   \n",
       "3       3  116741503   G   T   \n",
       "4       3  116741503   G   T   \n",
       "\n",
       "                                                INFO   \n",
       "0  BRF=0.3;FR=0.2502;HP=1;HapScore=1;MGOF=5;MMLQ=...  \\\n",
       "1  BRF=0.3;FR=0.2502;HP=1;HapScore=1;MGOF=5;MMLQ=...   \n",
       "2  BRF=0.4;FR=0.5;HP=1;HapScore=1;MGOF=1;MMLQ=34;...   \n",
       "3  BRF=0.4;FR=0.5;HP=1;HapScore=1;MGOF=1;MMLQ=34;...   \n",
       "4  BRF=0.2;FR=0.5001;HP=1;HapScore=1;MGOF=1;MMLQ=...   \n",
       "\n",
       "                   sample_control                    sample_tumor      start   \n",
       "0  0/1:-68.95,0,-82.05:5:99:49:24    0/0:0,-2.64,-115.1:2:26:36:3  116664052  \\\n",
       "1  0/1:-68.95,0,-82.05:5:99:49:24    0/0:0,-2.64,-115.1:2:26:36:3  116664052   \n",
       "2  0/1:-60.47,0,-30.27:1:99:32:20  0/1:-72.47,0,-17.97:1:99:29:22  116599128   \n",
       "3  0/1:-60.47,0,-30.27:1:99:32:20  0/1:-72.47,0,-17.97:1:99:29:22  116599128   \n",
       "4     0/1:-59,0,-70.35:1:99:37:16   0/1:-78.38,0,-3.28:0:33:24:22  101685018   \n",
       "\n",
       "         end genotype  TCN      PID normal_genotype tumor_genotype   \n",
       "0  116765897      1:0  1.0  4100314             1,1            1,0  \\\n",
       "1  116765897      1:0  1.0  4100314             1,1            1,0   \n",
       "2  116949659      2:0  2.0  4104105             1,1            0,2   \n",
       "3  116949659      2:0  2.0  4104105             1,1            0,2   \n",
       "4  127432248      5:0  5.0  4111337             1,1            0,5   \n",
       "\n",
       "   quality_score  reads_normal  reads_tumor                        CELL_TYPE   \n",
       "0      99.000000            49           36  CD4 Naive/Central memory T cell  \\\n",
       "1      99.000000            49           36  CD4 Naive/Central memory T cell   \n",
       "2      43.209753            32           29  CD4 Naive/Central memory T cell   \n",
       "3      43.209753            32           29  CD4 Naive/Central memory T cell   \n",
       "4      99.000000            37           24  CD4 Naive/Central memory T cell   \n",
       "\n",
       "         RSID              GENE              GENE_ID A1 A2  A2_FREQ_ONEK1K   \n",
       "0  rs62266231  {'RP11-384F7.1'}  {'ENSG00000243276'}  G  T         0.40140  \\\n",
       "1  rs75148451  {'RP11-384F7.1'}  {'ENSG00000243276'}  C  T         0.15285   \n",
       "2  rs62266231  {'RP11-384F7.1'}  {'ENSG00000243276'}  G  T         0.40140   \n",
       "3  rs75148451  {'RP11-384F7.1'}  {'ENSG00000243276'}  C  T         0.15285   \n",
       "4  rs62266231  {'RP11-384F7.1'}  {'ENSG00000243276'}  G  T         0.40140   \n",
       "\n",
       "   A2_FREQ_HRC position_code        pos_y  position_count n_ref_alleles   \n",
       "0     0.394672   3-116741503  3-116741503              20             1  \\\n",
       "1     0.141993   3-116741503  3-116741503              20             1   \n",
       "2     0.394672   3-116741503  3-116741503              20             0   \n",
       "3     0.141993   3-116741503  3-116741503              20             0   \n",
       "4     0.394672   3-116741503  3-116741503              20             0   \n",
       "\n",
       "  n_alt_alleles  \n",
       "0             0  \n",
       "1             0  \n",
       "2             2  \n",
       "3             2  \n",
       "4             5  "
      ]
     },
     "execution_count": 8,
     "metadata": {},
     "output_type": "execute_result"
    }
   ],
   "source": [
    "df.head()"
   ]
  },
  {
   "attachments": {},
   "cell_type": "markdown",
   "metadata": {},
   "source": [
    "Perform binomial test for each position"
   ]
  },
  {
   "cell_type": "code",
   "execution_count": 9,
   "metadata": {},
   "outputs": [],
   "source": [
    "def get_p_value(df_position: pd.DataFrame) -> float:\n",
    "    n = len(df_position)\n",
    "    df_loss_ref = df_position[df_position[\"n_alt_alleles\"] == \"0\"]\n",
    "    k = len(df_loss_ref)\n",
    "    result = binomtest(k=k, n=n, p=0.5, alternative=\"two-sided\")\n",
    "    return result.pvalue"
   ]
  },
  {
   "cell_type": "code",
   "execution_count": 10,
   "metadata": {},
   "outputs": [],
   "source": [
    "p_values = df.groupby(\"position_code\").apply(get_p_value)"
   ]
  },
  {
   "attachments": {},
   "cell_type": "markdown",
   "metadata": {},
   "source": [
    "Plot p-values"
   ]
  },
  {
   "cell_type": "code",
   "execution_count": 11,
   "metadata": {},
   "outputs": [
    {
     "data": {
      "text/plain": [
       "<Axes: title={'center': 'Distribution of p-values'}, xlabel='p-value', ylabel='Frequency'>"
      ]
     },
     "execution_count": 11,
     "metadata": {},
     "output_type": "execute_result"
    },
    {
     "data": {
      "image/png": "[encoded data removed]",
      "text/plain": [
       "<Figure size 640x480 with 1 Axes>"
      ]
     },
     "metadata": {},
     "output_type": "display_data"
    }
   ],
   "source": [
    "p_values.plot(kind=\"hist\", bins=100, title=\"Distribution of p-values\", xlabel=\"p-value\")"
   ]
  },
  {
   "cell_type": "code",
   "execution_count": 12,
   "metadata": {},
   "outputs": [
    {
     "data": {
      "image/png": "[encoded data removed]",
      "text/plain": [
       "<Figure size 640x480 with 1 Axes>"
      ]
     },
     "metadata": {},
     "output_type": "display_data"
    }
   ],
   "source": [
    "p_values.plot(kind=\"hist\", bins=100, title=\"Distribution of p-values\", xlabel=\"p-value\")\n",
    "plt.yscale(\"log\")"
   ]
  },
  {
   "attachments": {},
   "cell_type": "markdown",
   "metadata": {},
   "source": [
    "Benjamini-Hochberg correction for multiple testing"
   ]
  },
  {
   "cell_type": "code",
   "execution_count": 13,
   "metadata": {},
   "outputs": [],
   "source": [
    "rejected, adjusted_p_values, _, _ = multitest.multipletests(p_values, method='fdr_bh')"
   ]
  },
  {
   "cell_type": "code",
   "execution_count": 14,
   "metadata": {},
   "outputs": [
    {
     "data": {
      "text/plain": [
       "Text(0.5, 1.0, 'Distribution of p-values (adjusted by Benjamini-Hochberg correction)')"
      ]
     },
     "execution_count": 14,
     "metadata": {},
     "output_type": "execute_result"
    },
    {
     "data": {
      "image/png": "[encoded data removed]",
      "text/plain": [
       "<Figure size 640x480 with 1 Axes>"
      ]
     },
     "metadata": {},
     "output_type": "display_data"
    }
   ],
   "source": [
    "plt.hist(adjusted_p_values, bins=100)\n",
    "plt.xlabel(\"adjusted p-value\")\n",
    "plt.ylabel(\"frequency\")\n",
    "plt.title(\"Distribution of p-values (adjusted by Benjamini-Hochberg correction)\")"
   ]
  },
  {
   "cell_type": "code",
   "execution_count": 15,
   "metadata": {},
   "outputs": [
    {
     "data": {
      "text/plain": [
       "<matplotlib.lines.Line2D at 0x7f9e18114ee0>"
      ]
     },
     "execution_count": 15,
     "metadata": {},
     "output_type": "execute_result"
    },
    {
     "data": {
      "image/png": "[encoded data removed]",
      "text/plain": [
       "<Figure size 640x480 with 1 Axes>"
      ]
     },
     "metadata": {},
     "output_type": "display_data"
    }
   ],
   "source": [
    "plt.hist(adjusted_p_values, bins=100)\n",
    "plt.xlabel(\"adjusted p-value\")\n",
    "plt.ylabel(\"frequency\")\n",
    "plt.title(\"Distribution of p-values (adjusted by Benjamini-Hochberg correction)\")\n",
    "plt.yscale(\"log\")\n",
    "plt.axvline(x=0.05, linestyle=\"dashed\", color=\"black\")"
   ]
  },
  {
   "cell_type": "markdown",
   "metadata": {},
   "source": [
    "Visualisation: Manhattan plot"
   ]
  },
  {
   "cell_type": "code",
   "execution_count": 16,
   "metadata": {},
   "outputs": [
    {
     "data": {
      "text/html": [
       "<div>\n",
       "<style scoped>\n",
       "    .dataframe tbody tr th:only-of-type {\n",
       "        vertical-align: middle;\n",
       "    }\n",
       "\n",
       "    .dataframe tbody tr th {\n",
       "        vertical-align: top;\n",
       "    }\n",
       "\n",
       "    .dataframe thead th {\n",
       "        text-align: right;\n",
       "    }\n",
       "</style>\n",
       "<table border=\"1\" class=\"dataframe\">\n",
       "  <thead>\n",
       "    <tr style=\"text-align: right;\">\n",
       "      <th></th>\n",
       "      <th>#CHROM</th>\n",
       "      <th>POS</th>\n",
       "      <th>P</th>\n",
       "      <th>ID</th>\n",
       "    </tr>\n",
       "  </thead>\n",
       "  <tbody>\n",
       "    <tr>\n",
       "      <th>0</th>\n",
       "      <td>1</td>\n",
       "      <td>100000012</td>\n",
       "      <td>1.0</td>\n",
       "      <td>1-100000012</td>\n",
       "    </tr>\n",
       "    <tr>\n",
       "      <th>1</th>\n",
       "      <td>1</td>\n",
       "      <td>100000827</td>\n",
       "      <td>1.0</td>\n",
       "      <td>1-100000827</td>\n",
       "    </tr>\n",
       "    <tr>\n",
       "      <th>2</th>\n",
       "      <td>1</td>\n",
       "      <td>100002882</td>\n",
       "      <td>1.0</td>\n",
       "      <td>1-100002882</td>\n",
       "    </tr>\n",
       "    <tr>\n",
       "      <th>3</th>\n",
       "      <td>1</td>\n",
       "      <td>10000400</td>\n",
       "      <td>1.0</td>\n",
       "      <td>1-10000400</td>\n",
       "    </tr>\n",
       "    <tr>\n",
       "      <th>4</th>\n",
       "      <td>1</td>\n",
       "      <td>100004726</td>\n",
       "      <td>1.0</td>\n",
       "      <td>1-100004726</td>\n",
       "    </tr>\n",
       "  </tbody>\n",
       "</table>\n",
       "</div>"
      ],
      "text/plain": [
       "  #CHROM        POS    P           ID\n",
       "0      1  100000012  1.0  1-100000012\n",
       "1      1  100000827  1.0  1-100000827\n",
       "2      1  100002882  1.0  1-100002882\n",
       "3      1   10000400  1.0   1-10000400\n",
       "4      1  100004726  1.0  1-100004726"
      ]
     },
     "execution_count": 16,
     "metadata": {},
     "output_type": "execute_result"
    }
   ],
   "source": [
    "df_manhattan = pd.DataFrame(p_values).reset_index()\n",
    "df_manhattan[\"P\"] = adjusted_p_values\n",
    "df_manhattan[[\"#CHROM\", \"POS\"]] = df_manhattan[\"position_code\"].str.split(\"-\", expand=True)\n",
    "df_manhattan = df_manhattan.rename(columns={0: \"p_val\", \"position_code\": \"ID\"})\n",
    "df_manhattan = df_manhattan[[\"#CHROM\", \"POS\", \"P\", \"ID\"]]\n",
    "df_manhattan.head()"
   ]
  },
  {
   "cell_type": "code",
   "execution_count": 17,
   "metadata": {},
   "outputs": [
    {
     "data": {
      "text/html": [
       "<div>\n",
       "<style scoped>\n",
       "    .dataframe tbody tr th:only-of-type {\n",
       "        vertical-align: middle;\n",
       "    }\n",
       "\n",
       "    .dataframe tbody tr th {\n",
       "        vertical-align: top;\n",
       "    }\n",
       "\n",
       "    .dataframe thead th {\n",
       "        text-align: right;\n",
       "    }\n",
       "</style>\n",
       "<table border=\"1\" class=\"dataframe\">\n",
       "  <thead>\n",
       "    <tr style=\"text-align: right;\">\n",
       "      <th></th>\n",
       "      <th>#CHROM</th>\n",
       "      <th>POS</th>\n",
       "      <th>P</th>\n",
       "      <th>ID</th>\n",
       "    </tr>\n",
       "  </thead>\n",
       "  <tbody>\n",
       "    <tr>\n",
       "      <th>237963</th>\n",
       "      <td>22</td>\n",
       "      <td>50466543</td>\n",
       "      <td>1.0</td>\n",
       "      <td>22-50466543</td>\n",
       "    </tr>\n",
       "    <tr>\n",
       "      <th>237964</th>\n",
       "      <td>22</td>\n",
       "      <td>50761999</td>\n",
       "      <td>1.0</td>\n",
       "      <td>22-50761999</td>\n",
       "    </tr>\n",
       "    <tr>\n",
       "      <th>237965</th>\n",
       "      <td>22</td>\n",
       "      <td>50762000</td>\n",
       "      <td>1.0</td>\n",
       "      <td>22-50762000</td>\n",
       "    </tr>\n",
       "    <tr>\n",
       "      <th>237966</th>\n",
       "      <td>22</td>\n",
       "      <td>50820076</td>\n",
       "      <td>1.0</td>\n",
       "      <td>22-50820076</td>\n",
       "    </tr>\n",
       "    <tr>\n",
       "      <th>237967</th>\n",
       "      <td>22</td>\n",
       "      <td>50820077</td>\n",
       "      <td>1.0</td>\n",
       "      <td>22-50820077</td>\n",
       "    </tr>\n",
       "  </tbody>\n",
       "</table>\n",
       "</div>"
      ],
      "text/plain": [
       "        #CHROM       POS    P           ID\n",
       "237963      22  50466543  1.0  22-50466543\n",
       "237964      22  50761999  1.0  22-50761999\n",
       "237965      22  50762000  1.0  22-50762000\n",
       "237966      22  50820076  1.0  22-50820076\n",
       "237967      22  50820077  1.0  22-50820077"
      ]
     },
     "execution_count": 17,
     "metadata": {},
     "output_type": "execute_result"
    }
   ],
   "source": [
    "df_manhattan[\"#CHROM\"] = df_manhattan[\"#CHROM\"].astype(int)\n",
    "df_manhattan[\"POS\"] = df_manhattan[\"POS\"].astype(int)\n",
    "df_manhattan[\"ID\"] = df_manhattan[\"ID\"].astype(str)\n",
    "df_manhattan = df_manhattan.sort_values(by=[\"#CHROM\", \"POS\"])\n",
    "df_manhattan.tail()"
   ]
  },
  {
   "cell_type": "code",
   "execution_count": 33,
   "metadata": {},
   "outputs": [
    {
     "data": {
      "image/png": "[encoded data removed]",
      "text/plain": [
       "<Figure size 900x300 with 1 Axes>"
      ]
     },
     "metadata": {},
     "output_type": "display_data"
    }
   ],
   "source": [
    "ax = manhattanplot(\n",
    "    data=df_manhattan,\n",
    "    genomewideline=0.05,\n",
    "    xticklabel_kws={\"rotation\": \"vertical\"})"
   ]
  },
  {
   "cell_type": "markdown",
   "metadata": {},
   "source": [
    "Zoom in on chromosomes"
   ]
  },
  {
   "cell_type": "code",
   "execution_count": 39,
   "metadata": {},
   "outputs": [],
   "source": [
    "chromosome = 6"
   ]
  },
  {
   "cell_type": "code",
   "execution_count": 40,
   "metadata": {},
   "outputs": [
    {
     "data": {
      "text/plain": [
       "222343"
      ]
     },
     "execution_count": 40,
     "metadata": {},
     "output_type": "execute_result"
    }
   ],
   "source": [
    "df_chrom = df_manhattan[df_manhattan[\"#CHROM\"] == str(chromosome)]\n",
    "len(df_chrom)"
   ]
  },
  {
   "cell_type": "code",
   "execution_count": 47,
   "metadata": {},
   "outputs": [
    {
     "name": "stderr",
     "output_type": "stream",
     "text": [
      "/home/junkhann/.venv/lib/python3.10/site-packages/qmplot/modules/_manhattan.py:239: SettingWithCopyWarning: \n",
      "A value is trying to be set on a copy of a slice from a DataFrame.\n",
      "Try using .loc[row_indexer,col_indexer] = value instead\n",
      "\n",
      "See the caveats in the documentation: https://pandas.pydata.org/pandas-docs/stable/user_guide/indexing.html#returning-a-view-versus-a-copy\n",
      "  data[[chrom]] = data[[chrom]].astype(str)  # make sure all the chromosome id are character.\n",
      "/home/junkhann/.venv/lib/python3.10/site-packages/qmplot/modules/_manhattan.py:320: RuntimeWarning: divide by zero encountered in log10\n",
      "  ax.axhline(y=-np.log10(suggestiveline) if logp else suggestiveline, color=sign_line_cols[0], **hline_kws)\n"
     ]
    },
    {
     "data": {
      "image/png": "[encoded data removed]",
      "text/plain": [
       "<Figure size 900x300 with 1 Axes>"
      ]
     },
     "metadata": {},
     "output_type": "display_data"
    }
   ],
   "source": [
    "ax = manhattanplot(\n",
    "    data=df_chrom,\n",
    "    xticklabel_kws={\"rotation\": \"vertical\"}, \n",
    "    genomewideline=0.05,\n",
    "    is_annotate_topsnp=True,\n",
    "    suggestiveline=False,\n",
    "    xlabel=f\"Chromosome {chromosome}\")"
   ]
  },
  {
   "cell_type": "markdown",
   "metadata": {},
   "source": [
    "Get genomic region on chromosomes"
   ]
  },
  {
   "cell_type": "code",
   "execution_count": 44,
   "metadata": {},
   "outputs": [],
   "source": [
    "df_region = df_manhattan[df_manhattan[\"#CHROM\"] == str(chromosome)]\n",
    "df_region = df_region[df_region[\"P\"] < 0.05]\n",
    "min_pos = df_region[\"POS\"].min()\n",
    "max_pos = df_region[\"POS\"].max()"
   ]
  },
  {
   "cell_type": "code",
   "execution_count": 45,
   "metadata": {},
   "outputs": [
    {
     "data": {
      "text/plain": [
       "(5853468, 128106408)"
      ]
     },
     "execution_count": 45,
     "metadata": {},
     "output_type": "execute_result"
    }
   ],
   "source": [
    "min_pos, max_pos"
   ]
  },
  {
   "cell_type": "markdown",
   "metadata": {},
   "source": [
    "Volcano plot"
   ]
  },
  {
   "cell_type": "code",
   "execution_count": 24,
   "metadata": {},
   "outputs": [],
   "source": [
    "def get_log_score(df_position: pd.DataFrame) -> float:\n",
    "    n = len(df_position)\n",
    "    df_loss_ref = df_position[df_position[\"n_alt_alleles\"] == \"0\"]\n",
    "    ref = len(df_loss_ref)\n",
    "    alt = n - ref\n",
    "    if alt == 0 or ref == 0:\n",
    "        log_score = float(\"nan\")\n",
    "    else:\n",
    "        log_score = math.log10(ref / alt)\n",
    "    return log_score"
   ]
  },
  {
   "cell_type": "code",
   "execution_count": 25,
   "metadata": {},
   "outputs": [],
   "source": [
    "log_scores = df.groupby(\"position_code\").apply(get_log_score)"
   ]
  },
  {
   "cell_type": "code",
   "execution_count": 26,
   "metadata": {},
   "outputs": [
    {
     "data": {
      "text/plain": [
       "position_code\n",
       "1-100000012   -0.255273\n",
       "1-100000827   -0.204120\n",
       "1-100002882   -0.204120\n",
       "1-10000400     0.000000\n",
       "1-100004726    0.000000\n",
       "                 ...   \n",
       "9-99105420     0.698970\n",
       "9-993036      -0.079181\n",
       "9-993760      -0.367977\n",
       "9-99853127          NaN\n",
       "9-99853128          NaN\n",
       "Length: 490185, dtype: float64"
      ]
     },
     "execution_count": 26,
     "metadata": {},
     "output_type": "execute_result"
    }
   ],
   "source": [
    "log_scores"
   ]
  },
  {
   "cell_type": "code",
   "execution_count": 27,
   "metadata": {},
   "outputs": [
    {
     "data": {
      "text/html": [
       "<div>\n",
       "<style scoped>\n",
       "    .dataframe tbody tr th:only-of-type {\n",
       "        vertical-align: middle;\n",
       "    }\n",
       "\n",
       "    .dataframe tbody tr th {\n",
       "        vertical-align: top;\n",
       "    }\n",
       "\n",
       "    .dataframe thead th {\n",
       "        text-align: right;\n",
       "    }\n",
       "</style>\n",
       "<table border=\"1\" class=\"dataframe\">\n",
       "  <thead>\n",
       "    <tr style=\"text-align: right;\">\n",
       "      <th></th>\n",
       "      <th>position_code</th>\n",
       "      <th>p_value</th>\n",
       "      <th>log_score</th>\n",
       "      <th>adjusted p_val</th>\n",
       "    </tr>\n",
       "  </thead>\n",
       "  <tbody>\n",
       "    <tr>\n",
       "      <th>0</th>\n",
       "      <td>1-100000012</td>\n",
       "      <td>0.423950</td>\n",
       "      <td>-0.255273</td>\n",
       "      <td>1.0</td>\n",
       "    </tr>\n",
       "    <tr>\n",
       "      <th>1</th>\n",
       "      <td>1-100000827</td>\n",
       "      <td>0.581055</td>\n",
       "      <td>-0.204120</td>\n",
       "      <td>1.0</td>\n",
       "    </tr>\n",
       "    <tr>\n",
       "      <th>2</th>\n",
       "      <td>1-100002882</td>\n",
       "      <td>0.581055</td>\n",
       "      <td>-0.204120</td>\n",
       "      <td>1.0</td>\n",
       "    </tr>\n",
       "    <tr>\n",
       "      <th>3</th>\n",
       "      <td>1-10000400</td>\n",
       "      <td>1.000000</td>\n",
       "      <td>0.000000</td>\n",
       "      <td>1.0</td>\n",
       "    </tr>\n",
       "    <tr>\n",
       "      <th>4</th>\n",
       "      <td>1-100004726</td>\n",
       "      <td>1.000000</td>\n",
       "      <td>0.000000</td>\n",
       "      <td>1.0</td>\n",
       "    </tr>\n",
       "  </tbody>\n",
       "</table>\n",
       "</div>"
      ],
      "text/plain": [
       "  position_code   p_value  log_score  adjusted p_val\n",
       "0   1-100000012  0.423950  -0.255273             1.0\n",
       "1   1-100000827  0.581055  -0.204120             1.0\n",
       "2   1-100002882  0.581055  -0.204120             1.0\n",
       "3    1-10000400  1.000000   0.000000             1.0\n",
       "4   1-100004726  1.000000   0.000000             1.0"
      ]
     },
     "execution_count": 27,
     "metadata": {},
     "output_type": "execute_result"
    }
   ],
   "source": [
    "df_volcano = pd.DataFrame(p_values).reset_index()\n",
    "df_volcano[\"log_score\"] = log_scores.values\n",
    "df_volcano[\"adjusted p_val\"] = adjusted_p_values\n",
    "df_volcano = df_volcano.rename(columns={0: \"p_value\"})\n",
    "df_volcano.head()"
   ]
  },
  {
   "cell_type": "code",
   "execution_count": 28,
   "metadata": {},
   "outputs": [],
   "source": [
    "df_volcano = df_volcano.dropna(axis=0, subset=[\"log_score\"])"
   ]
  },
  {
   "cell_type": "code",
   "execution_count": 30,
   "metadata": {},
   "outputs": [
    {
     "ename": "AssertionError",
     "evalue": "either significant or non-significant genes are missing; try to change lfc_thr or pv_thr to include both significant and non-significant genes",
     "output_type": "error",
     "traceback": [
      "\u001b[0;31m---------------------------------------------------------------------------\u001b[0m",
      "\u001b[0;31mAssertionError\u001b[0m                            Traceback (most recent call last)",
      "Cell \u001b[0;32mIn[30], line 1\u001b[0m\n\u001b[0;32m----> 1\u001b[0m visuz\u001b[39m.\u001b[39;49mGeneExpression\u001b[39m.\u001b[39;49mvolcano(df\u001b[39m=\u001b[39;49mdf_volcano, lfc\u001b[39m=\u001b[39;49m\u001b[39m'\u001b[39;49m\u001b[39mlog_score\u001b[39;49m\u001b[39m'\u001b[39;49m, pv\u001b[39m=\u001b[39;49m\u001b[39m'\u001b[39;49m\u001b[39madjusted p_val\u001b[39;49m\u001b[39m'\u001b[39;49m, show\u001b[39m=\u001b[39;49m\u001b[39mTrue\u001b[39;49;00m, axxlabel\u001b[39m=\u001b[39;49m\u001b[39m\"\u001b[39;49m\u001b[39mlog10(# ref alleles lost / # alt alleles lost)\u001b[39;49m\u001b[39m\"\u001b[39;49m, plotlegend\u001b[39m=\u001b[39;49m\u001b[39mTrue\u001b[39;49;00m, legendlabels\u001b[39m=\u001b[39;49m[\u001b[39m\"\u001b[39;49m\u001b[39mref allele lost significantly less often\u001b[39;49m\u001b[39m\"\u001b[39;49m, \u001b[39m\"\u001b[39;49m\u001b[39mnot significant\u001b[39;49m\u001b[39m\"\u001b[39;49m, \u001b[39m\"\u001b[39;49m\u001b[39mref allele lost significantly more often\u001b[39;49m\u001b[39m\"\u001b[39;49m])\n",
      "File \u001b[0;32m~/.venv/lib/python3.10/site-packages/bioinfokit/visuz.py:158\u001b[0m, in \u001b[0;36mGeneExpression.volcano\u001b[0;34m(df, lfc, pv, lfc_thr, pv_thr, color, valpha, geneid, genenames, gfont, dim, r, ar, dotsize, markerdot, sign_line, gstyle, show, figtype, axtickfontsize, axtickfontname, axlabelfontsize, axlabelfontname, axxlabel, axylabel, xlm, ylm, plotlegend, legendpos, figname, legendanchor, legendlabels, theme)\u001b[0m\n\u001b[1;32m    156\u001b[0m assign_values \u001b[39m=\u001b[39m {col: i \u001b[39mfor\u001b[39;00m i, col \u001b[39min\u001b[39;00m \u001b[39menumerate\u001b[39m(color)}\n\u001b[1;32m    157\u001b[0m color_result_num \u001b[39m=\u001b[39m [assign_values[i] \u001b[39mfor\u001b[39;00m i \u001b[39min\u001b[39;00m df[\u001b[39m'\u001b[39m\u001b[39mcolor_add_axy\u001b[39m\u001b[39m'\u001b[39m]]\n\u001b[0;32m--> 158\u001b[0m \u001b[39massert\u001b[39;00m \u001b[39mlen\u001b[39m(\u001b[39mset\u001b[39m(color_result_num)) \u001b[39m==\u001b[39m \u001b[39m3\u001b[39m, \\\n\u001b[1;32m    159\u001b[0m     \u001b[39m'\u001b[39m\u001b[39meither significant or non-significant genes are missing; try to change lfc_thr or pv_thr to include \u001b[39m\u001b[39m'\u001b[39m \\\n\u001b[1;32m    160\u001b[0m     \u001b[39m'\u001b[39m\u001b[39mboth significant and non-significant genes\u001b[39m\u001b[39m'\u001b[39m\n\u001b[1;32m    161\u001b[0m \u001b[39mif\u001b[39;00m theme \u001b[39m==\u001b[39m \u001b[39m'\u001b[39m\u001b[39mdark\u001b[39m\u001b[39m'\u001b[39m:\n\u001b[1;32m    162\u001b[0m     general\u001b[39m.\u001b[39mdark_bg()\n",
      "\u001b[0;31mAssertionError\u001b[0m: either significant or non-significant genes are missing; try to change lfc_thr or pv_thr to include both significant and non-significant genes"
     ]
    }
   ],
   "source": [
    "visuz.GeneExpression.volcano(df=df_volcano, lfc='log_score', pv='adjusted p_val', show=True, axxlabel=\"log10(# ref alleles lost / # alt alleles lost)\", plotlegend=True, legendlabels=[\"ref allele lost significantly less often\", \"not significant\", \"ref allele lost significantly more often\"])"
   ]
  },
  {
   "cell_type": "code",
   "execution_count": null,
   "metadata": {},
   "outputs": [],
   "source": []
  }
 ],
 "metadata": {
  "kernelspec": {
   "display_name": ".venv",
   "language": "python",
   "name": "python3"
  },
  "language_info": {
   "codemirror_mode": {
    "name": "ipython",
    "version": 3
   },
   "file_extension": ".py",
   "mimetype": "text/x-python",
   "name": "python",
   "nbconvert_exporter": "python",
   "pygments_lexer": "ipython3",
   "version": "3.10.6"
  },
  "orig_nbformat": 4
 },
 "nbformat": 4,
 "nbformat_minor": 2
}

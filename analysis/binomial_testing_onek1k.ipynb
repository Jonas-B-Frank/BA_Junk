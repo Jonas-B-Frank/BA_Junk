{
 "cells": [
  {
   "cell_type": "markdown",
   "metadata": {},
   "source": [
    "## Notebook for analysis of allele biases\n",
    "\n",
    "The parameters 'threshold', 'folder' and 'chromosome' can be changed manually. "
   ]
  },
  {
   "cell_type": "code",
   "execution_count": 1,
   "metadata": {},
   "outputs": [
    {
     "name": "stdout",
     "output_type": "stream",
     "text": [
      "Requirement already satisfied: bioinfokit in /home/frajonas/miniconda3/lib/python3.10/site-packages (2.1.3)\n",
      "Requirement already satisfied: pandas in /home/frajonas/miniconda3/lib/python3.10/site-packages (from bioinfokit) (2.0.0)\n",
      "Requirement already satisfied: numpy in /home/frajonas/miniconda3/lib/python3.10/site-packages (from bioinfokit) (1.24.2)\n",
      "Requirement already satisfied: matplotlib in /home/frajonas/miniconda3/lib/python3.10/site-packages (from bioinfokit) (3.7.2)\n",
      "Requirement already satisfied: scipy in /home/frajonas/miniconda3/lib/python3.10/site-packages (from bioinfokit) (1.11.2)\n",
      "Requirement already satisfied: scikit-learn in /home/frajonas/miniconda3/lib/python3.10/site-packages (from bioinfokit) (1.3.0)\n",
      "Requirement already satisfied: seaborn in /home/frajonas/miniconda3/lib/python3.10/site-packages (from bioinfokit) (0.12.2)\n",
      "Requirement already satisfied: matplotlib-venn in /home/frajonas/miniconda3/lib/python3.10/site-packages (from bioinfokit) (0.11.9)\n",
      "Requirement already satisfied: tabulate in /home/frajonas/miniconda3/lib/python3.10/site-packages (from bioinfokit) (0.9.0)\n",
      "Requirement already satisfied: statsmodels in /home/frajonas/miniconda3/lib/python3.10/site-packages (from bioinfokit) (0.14.0)\n",
      "Requirement already satisfied: textwrap3 in /home/frajonas/miniconda3/lib/python3.10/site-packages (from bioinfokit) (0.9.2)\n",
      "Requirement already satisfied: adjustText in /home/frajonas/miniconda3/lib/python3.10/site-packages (from bioinfokit) (0.8)\n",
      "Requirement already satisfied: contourpy>=1.0.1 in /home/frajonas/miniconda3/lib/python3.10/site-packages (from matplotlib->bioinfokit) (1.1.0)\n",
      "Requirement already satisfied: cycler>=0.10 in /home/frajonas/miniconda3/lib/python3.10/site-packages (from matplotlib->bioinfokit) (0.11.0)\n",
      "Requirement already satisfied: fonttools>=4.22.0 in /home/frajonas/miniconda3/lib/python3.10/site-packages (from matplotlib->bioinfokit) (4.42.1)\n",
      "Requirement already satisfied: kiwisolver>=1.0.1 in /home/frajonas/miniconda3/lib/python3.10/site-packages (from matplotlib->bioinfokit) (1.4.5)\n",
      "Requirement already satisfied: packaging>=20.0 in /home/frajonas/miniconda3/lib/python3.10/site-packages (from matplotlib->bioinfokit) (23.0)\n",
      "Requirement already satisfied: pillow>=6.2.0 in /home/frajonas/miniconda3/lib/python3.10/site-packages (from matplotlib->bioinfokit) (10.0.0)\n",
      "Requirement already satisfied: pyparsing<3.1,>=2.3.1 in /home/frajonas/miniconda3/lib/python3.10/site-packages (from matplotlib->bioinfokit) (3.0.9)\n",
      "Requirement already satisfied: python-dateutil>=2.7 in /home/frajonas/miniconda3/lib/python3.10/site-packages (from matplotlib->bioinfokit) (2.8.2)\n",
      "Requirement already satisfied: pytz>=2020.1 in /home/frajonas/miniconda3/lib/python3.10/site-packages (from pandas->bioinfokit) (2023.3)\n",
      "Requirement already satisfied: tzdata>=2022.1 in /home/frajonas/miniconda3/lib/python3.10/site-packages (from pandas->bioinfokit) (2023.3)\n",
      "Requirement already satisfied: joblib>=1.1.1 in /home/frajonas/miniconda3/lib/python3.10/site-packages (from scikit-learn->bioinfokit) (1.3.2)\n",
      "Requirement already satisfied: threadpoolctl>=2.0.0 in /home/frajonas/miniconda3/lib/python3.10/site-packages (from scikit-learn->bioinfokit) (3.2.0)\n",
      "Requirement already satisfied: patsy>=0.5.2 in /home/frajonas/miniconda3/lib/python3.10/site-packages (from statsmodels->bioinfokit) (0.5.3)\n",
      "Requirement already satisfied: six in /home/frajonas/miniconda3/lib/python3.10/site-packages (from patsy>=0.5.2->statsmodels->bioinfokit) (1.16.0)\n",
      "Requirement already satisfied: qmplot in /home/frajonas/miniconda3/lib/python3.10/site-packages (0.3.2)\n",
      "Requirement already satisfied: numpy in /home/frajonas/miniconda3/lib/python3.10/site-packages (from qmplot) (1.24.2)\n",
      "Requirement already satisfied: scipy in /home/frajonas/miniconda3/lib/python3.10/site-packages (from qmplot) (1.11.2)\n",
      "Requirement already satisfied: pandas in /home/frajonas/miniconda3/lib/python3.10/site-packages (from qmplot) (2.0.0)\n",
      "Requirement already satisfied: matplotlib in /home/frajonas/miniconda3/lib/python3.10/site-packages (from qmplot) (3.7.2)\n",
      "Requirement already satisfied: contourpy>=1.0.1 in /home/frajonas/miniconda3/lib/python3.10/site-packages (from matplotlib->qmplot) (1.1.0)\n",
      "Requirement already satisfied: cycler>=0.10 in /home/frajonas/miniconda3/lib/python3.10/site-packages (from matplotlib->qmplot) (0.11.0)\n",
      "Requirement already satisfied: fonttools>=4.22.0 in /home/frajonas/miniconda3/lib/python3.10/site-packages (from matplotlib->qmplot) (4.42.1)\n",
      "Requirement already satisfied: kiwisolver>=1.0.1 in /home/frajonas/miniconda3/lib/python3.10/site-packages (from matplotlib->qmplot) (1.4.5)\n",
      "Requirement already satisfied: packaging>=20.0 in /home/frajonas/miniconda3/lib/python3.10/site-packages (from matplotlib->qmplot) (23.0)\n",
      "Requirement already satisfied: pillow>=6.2.0 in /home/frajonas/miniconda3/lib/python3.10/site-packages (from matplotlib->qmplot) (10.0.0)\n",
      "Requirement already satisfied: pyparsing<3.1,>=2.3.1 in /home/frajonas/miniconda3/lib/python3.10/site-packages (from matplotlib->qmplot) (3.0.9)\n",
      "Requirement already satisfied: python-dateutil>=2.7 in /home/frajonas/miniconda3/lib/python3.10/site-packages (from matplotlib->qmplot) (2.8.2)\n",
      "Requirement already satisfied: pytz>=2020.1 in /home/frajonas/miniconda3/lib/python3.10/site-packages (from pandas->qmplot) (2023.3)\n",
      "Requirement already satisfied: tzdata>=2022.1 in /home/frajonas/miniconda3/lib/python3.10/site-packages (from pandas->qmplot) (2023.3)\n",
      "Requirement already satisfied: six>=1.5 in /home/frajonas/miniconda3/lib/python3.10/site-packages (from python-dateutil>=2.7->matplotlib->qmplot) (1.16.0)\n"
     ]
    }
   ],
   "source": [
    "!pip install bioinfokit\n",
    "!pip install qmplot\n",
    "\n",
    "import math\n",
    "import matplotlib.pyplot as plt\n",
    "import pandas as pd\n",
    "from bioinfokit import analys, visuz\n",
    "from scipy.stats import binomtest \n",
    "from statsmodels.stats import multitest\n",
    "from qmplot import manhattanplot\n",
    "\n",
    "pd.set_option(\"display.max_columns\", None)"
   ]
  },
  {
   "attachments": {},
   "cell_type": "markdown",
   "metadata": {},
   "source": [
    "Read thresholded dataframe with LOH positions"
   ]
  },
  {
   "cell_type": "code",
   "execution_count": 18,
   "metadata": {},
   "outputs": [],
   "source": [
    "threshold = 40\n",
    "folder = \"LOH_pos_thresholded\"\n",
    "readfile = f\"../{folder}/LOH_positions_threshold_{threshold}.tsv.gz\""
   ]
  },
  {
   "cell_type": "code",
   "execution_count": 19,
   "metadata": {},
   "outputs": [
    {
     "data": {
      "text/plain": [
       "13249"
      ]
     },
     "execution_count": 19,
     "metadata": {},
     "output_type": "execute_result"
    }
   ],
   "source": [
    "df = pd.read_csv(readfile, sep=\"\\t\", compression=\"gzip\")\n",
    "len(df)"
   ]
  },
  {
   "cell_type": "code",
   "execution_count": 20,
   "metadata": {},
   "outputs": [],
   "source": [
    "def get_number_ref_alleles(entry: str) -> int:\n",
    "    return entry.split(\",\")[0]"
   ]
  },
  {
   "cell_type": "code",
   "execution_count": 21,
   "metadata": {},
   "outputs": [],
   "source": [
    "def get_number_alt_alleles(entry: str) -> int:\n",
    "    return entry.split(\",\")[1]"
   ]
  },
  {
   "cell_type": "code",
   "execution_count": 22,
   "metadata": {},
   "outputs": [],
   "source": [
    "# tumor_genotype field is \"ref,alt\"\n",
    "df[\"n_ref_alleles\"] = df[\"tumor_genotype\"].apply(get_number_ref_alleles)\n",
    "df[\"n_alt_alleles\"] = df[\"tumor_genotype\"].apply(get_number_alt_alleles)"
   ]
  },
  {
   "cell_type": "code",
   "execution_count": 23,
   "metadata": {},
   "outputs": [
    {
     "data": {
      "text/html": [
       "<div>\n",
       "<style scoped>\n",
       "    .dataframe tbody tr th:only-of-type {\n",
       "        vertical-align: middle;\n",
       "    }\n",
       "\n",
       "    .dataframe tbody tr th {\n",
       "        vertical-align: top;\n",
       "    }\n",
       "\n",
       "    .dataframe thead th {\n",
       "        text-align: right;\n",
       "    }\n",
       "</style>\n",
       "<table border=\"1\" class=\"dataframe\">\n",
       "  <thead>\n",
       "    <tr style=\"text-align: right;\">\n",
       "      <th></th>\n",
       "      <th>#CHROM</th>\n",
       "      <th>pos_x</th>\n",
       "      <th>REF</th>\n",
       "      <th>ALT</th>\n",
       "      <th>INFO</th>\n",
       "      <th>sample_control</th>\n",
       "      <th>sample_tumor</th>\n",
       "      <th>start</th>\n",
       "      <th>end</th>\n",
       "      <th>genotype</th>\n",
       "      <th>TCN</th>\n",
       "      <th>PID</th>\n",
       "      <th>normal_genotype</th>\n",
       "      <th>tumor_genotype</th>\n",
       "      <th>quality_score</th>\n",
       "      <th>reads_normal</th>\n",
       "      <th>reads_tumor</th>\n",
       "      <th>CELL_TYPE</th>\n",
       "      <th>RSID</th>\n",
       "      <th>GENE</th>\n",
       "      <th>GENE_ID</th>\n",
       "      <th>A1</th>\n",
       "      <th>A2</th>\n",
       "      <th>A2_FREQ_ONEK1K</th>\n",
       "      <th>A2_FREQ_HRC</th>\n",
       "      <th>position_code</th>\n",
       "      <th>pos_y</th>\n",
       "      <th>position_count</th>\n",
       "      <th>n_ref_alleles</th>\n",
       "      <th>n_alt_alleles</th>\n",
       "    </tr>\n",
       "  </thead>\n",
       "  <tbody>\n",
       "    <tr>\n",
       "      <th>0</th>\n",
       "      <td>1</td>\n",
       "      <td>1959977</td>\n",
       "      <td>C</td>\n",
       "      <td>T</td>\n",
       "      <td>BRF=0.12;FR=0.5;HP=4;HapScore=2;MGOF=15;MMLQ=1...</td>\n",
       "      <td>0/1:-18.48,0,-25.08:15:99:17:9</td>\n",
       "      <td>0/1:-37.18,0,-15.88:12:99:20:13</td>\n",
       "      <td>840009</td>\n",
       "      <td>8439906</td>\n",
       "      <td>1:0</td>\n",
       "      <td>1.0</td>\n",
       "      <td>4100636</td>\n",
       "      <td>1,1</td>\n",
       "      <td>0,1</td>\n",
       "      <td>23.232969</td>\n",
       "      <td>17</td>\n",
       "      <td>20</td>\n",
       "      <td>Naïve/Immature B Cell,Memory B Cell,CD4 Effect...</td>\n",
       "      <td>rs28409373</td>\n",
       "      <td>{'UBE2J2'}</td>\n",
       "      <td>{'ENSG00000160087'}</td>\n",
       "      <td>C</td>\n",
       "      <td>T</td>\n",
       "      <td>0.59916</td>\n",
       "      <td>0.594857</td>\n",
       "      <td>1-1959977</td>\n",
       "      <td>1-1959977</td>\n",
       "      <td>40</td>\n",
       "      <td>0</td>\n",
       "      <td>1</td>\n",
       "    </tr>\n",
       "    <tr>\n",
       "      <th>1</th>\n",
       "      <td>1</td>\n",
       "      <td>1959977</td>\n",
       "      <td>C</td>\n",
       "      <td>T</td>\n",
       "      <td>BRF=0.24;FR=0.5;HP=4;HapScore=2;MGOF=7;MMLQ=28...</td>\n",
       "      <td>0/1:-18.07,0,-65.37:7:99:31:10</td>\n",
       "      <td>0/1:-40.98,0,-13.28:4:99:22:16</td>\n",
       "      <td>840009</td>\n",
       "      <td>12839977</td>\n",
       "      <td>2:0</td>\n",
       "      <td>2.0</td>\n",
       "      <td>4101626</td>\n",
       "      <td>1,1</td>\n",
       "      <td>0,2</td>\n",
       "      <td>60.205999</td>\n",
       "      <td>31</td>\n",
       "      <td>22</td>\n",
       "      <td>Naïve/Immature B Cell,Memory B Cell,CD4 Effect...</td>\n",
       "      <td>rs28409373</td>\n",
       "      <td>{'UBE2J2'}</td>\n",
       "      <td>{'ENSG00000160087'}</td>\n",
       "      <td>C</td>\n",
       "      <td>T</td>\n",
       "      <td>0.59916</td>\n",
       "      <td>0.594857</td>\n",
       "      <td>1-1959977</td>\n",
       "      <td>1-1959977</td>\n",
       "      <td>40</td>\n",
       "      <td>0</td>\n",
       "      <td>2</td>\n",
       "    </tr>\n",
       "    <tr>\n",
       "      <th>2</th>\n",
       "      <td>1</td>\n",
       "      <td>1959977</td>\n",
       "      <td>C</td>\n",
       "      <td>T</td>\n",
       "      <td>BRF=0.13;FR=0.5;HP=4;HapScore=1;MGOF=3;MMLQ=30...</td>\n",
       "      <td>0/1:-41.47,0,-30.57:0:99:27:16</td>\n",
       "      <td>0/1:-63.97,0,-6.27:3:63:29:24</td>\n",
       "      <td>840009</td>\n",
       "      <td>12839977</td>\n",
       "      <td>2:0</td>\n",
       "      <td>2.0</td>\n",
       "      <td>4101815</td>\n",
       "      <td>1,1</td>\n",
       "      <td>0,2</td>\n",
       "      <td>99.000000</td>\n",
       "      <td>27</td>\n",
       "      <td>29</td>\n",
       "      <td>Naïve/Immature B Cell,Memory B Cell,CD4 Effect...</td>\n",
       "      <td>rs28409373</td>\n",
       "      <td>{'UBE2J2'}</td>\n",
       "      <td>{'ENSG00000160087'}</td>\n",
       "      <td>C</td>\n",
       "      <td>T</td>\n",
       "      <td>0.59916</td>\n",
       "      <td>0.594857</td>\n",
       "      <td>1-1959977</td>\n",
       "      <td>1-1959977</td>\n",
       "      <td>40</td>\n",
       "      <td>0</td>\n",
       "      <td>2</td>\n",
       "    </tr>\n",
       "    <tr>\n",
       "      <th>3</th>\n",
       "      <td>1</td>\n",
       "      <td>1959977</td>\n",
       "      <td>C</td>\n",
       "      <td>T</td>\n",
       "      <td>BRF=0.03;FR=0.5;HP=4;HapScore=2;MGOF=6;MMLQ=30...</td>\n",
       "      <td>0/1:-21.35,0,-56.75:3:99:27:9</td>\n",
       "      <td>0/1:-24.19,0,-18.99:6:99:16:9</td>\n",
       "      <td>850030</td>\n",
       "      <td>7459920</td>\n",
       "      <td>1:0</td>\n",
       "      <td>1.0</td>\n",
       "      <td>4103141</td>\n",
       "      <td>1,1</td>\n",
       "      <td>0,1</td>\n",
       "      <td>3.098039</td>\n",
       "      <td>27</td>\n",
       "      <td>16</td>\n",
       "      <td>Naïve/Immature B Cell,Memory B Cell,CD4 Effect...</td>\n",
       "      <td>rs28409373</td>\n",
       "      <td>{'UBE2J2'}</td>\n",
       "      <td>{'ENSG00000160087'}</td>\n",
       "      <td>C</td>\n",
       "      <td>T</td>\n",
       "      <td>0.59916</td>\n",
       "      <td>0.594857</td>\n",
       "      <td>1-1959977</td>\n",
       "      <td>1-1959977</td>\n",
       "      <td>40</td>\n",
       "      <td>0</td>\n",
       "      <td>1</td>\n",
       "    </tr>\n",
       "    <tr>\n",
       "      <th>4</th>\n",
       "      <td>1</td>\n",
       "      <td>1959977</td>\n",
       "      <td>C</td>\n",
       "      <td>T</td>\n",
       "      <td>BRF=0.31;FR=0.5;HP=4;HapScore=2;MGOF=13;MMLQ=3...</td>\n",
       "      <td>0/1:-34.69,0,-40.49:13:99:26:12</td>\n",
       "      <td>0/1:-21.98,0,-53.88:9:99:25:9</td>\n",
       "      <td>840009</td>\n",
       "      <td>12839977</td>\n",
       "      <td>2:0</td>\n",
       "      <td>2.0</td>\n",
       "      <td>4103593</td>\n",
       "      <td>1,1</td>\n",
       "      <td>2,0</td>\n",
       "      <td>33.398488</td>\n",
       "      <td>26</td>\n",
       "      <td>25</td>\n",
       "      <td>Naïve/Immature B Cell,Memory B Cell,CD4 Effect...</td>\n",
       "      <td>rs28409373</td>\n",
       "      <td>{'UBE2J2'}</td>\n",
       "      <td>{'ENSG00000160087'}</td>\n",
       "      <td>C</td>\n",
       "      <td>T</td>\n",
       "      <td>0.59916</td>\n",
       "      <td>0.594857</td>\n",
       "      <td>1-1959977</td>\n",
       "      <td>1-1959977</td>\n",
       "      <td>40</td>\n",
       "      <td>2</td>\n",
       "      <td>0</td>\n",
       "    </tr>\n",
       "  </tbody>\n",
       "</table>\n",
       "</div>"
      ],
      "text/plain": [
       "   #CHROM    pos_x REF ALT                                               INFO   \n",
       "0       1  1959977   C   T  BRF=0.12;FR=0.5;HP=4;HapScore=2;MGOF=15;MMLQ=1...  \\\n",
       "1       1  1959977   C   T  BRF=0.24;FR=0.5;HP=4;HapScore=2;MGOF=7;MMLQ=28...   \n",
       "2       1  1959977   C   T  BRF=0.13;FR=0.5;HP=4;HapScore=1;MGOF=3;MMLQ=30...   \n",
       "3       1  1959977   C   T  BRF=0.03;FR=0.5;HP=4;HapScore=2;MGOF=6;MMLQ=30...   \n",
       "4       1  1959977   C   T  BRF=0.31;FR=0.5;HP=4;HapScore=2;MGOF=13;MMLQ=3...   \n",
       "\n",
       "                    sample_control                     sample_tumor   start   \n",
       "0   0/1:-18.48,0,-25.08:15:99:17:9  0/1:-37.18,0,-15.88:12:99:20:13  840009  \\\n",
       "1   0/1:-18.07,0,-65.37:7:99:31:10   0/1:-40.98,0,-13.28:4:99:22:16  840009   \n",
       "2   0/1:-41.47,0,-30.57:0:99:27:16    0/1:-63.97,0,-6.27:3:63:29:24  840009   \n",
       "3    0/1:-21.35,0,-56.75:3:99:27:9    0/1:-24.19,0,-18.99:6:99:16:9  850030   \n",
       "4  0/1:-34.69,0,-40.49:13:99:26:12    0/1:-21.98,0,-53.88:9:99:25:9  840009   \n",
       "\n",
       "        end genotype  TCN      PID normal_genotype tumor_genotype   \n",
       "0   8439906      1:0  1.0  4100636             1,1            0,1  \\\n",
       "1  12839977      2:0  2.0  4101626             1,1            0,2   \n",
       "2  12839977      2:0  2.0  4101815             1,1            0,2   \n",
       "3   7459920      1:0  1.0  4103141             1,1            0,1   \n",
       "4  12839977      2:0  2.0  4103593             1,1            2,0   \n",
       "\n",
       "   quality_score  reads_normal  reads_tumor   \n",
       "0      23.232969            17           20  \\\n",
       "1      60.205999            31           22   \n",
       "2      99.000000            27           29   \n",
       "3       3.098039            27           16   \n",
       "4      33.398488            26           25   \n",
       "\n",
       "                                           CELL_TYPE        RSID        GENE   \n",
       "0  Naïve/Immature B Cell,Memory B Cell,CD4 Effect...  rs28409373  {'UBE2J2'}  \\\n",
       "1  Naïve/Immature B Cell,Memory B Cell,CD4 Effect...  rs28409373  {'UBE2J2'}   \n",
       "2  Naïve/Immature B Cell,Memory B Cell,CD4 Effect...  rs28409373  {'UBE2J2'}   \n",
       "3  Naïve/Immature B Cell,Memory B Cell,CD4 Effect...  rs28409373  {'UBE2J2'}   \n",
       "4  Naïve/Immature B Cell,Memory B Cell,CD4 Effect...  rs28409373  {'UBE2J2'}   \n",
       "\n",
       "               GENE_ID A1 A2  A2_FREQ_ONEK1K  A2_FREQ_HRC position_code   \n",
       "0  {'ENSG00000160087'}  C  T         0.59916     0.594857     1-1959977  \\\n",
       "1  {'ENSG00000160087'}  C  T         0.59916     0.594857     1-1959977   \n",
       "2  {'ENSG00000160087'}  C  T         0.59916     0.594857     1-1959977   \n",
       "3  {'ENSG00000160087'}  C  T         0.59916     0.594857     1-1959977   \n",
       "4  {'ENSG00000160087'}  C  T         0.59916     0.594857     1-1959977   \n",
       "\n",
       "       pos_y  position_count n_ref_alleles n_alt_alleles  \n",
       "0  1-1959977              40             0             1  \n",
       "1  1-1959977              40             0             2  \n",
       "2  1-1959977              40             0             2  \n",
       "3  1-1959977              40             0             1  \n",
       "4  1-1959977              40             2             0  "
      ]
     },
     "execution_count": 23,
     "metadata": {},
     "output_type": "execute_result"
    }
   ],
   "source": [
    "df.head()"
   ]
  },
  {
   "cell_type": "code",
   "execution_count": 25,
   "metadata": {},
   "outputs": [
    {
     "data": {
      "text/plain": [
       "6824"
      ]
     },
     "execution_count": 25,
     "metadata": {},
     "output_type": "execute_result"
    }
   ],
   "source": [
    "len(df[df['n_alt_alleles']==\"0\"])"
   ]
  },
  {
   "attachments": {},
   "cell_type": "markdown",
   "metadata": {},
   "source": [
    "Perform binomial test for each position"
   ]
  },
  {
   "cell_type": "code",
   "execution_count": 62,
   "metadata": {},
   "outputs": [],
   "source": [
    "def get_p_value(df_position: pd.DataFrame) -> float:\n",
    "    n = len(df_position)\n",
    "    df_loss_ref = df_position[df_position[\"n_ref_alleles\"] == \"0\"]\n",
    "    k = len(df_loss_ref)\n",
    "    result = binomtest(k=k, n=n, p=0.5, alternative=\"two-sided\")\n",
    "    return result.pvalue"
   ]
  },
  {
   "cell_type": "code",
   "execution_count": 63,
   "metadata": {},
   "outputs": [],
   "source": [
    "p_values = df.groupby(\"position_code\").apply(get_p_value)"
   ]
  },
  {
   "attachments": {},
   "cell_type": "markdown",
   "metadata": {},
   "source": [
    "Plot p-values"
   ]
  },
  {
   "cell_type": "code",
   "execution_count": 64,
   "metadata": {},
   "outputs": [
    {
     "data": {
      "text/plain": [
       "<Axes: title={'center': 'Distribution of p-values'}, xlabel='p-value', ylabel='Frequency'>"
      ]
     },
     "execution_count": 64,
     "metadata": {},
     "output_type": "execute_result"
    },
    {
     "data": {
      "image/png": "[encoded data removed]",
      "text/plain": [
       "<Figure size 640x480 with 1 Axes>"
      ]
     },
     "metadata": {},
     "output_type": "display_data"
    }
   ],
   "source": [
    "p_values.plot(kind=\"hist\", bins=100, title=\"Distribution of p-values\", xlabel=\"p-value\")"
   ]
  },
  {
   "cell_type": "code",
   "execution_count": 65,
   "metadata": {},
   "outputs": [
    {
     "data": {
      "image/png": "[encoded data removed]",
      "text/plain": [
       "<Figure size 640x480 with 1 Axes>"
      ]
     },
     "metadata": {},
     "output_type": "display_data"
    }
   ],
   "source": [
    "p_values.plot(kind=\"hist\", bins=100, title=\"Distribution of p-values\", xlabel=\"p-value\")\n",
    "plt.yscale(\"log\")"
   ]
  },
  {
   "attachments": {},
   "cell_type": "markdown",
   "metadata": {},
   "source": [
    "Benjamini-Hochberg correction for multiple testing"
   ]
  },
  {
   "cell_type": "code",
   "execution_count": 66,
   "metadata": {},
   "outputs": [],
   "source": [
    "rejected, adjusted_p_values, _, _ = multitest.multipletests(p_values, method='fdr_bh')"
   ]
  },
  {
   "cell_type": "code",
   "execution_count": 67,
   "metadata": {},
   "outputs": [
    {
     "data": {
      "text/plain": [
       "Text(0.5, 1.0, 'Distribution of p-values (adjusted by Benjamini-Hochberg correction)')"
      ]
     },
     "execution_count": 67,
     "metadata": {},
     "output_type": "execute_result"
    },
    {
     "data": {
      "image/png": "[encoded data removed]",
      "text/plain": [
       "<Figure size 640x480 with 1 Axes>"
      ]
     },
     "metadata": {},
     "output_type": "display_data"
    }
   ],
   "source": [
    "plt.hist(adjusted_p_values, bins=100)\n",
    "plt.xlabel(\"adjusted p-value\")\n",
    "plt.ylabel(\"frequency\")\n",
    "plt.title(\"Distribution of p-values (adjusted by Benjamini-Hochberg correction)\")"
   ]
  },
  {
   "cell_type": "code",
   "execution_count": 68,
   "metadata": {},
   "outputs": [
    {
     "data": {
      "text/plain": [
       "<matplotlib.lines.Line2D at 0x7fd45c458430>"
      ]
     },
     "execution_count": 68,
     "metadata": {},
     "output_type": "execute_result"
    },
    {
     "data": {
      "image/png": "[encoded data removed]",
      "text/plain": [
       "<Figure size 640x480 with 1 Axes>"
      ]
     },
     "metadata": {},
     "output_type": "display_data"
    }
   ],
   "source": [
    "plt.hist(adjusted_p_values, bins=100)\n",
    "plt.xlabel(\"adjusted p-value\")\n",
    "plt.ylabel(\"frequency\")\n",
    "plt.title(\"Distribution of p-values (adjusted by Benjamini-Hochberg correction)\")\n",
    "plt.yscale(\"log\")\n",
    "plt.axvline(x=0.05, linestyle=\"dashed\", color=\"black\")"
   ]
  },
  {
   "cell_type": "markdown",
   "metadata": {},
   "source": [
    "Visualisation: Manhattan plot"
   ]
  },
  {
   "cell_type": "code",
   "execution_count": 69,
   "metadata": {},
   "outputs": [
    {
     "data": {
      "text/html": [
       "<div>\n",
       "<style scoped>\n",
       "    .dataframe tbody tr th:only-of-type {\n",
       "        vertical-align: middle;\n",
       "    }\n",
       "\n",
       "    .dataframe tbody tr th {\n",
       "        vertical-align: top;\n",
       "    }\n",
       "\n",
       "    .dataframe thead th {\n",
       "        text-align: right;\n",
       "    }\n",
       "</style>\n",
       "<table border=\"1\" class=\"dataframe\">\n",
       "  <thead>\n",
       "    <tr style=\"text-align: right;\">\n",
       "      <th></th>\n",
       "      <th>#CHROM</th>\n",
       "      <th>POS</th>\n",
       "      <th>P</th>\n",
       "      <th>ID</th>\n",
       "    </tr>\n",
       "  </thead>\n",
       "  <tbody>\n",
       "    <tr>\n",
       "      <th>0</th>\n",
       "      <td>1</td>\n",
       "      <td>100000011</td>\n",
       "      <td>1.0</td>\n",
       "      <td>1-100000011</td>\n",
       "    </tr>\n",
       "    <tr>\n",
       "      <th>1</th>\n",
       "      <td>1</td>\n",
       "      <td>100000826</td>\n",
       "      <td>1.0</td>\n",
       "      <td>1-100000826</td>\n",
       "    </tr>\n",
       "    <tr>\n",
       "      <th>2</th>\n",
       "      <td>1</td>\n",
       "      <td>100002881</td>\n",
       "      <td>1.0</td>\n",
       "      <td>1-100002881</td>\n",
       "    </tr>\n",
       "    <tr>\n",
       "      <th>3</th>\n",
       "      <td>1</td>\n",
       "      <td>10000399</td>\n",
       "      <td>1.0</td>\n",
       "      <td>1-10000399</td>\n",
       "    </tr>\n",
       "    <tr>\n",
       "      <th>4</th>\n",
       "      <td>1</td>\n",
       "      <td>100004725</td>\n",
       "      <td>1.0</td>\n",
       "      <td>1-100004725</td>\n",
       "    </tr>\n",
       "  </tbody>\n",
       "</table>\n",
       "</div>"
      ],
      "text/plain": [
       "  #CHROM        POS    P           ID\n",
       "0      1  100000011  1.0  1-100000011\n",
       "1      1  100000826  1.0  1-100000826\n",
       "2      1  100002881  1.0  1-100002881\n",
       "3      1   10000399  1.0   1-10000399\n",
       "4      1  100004725  1.0  1-100004725"
      ]
     },
     "execution_count": 69,
     "metadata": {},
     "output_type": "execute_result"
    }
   ],
   "source": [
    "df_manhattan = pd.DataFrame(p_values).reset_index()\n",
    "df_manhattan[\"P\"] = adjusted_p_values\n",
    "df_manhattan[[\"#CHROM\", \"POS\"]] = df_manhattan[\"position_code\"].str.split(\"-\", expand=True)\n",
    "df_manhattan = df_manhattan.rename(columns={0: \"p_val\", \"position_code\": \"ID\"})\n",
    "df_manhattan = df_manhattan[[\"#CHROM\", \"POS\", \"P\", \"ID\"]]\n",
    "df_manhattan.head()"
   ]
  },
  {
   "cell_type": "code",
   "execution_count": 70,
   "metadata": {},
   "outputs": [
    {
     "data": {
      "text/html": [
       "<div>\n",
       "<style scoped>\n",
       "    .dataframe tbody tr th:only-of-type {\n",
       "        vertical-align: middle;\n",
       "    }\n",
       "\n",
       "    .dataframe tbody tr th {\n",
       "        vertical-align: top;\n",
       "    }\n",
       "\n",
       "    .dataframe thead th {\n",
       "        text-align: right;\n",
       "    }\n",
       "</style>\n",
       "<table border=\"1\" class=\"dataframe\">\n",
       "  <thead>\n",
       "    <tr style=\"text-align: right;\">\n",
       "      <th></th>\n",
       "      <th>#CHROM</th>\n",
       "      <th>POS</th>\n",
       "      <th>P</th>\n",
       "      <th>ID</th>\n",
       "    </tr>\n",
       "  </thead>\n",
       "  <tbody>\n",
       "    <tr>\n",
       "      <th>225976</th>\n",
       "      <td>22</td>\n",
       "      <td>23240830</td>\n",
       "      <td>1.0</td>\n",
       "      <td>22-23240830</td>\n",
       "    </tr>\n",
       "    <tr>\n",
       "      <th>225977</th>\n",
       "      <td>22</td>\n",
       "      <td>23243667</td>\n",
       "      <td>1.0</td>\n",
       "      <td>22-23243667</td>\n",
       "    </tr>\n",
       "    <tr>\n",
       "      <th>225978</th>\n",
       "      <td>22</td>\n",
       "      <td>23243876</td>\n",
       "      <td>1.0</td>\n",
       "      <td>22-23243876</td>\n",
       "    </tr>\n",
       "    <tr>\n",
       "      <th>225979</th>\n",
       "      <td>22</td>\n",
       "      <td>23244064</td>\n",
       "      <td>1.0</td>\n",
       "      <td>22-23244064</td>\n",
       "    </tr>\n",
       "    <tr>\n",
       "      <th>225980</th>\n",
       "      <td>22</td>\n",
       "      <td>23244309</td>\n",
       "      <td>1.0</td>\n",
       "      <td>22-23244309</td>\n",
       "    </tr>\n",
       "  </tbody>\n",
       "</table>\n",
       "</div>"
      ],
      "text/plain": [
       "        #CHROM       POS    P           ID\n",
       "225976      22  23240830  1.0  22-23240830\n",
       "225977      22  23243667  1.0  22-23243667\n",
       "225978      22  23243876  1.0  22-23243876\n",
       "225979      22  23244064  1.0  22-23244064\n",
       "225980      22  23244309  1.0  22-23244309"
      ]
     },
     "execution_count": 70,
     "metadata": {},
     "output_type": "execute_result"
    }
   ],
   "source": [
    "df_manhattan[\"#CHROM\"] = df_manhattan[\"#CHROM\"].astype(int)\n",
    "df_manhattan[\"POS\"] = df_manhattan[\"POS\"].astype(int)\n",
    "df_manhattan[\"ID\"] = df_manhattan[\"ID\"].astype(str)\n",
    "df_manhattan = df_manhattan.sort_values(by=[\"#CHROM\", \"POS\"])\n",
    "df_manhattan.tail()"
   ]
  },
  {
   "cell_type": "code",
   "execution_count": 71,
   "metadata": {},
   "outputs": [
    {
     "data": {
      "image/png": "[encoded data removed]",
      "text/plain": [
       "<Figure size 900x300 with 1 Axes>"
      ]
     },
     "metadata": {},
     "output_type": "display_data"
    }
   ],
   "source": [
    "ax = manhattanplot(\n",
    "    data=df_manhattan,\n",
    "    genomewideline=0.05,\n",
    "    xticklabel_kws={\"rotation\": \"vertical\"})"
   ]
  },
  {
   "cell_type": "markdown",
   "metadata": {},
   "source": [
    "Zoom in on chromosomes"
   ]
  },
  {
   "cell_type": "code",
   "execution_count": 72,
   "metadata": {},
   "outputs": [],
   "source": [
    "chromosome = 6"
   ]
  },
  {
   "cell_type": "code",
   "execution_count": 73,
   "metadata": {},
   "outputs": [
    {
     "data": {
      "text/plain": [
       "220145"
      ]
     },
     "execution_count": 73,
     "metadata": {},
     "output_type": "execute_result"
    }
   ],
   "source": [
    "df_chrom = df_manhattan[df_manhattan[\"#CHROM\"] == str(chromosome)]\n",
    "len(df_chrom)"
   ]
  },
  {
   "cell_type": "code",
   "execution_count": 74,
   "metadata": {},
   "outputs": [
    {
     "name": "stderr",
     "output_type": "stream",
     "text": [
      "/home/frajonas/miniconda3/lib/python3.10/site-packages/qmplot/modules/_manhattan.py:239: SettingWithCopyWarning: \n",
      "A value is trying to be set on a copy of a slice from a DataFrame.\n",
      "Try using .loc[row_indexer,col_indexer] = value instead\n",
      "\n",
      "See the caveats in the documentation: https://pandas.pydata.org/pandas-docs/stable/user_guide/indexing.html#returning-a-view-versus-a-copy\n",
      "  data[[chrom]] = data[[chrom]].astype(str)  # make sure all the chromosome id are character.\n",
      "/home/frajonas/miniconda3/lib/python3.10/site-packages/qmplot/modules/_manhattan.py:320: RuntimeWarning: divide by zero encountered in log10\n",
      "  ax.axhline(y=-np.log10(suggestiveline) if logp else suggestiveline, color=sign_line_cols[0], **hline_kws)\n"
     ]
    },
    {
     "data": {
      "image/png": "[encoded data removed]",
      "text/plain": [
       "<Figure size 900x300 with 1 Axes>"
      ]
     },
     "metadata": {},
     "output_type": "display_data"
    }
   ],
   "source": [
    "ax = manhattanplot(\n",
    "    data=df_chrom,\n",
    "    xticklabel_kws={\"rotation\": \"vertical\"}, \n",
    "    genomewideline=0.05,\n",
    "    is_annotate_topsnp=True,\n",
    "    suggestiveline=False,\n",
    "    xlabel=f\"Chromosome {chromosome}\")"
   ]
  },
  {
   "cell_type": "markdown",
   "metadata": {},
   "source": [
    "Get genomic region on chromosomes"
   ]
  },
  {
   "cell_type": "code",
   "execution_count": 75,
   "metadata": {},
   "outputs": [],
   "source": [
    "df_region = df_manhattan[df_manhattan[\"#CHROM\"] == str(chromosome)]\n",
    "df_region = df_region[df_region[\"P\"] < 0.05]\n",
    "min_pos = df_region[\"POS\"].min()\n",
    "max_pos = df_region[\"POS\"].max()"
   ]
  },
  {
   "cell_type": "code",
   "execution_count": 76,
   "metadata": {},
   "outputs": [
    {
     "data": {
      "text/plain": [
       "(nan, nan)"
      ]
     },
     "execution_count": 76,
     "metadata": {},
     "output_type": "execute_result"
    }
   ],
   "source": [
    "min_pos, max_pos"
   ]
  },
  {
   "cell_type": "markdown",
   "metadata": {},
   "source": [
    "Volcano plot"
   ]
  },
  {
   "cell_type": "code",
   "execution_count": 77,
   "metadata": {},
   "outputs": [],
   "source": [
    "def get_log_score(df_position: pd.DataFrame) -> float:\n",
    "    n = len(df_position)\n",
    "    df_loss_ref = df_position[df_position[\"n_ref_alleles\"] == \"0\"]\n",
    "    ref = len(df_loss_ref)\n",
    "    alt = n - ref\n",
    "    if alt == 0:\n",
    "        # set alt to 0.001, so that calculation is possible\n",
    "        log_score = math.log10(ref / 0.1)\n",
    "    elif ref == 0:\n",
    "        # set ref to 0.001, so that calculation is possible\n",
    "        log_score = math.log10(0.1 / alt)\n",
    "    else:\n",
    "        log_score = math.log10(ref / alt)\n",
    "    return log_score"
   ]
  },
  {
   "cell_type": "code",
   "execution_count": 78,
   "metadata": {},
   "outputs": [],
   "source": [
    "log_scores = df.groupby(\"position_code\").apply(get_log_score)"
   ]
  },
  {
   "cell_type": "code",
   "execution_count": 79,
   "metadata": {},
   "outputs": [
    {
     "data": {
      "text/plain": [
       "position_code\n",
       "1-100000011    0.255273\n",
       "1-100000826    0.204120\n",
       "1-100002881    0.204120\n",
       "1-10000399     0.000000\n",
       "1-100004725    0.000000\n",
       "                 ...   \n",
       "9-985333      -0.176091\n",
       "9-985370      -0.176091\n",
       "9-987677       0.079181\n",
       "9-988816      -0.176091\n",
       "9-993035       0.000000\n",
       "Length: 471259, dtype: float64"
      ]
     },
     "execution_count": 79,
     "metadata": {},
     "output_type": "execute_result"
    }
   ],
   "source": [
    "log_scores"
   ]
  },
  {
   "cell_type": "code",
   "execution_count": 80,
   "metadata": {},
   "outputs": [
    {
     "data": {
      "text/html": [
       "<div>\n",
       "<style scoped>\n",
       "    .dataframe tbody tr th:only-of-type {\n",
       "        vertical-align: middle;\n",
       "    }\n",
       "\n",
       "    .dataframe tbody tr th {\n",
       "        vertical-align: top;\n",
       "    }\n",
       "\n",
       "    .dataframe thead th {\n",
       "        text-align: right;\n",
       "    }\n",
       "</style>\n",
       "<table border=\"1\" class=\"dataframe\">\n",
       "  <thead>\n",
       "    <tr style=\"text-align: right;\">\n",
       "      <th></th>\n",
       "      <th>position_code</th>\n",
       "      <th>p_value</th>\n",
       "      <th>log_score</th>\n",
       "      <th>adjusted p_val</th>\n",
       "    </tr>\n",
       "  </thead>\n",
       "  <tbody>\n",
       "    <tr>\n",
       "      <th>0</th>\n",
       "      <td>1-100000011</td>\n",
       "      <td>0.423950</td>\n",
       "      <td>0.255273</td>\n",
       "      <td>1.0</td>\n",
       "    </tr>\n",
       "    <tr>\n",
       "      <th>1</th>\n",
       "      <td>1-100000826</td>\n",
       "      <td>0.581055</td>\n",
       "      <td>0.204120</td>\n",
       "      <td>1.0</td>\n",
       "    </tr>\n",
       "    <tr>\n",
       "      <th>2</th>\n",
       "      <td>1-100002881</td>\n",
       "      <td>0.581055</td>\n",
       "      <td>0.204120</td>\n",
       "      <td>1.0</td>\n",
       "    </tr>\n",
       "    <tr>\n",
       "      <th>3</th>\n",
       "      <td>1-10000399</td>\n",
       "      <td>1.000000</td>\n",
       "      <td>0.000000</td>\n",
       "      <td>1.0</td>\n",
       "    </tr>\n",
       "    <tr>\n",
       "      <th>4</th>\n",
       "      <td>1-100004725</td>\n",
       "      <td>1.000000</td>\n",
       "      <td>0.000000</td>\n",
       "      <td>1.0</td>\n",
       "    </tr>\n",
       "  </tbody>\n",
       "</table>\n",
       "</div>"
      ],
      "text/plain": [
       "  position_code   p_value  log_score  adjusted p_val\n",
       "0   1-100000011  0.423950   0.255273             1.0\n",
       "1   1-100000826  0.581055   0.204120             1.0\n",
       "2   1-100002881  0.581055   0.204120             1.0\n",
       "3    1-10000399  1.000000   0.000000             1.0\n",
       "4   1-100004725  1.000000   0.000000             1.0"
      ]
     },
     "execution_count": 80,
     "metadata": {},
     "output_type": "execute_result"
    }
   ],
   "source": [
    "df_volcano = pd.DataFrame(p_values).reset_index()\n",
    "df_volcano[\"log_score\"] = log_scores.values\n",
    "df_volcano[\"adjusted p_val\"] = adjusted_p_values\n",
    "df_volcano = df_volcano.rename(columns={0: \"p_value\"})\n",
    "df_volcano.head()"
   ]
  },
  {
   "cell_type": "code",
   "execution_count": 81,
   "metadata": {},
   "outputs": [],
   "source": [
    "df_volcano = df_volcano.dropna(axis=0, subset=[\"log_score\"])"
   ]
  },
  {
   "cell_type": "code",
   "execution_count": null,
   "metadata": {},
   "outputs": [],
   "source": []
  },
  {
   "cell_type": "code",
   "execution_count": 82,
   "metadata": {},
   "outputs": [
    {
     "ename": "AssertionError",
     "evalue": "either significant or non-significant genes are missing; try to change lfc_thr or pv_thr to include both significant and non-significant genes",
     "output_type": "error",
     "traceback": [
      "\u001b[0;31m---------------------------------------------------------------------------\u001b[0m",
      "\u001b[0;31mAssertionError\u001b[0m                            Traceback (most recent call last)",
      "\u001b[1;32m/home/frajonas/daten/BA_Junk/analysis/binomial_testing_onek1k.ipynb Cell 38\u001b[0m line \u001b[0;36m1\n\u001b[0;32m----> <a href='vscode-notebook-cell://ssh-remote%2B192.168.1.71/home/frajonas/daten/BA_Junk/analysis/binomial_testing_onek1k.ipynb#X52sdnNjb2RlLXJlbW90ZQ%3D%3D?line=0'>1</a>\u001b[0m visuz\u001b[39m.\u001b[39;49mGeneExpression\u001b[39m.\u001b[39;49mvolcano(df\u001b[39m=\u001b[39;49mdf_volcano, lfc\u001b[39m=\u001b[39;49m\u001b[39m'\u001b[39;49m\u001b[39mlog_score\u001b[39;49m\u001b[39m'\u001b[39;49m, pv\u001b[39m=\u001b[39;49m\u001b[39m'\u001b[39;49m\u001b[39madjusted p_val\u001b[39;49m\u001b[39m'\u001b[39;49m, show\u001b[39m=\u001b[39;49m\u001b[39mTrue\u001b[39;49;00m, axxlabel\u001b[39m=\u001b[39;49m\u001b[39m\"\u001b[39;49m\u001b[39mlog10(# ref alleles lost / # alt alleles lost)\u001b[39;49m\u001b[39m\"\u001b[39;49m, plotlegend\u001b[39m=\u001b[39;49m\u001b[39mTrue\u001b[39;49;00m, legendlabels\u001b[39m=\u001b[39;49m[\u001b[39m\"\u001b[39;49m\u001b[39mref allele lost significantly less often\u001b[39;49m\u001b[39m\"\u001b[39;49m, \u001b[39m\"\u001b[39;49m\u001b[39mnot significant\u001b[39;49m\u001b[39m\"\u001b[39;49m, \u001b[39m\"\u001b[39;49m\u001b[39mref allele lost significantly more often\u001b[39;49m\u001b[39m\"\u001b[39;49m])\n",
      "File \u001b[0;32m~/miniconda3/lib/python3.10/site-packages/bioinfokit/visuz.py:158\u001b[0m, in \u001b[0;36mGeneExpression.volcano\u001b[0;34m(df, lfc, pv, lfc_thr, pv_thr, color, valpha, geneid, genenames, gfont, dim, r, ar, dotsize, markerdot, sign_line, gstyle, show, figtype, axtickfontsize, axtickfontname, axlabelfontsize, axlabelfontname, axxlabel, axylabel, xlm, ylm, plotlegend, legendpos, figname, legendanchor, legendlabels, theme)\u001b[0m\n\u001b[1;32m    156\u001b[0m assign_values \u001b[39m=\u001b[39m {col: i \u001b[39mfor\u001b[39;00m i, col \u001b[39min\u001b[39;00m \u001b[39menumerate\u001b[39m(color)}\n\u001b[1;32m    157\u001b[0m color_result_num \u001b[39m=\u001b[39m [assign_values[i] \u001b[39mfor\u001b[39;00m i \u001b[39min\u001b[39;00m df[\u001b[39m'\u001b[39m\u001b[39mcolor_add_axy\u001b[39m\u001b[39m'\u001b[39m]]\n\u001b[0;32m--> 158\u001b[0m \u001b[39massert\u001b[39;00m \u001b[39mlen\u001b[39m(\u001b[39mset\u001b[39m(color_result_num)) \u001b[39m==\u001b[39m \u001b[39m3\u001b[39m, \\\n\u001b[1;32m    159\u001b[0m     \u001b[39m'\u001b[39m\u001b[39meither significant or non-significant genes are missing; try to change lfc_thr or pv_thr to include \u001b[39m\u001b[39m'\u001b[39m \\\n\u001b[1;32m    160\u001b[0m     \u001b[39m'\u001b[39m\u001b[39mboth significant and non-significant genes\u001b[39m\u001b[39m'\u001b[39m\n\u001b[1;32m    161\u001b[0m \u001b[39mif\u001b[39;00m theme \u001b[39m==\u001b[39m \u001b[39m'\u001b[39m\u001b[39mdark\u001b[39m\u001b[39m'\u001b[39m:\n\u001b[1;32m    162\u001b[0m     general\u001b[39m.\u001b[39mdark_bg()\n",
      "\u001b[0;31mAssertionError\u001b[0m: either significant or non-significant genes are missing; try to change lfc_thr or pv_thr to include both significant and non-significant genes"
     ]
    }
   ],
   "source": [
    "visuz.GeneExpression.volcano(df=df_volcano, lfc='log_score', pv='adjusted p_val', show=True, axxlabel=\"log10(# ref alleles lost / # alt alleles lost)\", plotlegend=True, legendlabels=[\"ref allele lost significantly less often\", \"not significant\", \"ref allele lost significantly more often\"])"
   ]
  },
  {
   "cell_type": "code",
   "execution_count": null,
   "metadata": {},
   "outputs": [],
   "source": []
  }
 ],
 "metadata": {
  "kernelspec": {
   "display_name": ".venv",
   "language": "python",
   "name": "python3"
  },
  "language_info": {
   "codemirror_mode": {
    "name": "ipython",
    "version": 3
   },
   "file_extension": ".py",
   "mimetype": "text/x-python",
   "name": "python",
   "nbconvert_exporter": "python",
   "pygments_lexer": "ipython3",
   "version": "3.10.9"
  },
  "orig_nbformat": 4
 },
 "nbformat": 4,
 "nbformat_minor": 2
}

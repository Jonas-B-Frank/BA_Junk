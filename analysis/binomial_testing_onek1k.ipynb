{
 "cells": [
  {
   "cell_type": "markdown",
   "metadata": {},
   "source": [
    "## Notebook for analysis of allele biases\n",
    "\n",
    "The parameters 'threshold', 'folder' and 'chromosome' can be changed manually. "
   ]
  },
  {
   "cell_type": "code",
   "execution_count": null,
   "metadata": {},
   "outputs": [],
   "source": [
    "!pip install bioinfokit\n",
    "!pip install qmplot\n",
    "\n",
    "import math\n",
    "import matplotlib.pyplot as plt\n",
    "import pandas as pd\n",
    "from bioinfokit import analys, visuz\n",
    "from scipy.stats import binomtest \n",
    "from statsmodels.stats import multitest\n",
    "from qmplot import manhattanplot\n",
    "\n",
    "pd.set_option(\"display.max_columns\", None)"
   ]
  },
  {
   "attachments": {},
   "cell_type": "markdown",
   "metadata": {},
   "source": [
    "Read thresholded dataframe with LOH positions"
   ]
  },
  {
   "cell_type": "code",
   "execution_count": null,
   "metadata": {},
   "outputs": [],
   "source": [
    "threshold = 10\n",
    "folder = \"LOH_pos_thresholded\"\n",
    "readfile = f\"../{folder}/LOH_positions_threshold_{threshold}.tsv.gz\""
   ]
  },
  {
   "cell_type": "code",
   "execution_count": null,
   "metadata": {},
   "outputs": [],
   "source": [
    "df = pd.read_csv(readfile, sep=\"\\t\", compression=\"gzip\")\n",
    "len(df)"
   ]
  },
  {
   "cell_type": "code",
   "execution_count": null,
   "metadata": {},
   "outputs": [],
   "source": [
    "def get_number_ref_alleles(entry: str) -> int:\n",
    "    return entry.split(\",\")[0]"
   ]
  },
  {
   "cell_type": "code",
   "execution_count": null,
   "metadata": {},
   "outputs": [],
   "source": [
    "def get_number_alt_alleles(entry: str) -> int:\n",
    "    return entry.split(\",\")[1]"
   ]
  },
  {
   "cell_type": "code",
   "execution_count": null,
   "metadata": {},
   "outputs": [],
   "source": [
    "# tumor_genotype field is \"ref,alt\"\n",
    "df[\"n_ref_alleles\"] = df[\"tumor_genotype\"].apply(get_number_ref_alleles)\n",
    "df[\"n_alt_alleles\"] = df[\"tumor_genotype\"].apply(get_number_alt_alleles)"
   ]
  },
  {
   "cell_type": "code",
   "execution_count": null,
   "metadata": {},
   "outputs": [],
   "source": [
    "df.head()"
   ]
  },
  {
   "attachments": {},
   "cell_type": "markdown",
   "metadata": {},
   "source": [
    "Perform binomial test for each position"
   ]
  },
  {
   "cell_type": "code",
   "execution_count": null,
   "metadata": {},
   "outputs": [],
   "source": [
    "def get_p_value(df_position: pd.DataFrame) -> float:\n",
    "    n = len(df_position)\n",
    "    df_loss_ref = df_position[df_position[\"n_ref_alleles\"] == \"0\"]\n",
    "    k = len(df_loss_ref)\n",
    "    result = binomtest(k=k, n=n, p=0.5, alternative=\"two-sided\")\n",
    "    return result.pvalue"
   ]
  },
  {
   "cell_type": "code",
   "execution_count": null,
   "metadata": {},
   "outputs": [],
   "source": [
    "p_values = df.groupby(\"position_code\").apply(get_p_value)"
   ]
  },
  {
   "attachments": {},
   "cell_type": "markdown",
   "metadata": {},
   "source": [
    "Plot p-values"
   ]
  },
  {
   "cell_type": "code",
   "execution_count": null,
   "metadata": {},
   "outputs": [],
   "source": [
    "p_values.plot(kind=\"hist\", bins=100, title=\"Distribution of p-values\", xlabel=\"p-value\")"
   ]
  },
  {
   "cell_type": "code",
   "execution_count": null,
   "metadata": {},
   "outputs": [],
   "source": [
    "p_values.plot(kind=\"hist\", bins=100, title=\"Distribution of p-values\", xlabel=\"p-value\")\n",
    "plt.yscale(\"log\")"
   ]
  },
  {
   "attachments": {},
   "cell_type": "markdown",
   "metadata": {},
   "source": [
    "Benjamini-Hochberg correction for multiple testing"
   ]
  },
  {
   "cell_type": "code",
   "execution_count": null,
   "metadata": {},
   "outputs": [],
   "source": [
    "rejected, adjusted_p_values, _, _ = multitest.multipletests(p_values, method='fdr_bh')"
   ]
  },
  {
   "cell_type": "code",
   "execution_count": null,
   "metadata": {},
   "outputs": [],
   "source": [
    "plt.hist(adjusted_p_values, bins=100)\n",
    "plt.xlabel(\"adjusted p-value\")\n",
    "plt.ylabel(\"frequency\")\n",
    "plt.title(\"Distribution of p-values (adjusted by Benjamini-Hochberg correction)\")"
   ]
  },
  {
   "cell_type": "code",
   "execution_count": null,
   "metadata": {},
   "outputs": [],
   "source": [
    "plt.hist(adjusted_p_values, bins=100)\n",
    "plt.xlabel(\"adjusted p-value\")\n",
    "plt.ylabel(\"frequency\")\n",
    "plt.title(\"Distribution of p-values (adjusted by Benjamini-Hochberg correction)\")\n",
    "plt.yscale(\"log\")\n",
    "plt.axvline(x=0.05, linestyle=\"dashed\", color=\"black\")"
   ]
  },
  {
   "cell_type": "markdown",
   "metadata": {},
   "source": [
    "Visualisation: Manhattan plot"
   ]
  },
  {
   "cell_type": "code",
   "execution_count": null,
   "metadata": {},
   "outputs": [],
   "source": [
    "df_manhattan = pd.DataFrame(p_values).reset_index()\n",
    "df_manhattan[\"P\"] = adjusted_p_values\n",
    "df_manhattan[[\"#CHROM\", \"POS\"]] = df_manhattan[\"position_code\"].str.split(\"-\", expand=True)\n",
    "df_manhattan = df_manhattan.rename(columns={0: \"p_val\", \"position_code\": \"ID\"})\n",
    "df_manhattan = df_manhattan[[\"#CHROM\", \"POS\", \"P\", \"ID\"]]\n",
    "df_manhattan.head()"
   ]
  },
  {
   "cell_type": "code",
   "execution_count": null,
   "metadata": {},
   "outputs": [],
   "source": [
    "df_manhattan[\"#CHROM\"] = df_manhattan[\"#CHROM\"].astype(int)\n",
    "df_manhattan[\"POS\"] = df_manhattan[\"POS\"].astype(int)\n",
    "df_manhattan[\"ID\"] = df_manhattan[\"ID\"].astype(str)\n",
    "df_manhattan = df_manhattan.sort_values(by=[\"#CHROM\", \"POS\"])\n",
    "df_manhattan.tail()"
   ]
  },
  {
   "cell_type": "code",
   "execution_count": null,
   "metadata": {},
   "outputs": [],
   "source": [
    "ax = manhattanplot(\n",
    "    data=df_manhattan,\n",
    "    genomewideline=0.05,\n",
    "    xticklabel_kws={\"rotation\": \"vertical\"})"
   ]
  },
  {
   "cell_type": "markdown",
   "metadata": {},
   "source": [
    "Zoom in on chromosomes"
   ]
  },
  {
   "cell_type": "code",
   "execution_count": null,
   "metadata": {},
   "outputs": [],
   "source": [
    "chromosome = 6"
   ]
  },
  {
   "cell_type": "code",
   "execution_count": null,
   "metadata": {},
   "outputs": [],
   "source": [
    "df_chrom = df_manhattan[df_manhattan[\"#CHROM\"] == str(chromosome)]\n",
    "len(df_chrom)"
   ]
  },
  {
   "cell_type": "code",
   "execution_count": null,
   "metadata": {},
   "outputs": [],
   "source": [
    "ax = manhattanplot(\n",
    "    data=df_chrom,\n",
    "    xticklabel_kws={\"rotation\": \"vertical\"}, \n",
    "    genomewideline=0.05,\n",
    "    is_annotate_topsnp=True,\n",
    "    suggestiveline=False,\n",
    "    xlabel=f\"Chromosome {chromosome}\")"
   ]
  },
  {
   "cell_type": "markdown",
   "metadata": {},
   "source": [
    "Get genomic region on chromosomes"
   ]
  },
  {
   "cell_type": "code",
   "execution_count": null,
   "metadata": {},
   "outputs": [],
   "source": [
    "df_region = df_manhattan[df_manhattan[\"#CHROM\"] == str(chromosome)]\n",
    "df_region = df_region[df_region[\"P\"] < 0.05]\n",
    "min_pos = df_region[\"POS\"].min()\n",
    "max_pos = df_region[\"POS\"].max()"
   ]
  },
  {
   "cell_type": "code",
   "execution_count": null,
   "metadata": {},
   "outputs": [],
   "source": [
    "min_pos, max_pos"
   ]
  },
  {
   "cell_type": "markdown",
   "metadata": {},
   "source": [
    "Volcano plot"
   ]
  },
  {
   "cell_type": "code",
   "execution_count": null,
   "metadata": {},
   "outputs": [],
   "source": [
    "def get_log_score(df_position: pd.DataFrame) -> float:\n",
    "    n = len(df_position)\n",
    "    df_loss_ref = df_position[df_position[\"n_ref_alleles\"] == \"0\"]\n",
    "    ref = len(df_loss_ref)\n",
    "    alt = n - ref\n",
    "    if alt == 0:\n",
    "        # set alt to 0.001, so that calculation is possible\n",
    "        log_score = math.log10(ref / 0.1)\n",
    "    elif ref == 0:\n",
    "        # set ref to 0.001, so that calculation is possible\n",
    "        log_score = math.log10(0.1 / alt)\n",
    "    else:\n",
    "        log_score = math.log10(ref / alt)\n",
    "    return log_score"
   ]
  },
  {
   "cell_type": "code",
   "execution_count": null,
   "metadata": {},
   "outputs": [],
   "source": [
    "log_scores = df.groupby(\"position_code\").apply(get_log_score)"
   ]
  },
  {
   "cell_type": "code",
   "execution_count": null,
   "metadata": {},
   "outputs": [],
   "source": [
    "log_scores"
   ]
  },
  {
   "cell_type": "code",
   "execution_count": null,
   "metadata": {},
   "outputs": [],
   "source": [
    "df_volcano = pd.DataFrame(p_values).reset_index()\n",
    "df_volcano[\"log_score\"] = log_scores.values\n",
    "df_volcano[\"adjusted p_val\"] = adjusted_p_values\n",
    "df_volcano = df_volcano.rename(columns={0: \"p_value\"})\n",
    "df_volcano.head()"
   ]
  },
  {
   "cell_type": "code",
   "execution_count": null,
   "metadata": {},
   "outputs": [],
   "source": [
    "df_volcano = df_volcano.dropna(axis=0, subset=[\"log_score\"])"
   ]
  },
  {
   "cell_type": "code",
   "execution_count": null,
   "metadata": {},
   "outputs": [],
   "source": []
  },
  {
   "cell_type": "code",
   "execution_count": null,
   "metadata": {},
   "outputs": [],
   "source": [
    "visuz.GeneExpression.volcano(df=df_volcano, lfc='log_score', pv='adjusted p_val', show=True, axxlabel=\"log10(# ref alleles lost / # alt alleles lost)\", plotlegend=True, legendlabels=[\"ref allele lost significantly less often\", \"not significant\", \"ref allele lost significantly more often\"])"
   ]
  },
  {
   "cell_type": "code",
   "execution_count": null,
   "metadata": {},
   "outputs": [],
   "source": []
  }
 ],
 "metadata": {
  "kernelspec": {
   "display_name": ".venv",
   "language": "python",
   "name": "python3"
  },
  "language_info": {
   "codemirror_mode": {
    "name": "ipython",
    "version": 3
   },
   "file_extension": ".py",
   "mimetype": "text/x-python",
   "name": "python",
   "nbconvert_exporter": "python",
   "pygments_lexer": "ipython3",
   "version": "3.10.9"
  },
  "orig_nbformat": 4
 },
 "nbformat": 4,
 "nbformat_minor": 2
}

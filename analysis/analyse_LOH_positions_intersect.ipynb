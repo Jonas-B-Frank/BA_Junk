{
 "cells": [
  {
   "cell_type": "code",
   "execution_count": 1,
   "metadata": {},
   "outputs": [],
   "source": [
    "import gzip\n",
    "\n",
    "import pandas as pd\n",
    "\n",
    "pd.set_option(\"display.max_columns\", None)"
   ]
  },
  {
   "attachments": {},
   "cell_type": "markdown",
   "metadata": {},
   "source": [
    "Read LOH positions"
   ]
  },
  {
   "cell_type": "code",
   "execution_count": 2,
   "metadata": {},
   "outputs": [
    {
     "data": {
      "text/plain": [
       "18822150"
      ]
     },
     "execution_count": 2,
     "metadata": {},
     "output_type": "execute_result"
    }
   ],
   "source": [
    "df = pd.read_csv(\"../intersect_mmml_onek1k_with_header.vcf.gz\", sep=\"\\t\", compression=\"gzip\", low_memory=False)\n",
    "len(df)"
   ]
  },
  {
   "cell_type": "code",
   "execution_count": 3,
   "metadata": {},
   "outputs": [],
   "source": [
    "df = df.drop(columns=[\"Unnamed: 29\", \"position_dummy\", \"#CHR\", \"POS\", \"POS_DUMMY\"])"
   ]
  },
  {
   "cell_type": "code",
   "execution_count": 4,
   "metadata": {},
   "outputs": [],
   "source": [
    "df[\"position_code\"] = df[\"#CHROM\"].astype(str) + \"-\" + df[\"pos\"].astype(str)"
   ]
  },
  {
   "cell_type": "code",
   "execution_count": 5,
   "metadata": {},
   "outputs": [
    {
     "data": {
      "text/html": [
       "<div>\n",
       "<style scoped>\n",
       "    .dataframe tbody tr th:only-of-type {\n",
       "        vertical-align: middle;\n",
       "    }\n",
       "\n",
       "    .dataframe tbody tr th {\n",
       "        vertical-align: top;\n",
       "    }\n",
       "\n",
       "    .dataframe thead th {\n",
       "        text-align: right;\n",
       "    }\n",
       "</style>\n",
       "<table border=\"1\" class=\"dataframe\">\n",
       "  <thead>\n",
       "    <tr style=\"text-align: right;\">\n",
       "      <th></th>\n",
       "      <th>#CHROM</th>\n",
       "      <th>pos</th>\n",
       "      <th>REF</th>\n",
       "      <th>ALT</th>\n",
       "      <th>INFO</th>\n",
       "      <th>sample_control</th>\n",
       "      <th>sample_tumor</th>\n",
       "      <th>start</th>\n",
       "      <th>end</th>\n",
       "      <th>genotype</th>\n",
       "      <th>TCN</th>\n",
       "      <th>PID</th>\n",
       "      <th>normal_genotype</th>\n",
       "      <th>tumor_genotype</th>\n",
       "      <th>quality_score</th>\n",
       "      <th>reads_normal</th>\n",
       "      <th>reads_tumor</th>\n",
       "      <th>CELL_TYPE</th>\n",
       "      <th>RSID</th>\n",
       "      <th>GENE</th>\n",
       "      <th>GENE_ID</th>\n",
       "      <th>A1</th>\n",
       "      <th>A2</th>\n",
       "      <th>A2_FREQ_ONEK1K</th>\n",
       "      <th>A2_FREQ_HRC</th>\n",
       "      <th>position_code</th>\n",
       "    </tr>\n",
       "  </thead>\n",
       "  <tbody>\n",
       "    <tr>\n",
       "      <th>0</th>\n",
       "      <td>9</td>\n",
       "      <td>21448447</td>\n",
       "      <td>G</td>\n",
       "      <td>A</td>\n",
       "      <td>BRF=0.13;FR=0.5;HP=1;HapScore=2;MGOF=18;MMLQ=3...</td>\n",
       "      <td>1/0:-38.46,0,-91.36:8:99:38:13</td>\n",
       "      <td>1/0:-32.21,0,-45.31:18:99:27:11</td>\n",
       "      <td>21341573</td>\n",
       "      <td>21731170</td>\n",
       "      <td>1:0</td>\n",
       "      <td>1.0</td>\n",
       "      <td>4100049</td>\n",
       "      <td>1,1</td>\n",
       "      <td>1,0</td>\n",
       "      <td>22.796598</td>\n",
       "      <td>38</td>\n",
       "      <td>27</td>\n",
       "      <td>Naïve/Immature B Cell,Memory B Cell,CD4 Effect...</td>\n",
       "      <td>rs7864960</td>\n",
       "      <td>{'PTPLAD2', 'RP11-70L8.4', 'RP11-408N14.1'}</td>\n",
       "      <td>{'ENSG00000188921', 'ENSG00000265194', 'ENSG00...</td>\n",
       "      <td>G</td>\n",
       "      <td>A</td>\n",
       "      <td>0.49054</td>\n",
       "      <td>0.493363</td>\n",
       "      <td>9-21448447</td>\n",
       "    </tr>\n",
       "    <tr>\n",
       "      <th>1</th>\n",
       "      <td>9</td>\n",
       "      <td>21456775</td>\n",
       "      <td>G</td>\n",
       "      <td>A</td>\n",
       "      <td>BRF=0.18;FR=0.5;HP=2;HapScore=1;MGOF=9;MMLQ=37...</td>\n",
       "      <td>1/0:-69.42,0,-74.92:5:99:46:23</td>\n",
       "      <td>1/0:-9.51,0,-59.71:9:95:23:4</td>\n",
       "      <td>21341573</td>\n",
       "      <td>21731170</td>\n",
       "      <td>1:0</td>\n",
       "      <td>1.0</td>\n",
       "      <td>4100049</td>\n",
       "      <td>1,1</td>\n",
       "      <td>1,0</td>\n",
       "      <td>68.389793</td>\n",
       "      <td>46</td>\n",
       "      <td>23</td>\n",
       "      <td>Naïve/Immature B Cell,Memory B Cell,CD4 Effect...</td>\n",
       "      <td>rs10491569</td>\n",
       "      <td>{'PTPLAD2', 'RP11-70L8.4', 'RP11-408N14.1'}</td>\n",
       "      <td>{'ENSG00000188921', 'ENSG00000265194', 'ENSG00...</td>\n",
       "      <td>G</td>\n",
       "      <td>A</td>\n",
       "      <td>0.28734</td>\n",
       "      <td>0.273914</td>\n",
       "      <td>9-21456775</td>\n",
       "    </tr>\n",
       "    <tr>\n",
       "      <th>2</th>\n",
       "      <td>9</td>\n",
       "      <td>21471498</td>\n",
       "      <td>C</td>\n",
       "      <td>T</td>\n",
       "      <td>BRF=0.1;FR=0.5;HP=2;HapScore=2;MGOF=11;MMLQ=37...</td>\n",
       "      <td>0/1:-71.26,0,-46.26:11:99:35:20</td>\n",
       "      <td>0/1:-17.58,0,-59.78:11:99:25:5</td>\n",
       "      <td>21341573</td>\n",
       "      <td>21731170</td>\n",
       "      <td>1:0</td>\n",
       "      <td>1.0</td>\n",
       "      <td>4100049</td>\n",
       "      <td>1,1</td>\n",
       "      <td>1,0</td>\n",
       "      <td>68.389793</td>\n",
       "      <td>35</td>\n",
       "      <td>25</td>\n",
       "      <td>Naïve/Immature B Cell,Memory B Cell,CD4 Effect...</td>\n",
       "      <td>rs1412395</td>\n",
       "      <td>{'PTPLAD2', 'RP11-70L8.4', 'RP11-408N14.1'}</td>\n",
       "      <td>{'ENSG00000188921', 'ENSG00000265194', 'ENSG00...</td>\n",
       "      <td>C</td>\n",
       "      <td>T</td>\n",
       "      <td>0.60961</td>\n",
       "      <td>0.612796</td>\n",
       "      <td>9-21471498</td>\n",
       "    </tr>\n",
       "    <tr>\n",
       "      <th>3</th>\n",
       "      <td>9</td>\n",
       "      <td>21471725</td>\n",
       "      <td>C</td>\n",
       "      <td>T</td>\n",
       "      <td>BRF=0.17;FR=0.5;HP=1;HapScore=2;MGOF=12;MMLQ=4...</td>\n",
       "      <td>0/1:-72.59,0,-64.49:7:99:42:22</td>\n",
       "      <td>0/1:-10.98,0,-55.68:12:99:24:6</td>\n",
       "      <td>21341573</td>\n",
       "      <td>21731170</td>\n",
       "      <td>1:0</td>\n",
       "      <td>1.0</td>\n",
       "      <td>4100049</td>\n",
       "      <td>1,1</td>\n",
       "      <td>1,0</td>\n",
       "      <td>54.711835</td>\n",
       "      <td>42</td>\n",
       "      <td>24</td>\n",
       "      <td>Naïve/Immature B Cell,Memory B Cell,CD4 Effect...</td>\n",
       "      <td>rs2383192</td>\n",
       "      <td>{'PTPLAD2', 'RP11-70L8.4', 'RP11-408N14.1'}</td>\n",
       "      <td>{'ENSG00000188921', 'ENSG00000265194', 'ENSG00...</td>\n",
       "      <td>C</td>\n",
       "      <td>T</td>\n",
       "      <td>0.53553</td>\n",
       "      <td>0.531583</td>\n",
       "      <td>9-21471725</td>\n",
       "    </tr>\n",
       "    <tr>\n",
       "      <th>4</th>\n",
       "      <td>9</td>\n",
       "      <td>21473816</td>\n",
       "      <td>A</td>\n",
       "      <td>G</td>\n",
       "      <td>BRF=0.14;FR=0.3913;HP=4;HapScore=1;MGOF=12;MML...</td>\n",
       "      <td>0/1:-85.27,0,-104.07:12:99:63:28</td>\n",
       "      <td>0/1:-0.31,0,-95.51:3:5:29:2</td>\n",
       "      <td>21341573</td>\n",
       "      <td>21731170</td>\n",
       "      <td>1:0</td>\n",
       "      <td>1.0</td>\n",
       "      <td>4100049</td>\n",
       "      <td>1,1</td>\n",
       "      <td>1,0</td>\n",
       "      <td>99.000000</td>\n",
       "      <td>63</td>\n",
       "      <td>29</td>\n",
       "      <td>Naïve/Immature B Cell,Memory B Cell,CD4 Effect...</td>\n",
       "      <td>rs10965014</td>\n",
       "      <td>{'PTPLAD2', 'RP11-70L8.4', 'RP11-408N14.1'}</td>\n",
       "      <td>{'ENSG00000188921', 'ENSG00000265194', 'ENSG00...</td>\n",
       "      <td>A</td>\n",
       "      <td>G</td>\n",
       "      <td>0.61050</td>\n",
       "      <td>0.604250</td>\n",
       "      <td>9-21473816</td>\n",
       "    </tr>\n",
       "  </tbody>\n",
       "</table>\n",
       "</div>"
      ],
      "text/plain": [
       "   #CHROM       pos REF ALT   \n",
       "0       9  21448447   G   A  \\\n",
       "1       9  21456775   G   A   \n",
       "2       9  21471498   C   T   \n",
       "3       9  21471725   C   T   \n",
       "4       9  21473816   A   G   \n",
       "\n",
       "                                                INFO   \n",
       "0  BRF=0.13;FR=0.5;HP=1;HapScore=2;MGOF=18;MMLQ=3...  \\\n",
       "1  BRF=0.18;FR=0.5;HP=2;HapScore=1;MGOF=9;MMLQ=37...   \n",
       "2  BRF=0.1;FR=0.5;HP=2;HapScore=2;MGOF=11;MMLQ=37...   \n",
       "3  BRF=0.17;FR=0.5;HP=1;HapScore=2;MGOF=12;MMLQ=4...   \n",
       "4  BRF=0.14;FR=0.3913;HP=4;HapScore=1;MGOF=12;MML...   \n",
       "\n",
       "                     sample_control                     sample_tumor   \n",
       "0    1/0:-38.46,0,-91.36:8:99:38:13  1/0:-32.21,0,-45.31:18:99:27:11  \\\n",
       "1    1/0:-69.42,0,-74.92:5:99:46:23     1/0:-9.51,0,-59.71:9:95:23:4   \n",
       "2   0/1:-71.26,0,-46.26:11:99:35:20   0/1:-17.58,0,-59.78:11:99:25:5   \n",
       "3    0/1:-72.59,0,-64.49:7:99:42:22   0/1:-10.98,0,-55.68:12:99:24:6   \n",
       "4  0/1:-85.27,0,-104.07:12:99:63:28      0/1:-0.31,0,-95.51:3:5:29:2   \n",
       "\n",
       "      start       end genotype  TCN      PID normal_genotype tumor_genotype   \n",
       "0  21341573  21731170      1:0  1.0  4100049             1,1            1,0  \\\n",
       "1  21341573  21731170      1:0  1.0  4100049             1,1            1,0   \n",
       "2  21341573  21731170      1:0  1.0  4100049             1,1            1,0   \n",
       "3  21341573  21731170      1:0  1.0  4100049             1,1            1,0   \n",
       "4  21341573  21731170      1:0  1.0  4100049             1,1            1,0   \n",
       "\n",
       "   quality_score  reads_normal  reads_tumor   \n",
       "0      22.796598            38           27  \\\n",
       "1      68.389793            46           23   \n",
       "2      68.389793            35           25   \n",
       "3      54.711835            42           24   \n",
       "4      99.000000            63           29   \n",
       "\n",
       "                                           CELL_TYPE        RSID   \n",
       "0  Naïve/Immature B Cell,Memory B Cell,CD4 Effect...   rs7864960  \\\n",
       "1  Naïve/Immature B Cell,Memory B Cell,CD4 Effect...  rs10491569   \n",
       "2  Naïve/Immature B Cell,Memory B Cell,CD4 Effect...   rs1412395   \n",
       "3  Naïve/Immature B Cell,Memory B Cell,CD4 Effect...   rs2383192   \n",
       "4  Naïve/Immature B Cell,Memory B Cell,CD4 Effect...  rs10965014   \n",
       "\n",
       "                                          GENE   \n",
       "0  {'PTPLAD2', 'RP11-70L8.4', 'RP11-408N14.1'}  \\\n",
       "1  {'PTPLAD2', 'RP11-70L8.4', 'RP11-408N14.1'}   \n",
       "2  {'PTPLAD2', 'RP11-70L8.4', 'RP11-408N14.1'}   \n",
       "3  {'PTPLAD2', 'RP11-70L8.4', 'RP11-408N14.1'}   \n",
       "4  {'PTPLAD2', 'RP11-70L8.4', 'RP11-408N14.1'}   \n",
       "\n",
       "                                             GENE_ID A1 A2  A2_FREQ_ONEK1K   \n",
       "0  {'ENSG00000188921', 'ENSG00000265194', 'ENSG00...  G  A         0.49054  \\\n",
       "1  {'ENSG00000188921', 'ENSG00000265194', 'ENSG00...  G  A         0.28734   \n",
       "2  {'ENSG00000188921', 'ENSG00000265194', 'ENSG00...  C  T         0.60961   \n",
       "3  {'ENSG00000188921', 'ENSG00000265194', 'ENSG00...  C  T         0.53553   \n",
       "4  {'ENSG00000188921', 'ENSG00000265194', 'ENSG00...  A  G         0.61050   \n",
       "\n",
       "   A2_FREQ_HRC position_code  \n",
       "0     0.493363    9-21448447  \n",
       "1     0.273914    9-21456775  \n",
       "2     0.612796    9-21471498  \n",
       "3     0.531583    9-21471725  \n",
       "4     0.604250    9-21473816  "
      ]
     },
     "execution_count": 5,
     "metadata": {},
     "output_type": "execute_result"
    }
   ],
   "source": [
    "df.head()"
   ]
  },
  {
   "attachments": {},
   "cell_type": "markdown",
   "metadata": {},
   "source": [
    "Analyse LOH positions"
   ]
  },
  {
   "cell_type": "code",
   "execution_count": 6,
   "metadata": {},
   "outputs": [
    {
     "data": {
      "text/plain": [
       "4106598"
      ]
     },
     "execution_count": 6,
     "metadata": {},
     "output_type": "execute_result"
    }
   ],
   "source": [
    "no_distinct_positions = df[\"position_code\"].nunique()\n",
    "no_distinct_positions"
   ]
  },
  {
   "cell_type": "code",
   "execution_count": 7,
   "metadata": {},
   "outputs": [
    {
     "data": {
      "text/plain": [
       "22"
      ]
     },
     "execution_count": 7,
     "metadata": {},
     "output_type": "execute_result"
    }
   ],
   "source": [
    "df[\"#CHROM\"].nunique()"
   ]
  },
  {
   "cell_type": "code",
   "execution_count": 8,
   "metadata": {},
   "outputs": [
    {
     "data": {
      "text/plain": [
       "235"
      ]
     },
     "execution_count": 8,
     "metadata": {},
     "output_type": "execute_result"
    }
   ],
   "source": [
    "no_distinct_patients = df[\"PID\"].nunique()\n",
    "no_distinct_patients"
   ]
  },
  {
   "cell_type": "code",
   "execution_count": 9,
   "metadata": {},
   "outputs": [
    {
     "data": {
      "text/plain": [
       "18822150"
      ]
     },
     "execution_count": 9,
     "metadata": {},
     "output_type": "execute_result"
    }
   ],
   "source": [
    "unique_combinations = len(df.drop_duplicates(['PID','position_code']).index)\n",
    "unique_combinations"
   ]
  },
  {
   "attachments": {},
   "cell_type": "markdown",
   "metadata": {},
   "source": [
    "Merge position count"
   ]
  },
  {
   "cell_type": "code",
   "execution_count": 10,
   "metadata": {},
   "outputs": [
    {
     "data": {
      "text/plain": [
       "(4106598, 2)"
      ]
     },
     "execution_count": 10,
     "metadata": {},
     "output_type": "execute_result"
    }
   ],
   "source": [
    "ser = pd.read_json(\"../intersect_position_count.json\", typ=\"series\", dtype={str})\n",
    "df_position_count = ser.to_frame(\"position_count\")\n",
    "df_position_count = df_position_count.reset_index(names=\"pos\")\n",
    "df_position_count.shape"
   ]
  },
  {
   "cell_type": "code",
   "execution_count": 11,
   "metadata": {},
   "outputs": [
    {
     "data": {
      "text/html": [
       "<div>\n",
       "<style scoped>\n",
       "    .dataframe tbody tr th:only-of-type {\n",
       "        vertical-align: middle;\n",
       "    }\n",
       "\n",
       "    .dataframe tbody tr th {\n",
       "        vertical-align: top;\n",
       "    }\n",
       "\n",
       "    .dataframe thead th {\n",
       "        text-align: right;\n",
       "    }\n",
       "</style>\n",
       "<table border=\"1\" class=\"dataframe\">\n",
       "  <thead>\n",
       "    <tr style=\"text-align: right;\">\n",
       "      <th></th>\n",
       "      <th>pos</th>\n",
       "      <th>position_count</th>\n",
       "    </tr>\n",
       "  </thead>\n",
       "  <tbody>\n",
       "    <tr>\n",
       "      <th>0</th>\n",
       "      <td>9-21448447</td>\n",
       "      <td>12</td>\n",
       "    </tr>\n",
       "    <tr>\n",
       "      <th>1</th>\n",
       "      <td>9-21456775</td>\n",
       "      <td>14</td>\n",
       "    </tr>\n",
       "    <tr>\n",
       "      <th>2</th>\n",
       "      <td>9-21471498</td>\n",
       "      <td>15</td>\n",
       "    </tr>\n",
       "    <tr>\n",
       "      <th>3</th>\n",
       "      <td>9-21471725</td>\n",
       "      <td>17</td>\n",
       "    </tr>\n",
       "    <tr>\n",
       "      <th>4</th>\n",
       "      <td>9-21473816</td>\n",
       "      <td>14</td>\n",
       "    </tr>\n",
       "  </tbody>\n",
       "</table>\n",
       "</div>"
      ],
      "text/plain": [
       "          pos  position_count\n",
       "0  9-21448447              12\n",
       "1  9-21456775              14\n",
       "2  9-21471498              15\n",
       "3  9-21471725              17\n",
       "4  9-21473816              14"
      ]
     },
     "execution_count": 11,
     "metadata": {},
     "output_type": "execute_result"
    }
   ],
   "source": [
    "df_position_count.head()"
   ]
  },
  {
   "cell_type": "code",
   "execution_count": 12,
   "metadata": {},
   "outputs": [
    {
     "data": {
      "text/plain": [
       "18822150"
      ]
     },
     "execution_count": 12,
     "metadata": {},
     "output_type": "execute_result"
    }
   ],
   "source": [
    "df = df.merge(df_position_count, how=\"inner\", left_on=\"position_code\", right_on=\"pos\")\n",
    "len(df)"
   ]
  },
  {
   "attachments": {},
   "cell_type": "markdown",
   "metadata": {},
   "source": [
    "Set threshold"
   ]
  },
  {
   "cell_type": "code",
   "execution_count": 13,
   "metadata": {},
   "outputs": [
    {
     "data": {
      "text/plain": [
       "7387082"
      ]
     },
     "execution_count": 13,
     "metadata": {},
     "output_type": "execute_result"
    }
   ],
   "source": [
    "threshold = 10\n",
    "df_thresholded = df[df[\"position_count\"] >= threshold]\n",
    "len(df_thresholded)"
   ]
  },
  {
   "attachments": {},
   "cell_type": "markdown",
   "metadata": {},
   "source": [
    "Analyze thresholded dataframe"
   ]
  },
  {
   "cell_type": "code",
   "execution_count": 26,
   "metadata": {},
   "outputs": [
    {
     "data": {
      "text/plain": [
       "107"
      ]
     },
     "execution_count": 26,
     "metadata": {},
     "output_type": "execute_result"
    }
   ],
   "source": [
    "df_thresholded[\"PID\"].nunique()"
   ]
  },
  {
   "cell_type": "code",
   "execution_count": 27,
   "metadata": {},
   "outputs": [
    {
     "data": {
      "text/plain": [
       "2"
      ]
     },
     "execution_count": 27,
     "metadata": {},
     "output_type": "execute_result"
    }
   ],
   "source": [
    "df_thresholded[\"#CHROM\"].nunique()"
   ]
  },
  {
   "cell_type": "code",
   "execution_count": 28,
   "metadata": {},
   "outputs": [
    {
     "data": {
      "text/plain": [
       "array([1, 6])"
      ]
     },
     "execution_count": 28,
     "metadata": {},
     "output_type": "execute_result"
    }
   ],
   "source": [
    "df_thresholded[\"#CHROM\"].unique()"
   ]
  },
  {
   "cell_type": "code",
   "execution_count": 29,
   "metadata": {},
   "outputs": [
    {
     "data": {
      "text/plain": [
       "324"
      ]
     },
     "execution_count": 29,
     "metadata": {},
     "output_type": "execute_result"
    }
   ],
   "source": [
    "df_thresholded[\"position_code\"].nunique()"
   ]
  },
  {
   "attachments": {},
   "cell_type": "markdown",
   "metadata": {},
   "source": [
    "Write to csv"
   ]
  },
  {
   "cell_type": "code",
   "execution_count": 30,
   "metadata": {},
   "outputs": [],
   "source": [
    "df_thresholded.to_csv(f\"../LOH_pos_thresholded/LOH_positions_threshold_{threshold}.tsv.gz\", sep=\"\\t\", header=True, index=False, compression=\"gzip\")"
   ]
  },
  {
   "cell_type": "code",
   "execution_count": null,
   "metadata": {},
   "outputs": [],
   "source": []
  },
  {
   "cell_type": "markdown",
   "metadata": {},
   "source": [
    "Own analysis"
   ]
  },
  {
   "cell_type": "code",
   "execution_count": 51,
   "metadata": {},
   "outputs": [],
   "source": [
    "def splitline_chrom(string):\n",
    "    return string.split('-')[0]\n",
    "def splitline_pos(string):\n",
    "    return string.split('-')[1]\n",
    "def create_fake_p_value(value):\n",
    "    return 2/(value)"
   ]
  },
  {
   "cell_type": "code",
   "execution_count": 26,
   "metadata": {},
   "outputs": [
    {
     "data": {
      "text/html": [
       "<div>\n",
       "<style scoped>\n",
       "    .dataframe tbody tr th:only-of-type {\n",
       "        vertical-align: middle;\n",
       "    }\n",
       "\n",
       "    .dataframe tbody tr th {\n",
       "        vertical-align: top;\n",
       "    }\n",
       "\n",
       "    .dataframe thead th {\n",
       "        text-align: right;\n",
       "    }\n",
       "</style>\n",
       "<table border=\"1\" class=\"dataframe\">\n",
       "  <thead>\n",
       "    <tr style=\"text-align: right;\">\n",
       "      <th></th>\n",
       "      <th>position_count</th>\n",
       "      <th>#CHROM</th>\n",
       "      <th>POS</th>\n",
       "    </tr>\n",
       "  </thead>\n",
       "  <tbody>\n",
       "    <tr>\n",
       "      <th>0</th>\n",
       "      <td>12</td>\n",
       "      <td>9</td>\n",
       "      <td>21448447</td>\n",
       "    </tr>\n",
       "    <tr>\n",
       "      <th>1</th>\n",
       "      <td>14</td>\n",
       "      <td>9</td>\n",
       "      <td>21456775</td>\n",
       "    </tr>\n",
       "    <tr>\n",
       "      <th>2</th>\n",
       "      <td>15</td>\n",
       "      <td>9</td>\n",
       "      <td>21471498</td>\n",
       "    </tr>\n",
       "    <tr>\n",
       "      <th>3</th>\n",
       "      <td>17</td>\n",
       "      <td>9</td>\n",
       "      <td>21471725</td>\n",
       "    </tr>\n",
       "    <tr>\n",
       "      <th>4</th>\n",
       "      <td>14</td>\n",
       "      <td>9</td>\n",
       "      <td>21473816</td>\n",
       "    </tr>\n",
       "    <tr>\n",
       "      <th>...</th>\n",
       "      <td>...</td>\n",
       "      <td>...</td>\n",
       "      <td>...</td>\n",
       "    </tr>\n",
       "    <tr>\n",
       "      <th>4106593</th>\n",
       "      <td>1</td>\n",
       "      <td>16</td>\n",
       "      <td>90103450</td>\n",
       "    </tr>\n",
       "    <tr>\n",
       "      <th>4106594</th>\n",
       "      <td>1</td>\n",
       "      <td>16</td>\n",
       "      <td>90103658</td>\n",
       "    </tr>\n",
       "    <tr>\n",
       "      <th>4106595</th>\n",
       "      <td>1</td>\n",
       "      <td>16</td>\n",
       "      <td>90105045</td>\n",
       "    </tr>\n",
       "    <tr>\n",
       "      <th>4106596</th>\n",
       "      <td>1</td>\n",
       "      <td>16</td>\n",
       "      <td>90106745</td>\n",
       "    </tr>\n",
       "    <tr>\n",
       "      <th>4106597</th>\n",
       "      <td>1</td>\n",
       "      <td>16</td>\n",
       "      <td>90107376</td>\n",
       "    </tr>\n",
       "  </tbody>\n",
       "</table>\n",
       "<p>4106598 rows × 3 columns</p>\n",
       "</div>"
      ],
      "text/plain": [
       "         position_count #CHROM       POS\n",
       "0                    12      9  21448447\n",
       "1                    14      9  21456775\n",
       "2                    15      9  21471498\n",
       "3                    17      9  21471725\n",
       "4                    14      9  21473816\n",
       "...                 ...    ...       ...\n",
       "4106593               1     16  90103450\n",
       "4106594               1     16  90103658\n",
       "4106595               1     16  90105045\n",
       "4106596               1     16  90106745\n",
       "4106597               1     16  90107376\n",
       "\n",
       "[4106598 rows x 3 columns]"
      ]
     },
     "execution_count": 26,
     "metadata": {},
     "output_type": "execute_result"
    }
   ],
   "source": [
    "df_position_count['#CHROM']=df_position_count['pos'].apply(splitline_chrom)\n",
    "df_position_count['POS']=df_position_count['pos'].apply(splitline_pos)\n",
    "df_position_count.drop('pos',axis=1, inplace=True)\n",
    "df_position_count"
   ]
  },
  {
   "cell_type": "code",
   "execution_count": 27,
   "metadata": {},
   "outputs": [
    {
     "data": {
      "text/html": [
       "<div>\n",
       "<style scoped>\n",
       "    .dataframe tbody tr th:only-of-type {\n",
       "        vertical-align: middle;\n",
       "    }\n",
       "\n",
       "    .dataframe tbody tr th {\n",
       "        vertical-align: top;\n",
       "    }\n",
       "\n",
       "    .dataframe thead th {\n",
       "        text-align: right;\n",
       "    }\n",
       "</style>\n",
       "<table border=\"1\" class=\"dataframe\">\n",
       "  <thead>\n",
       "    <tr style=\"text-align: right;\">\n",
       "      <th></th>\n",
       "      <th>position_count</th>\n",
       "      <th>#CHROM</th>\n",
       "      <th>POS</th>\n",
       "    </tr>\n",
       "  </thead>\n",
       "  <tbody>\n",
       "    <tr>\n",
       "      <th>5927</th>\n",
       "      <td>49</td>\n",
       "      <td>1</td>\n",
       "      <td>4839047</td>\n",
       "    </tr>\n",
       "    <tr>\n",
       "      <th>5878</th>\n",
       "      <td>48</td>\n",
       "      <td>1</td>\n",
       "      <td>4813073</td>\n",
       "    </tr>\n",
       "    <tr>\n",
       "      <th>5877</th>\n",
       "      <td>48</td>\n",
       "      <td>1</td>\n",
       "      <td>4813070</td>\n",
       "    </tr>\n",
       "    <tr>\n",
       "      <th>5869</th>\n",
       "      <td>48</td>\n",
       "      <td>1</td>\n",
       "      <td>4808453</td>\n",
       "    </tr>\n",
       "    <tr>\n",
       "      <th>5879</th>\n",
       "      <td>47</td>\n",
       "      <td>1</td>\n",
       "      <td>4813114</td>\n",
       "    </tr>\n",
       "    <tr>\n",
       "      <th>6468</th>\n",
       "      <td>46</td>\n",
       "      <td>1</td>\n",
       "      <td>5678782</td>\n",
       "    </tr>\n",
       "    <tr>\n",
       "      <th>404613</th>\n",
       "      <td>46</td>\n",
       "      <td>1</td>\n",
       "      <td>4844375</td>\n",
       "    </tr>\n",
       "    <tr>\n",
       "      <th>5854</th>\n",
       "      <td>45</td>\n",
       "      <td>1</td>\n",
       "      <td>4802512</td>\n",
       "    </tr>\n",
       "    <tr>\n",
       "      <th>404049</th>\n",
       "      <td>45</td>\n",
       "      <td>1</td>\n",
       "      <td>3741210</td>\n",
       "    </tr>\n",
       "    <tr>\n",
       "      <th>404620</th>\n",
       "      <td>45</td>\n",
       "      <td>1</td>\n",
       "      <td>4850822</td>\n",
       "    </tr>\n",
       "    <tr>\n",
       "      <th>404614</th>\n",
       "      <td>45</td>\n",
       "      <td>1</td>\n",
       "      <td>4845111</td>\n",
       "    </tr>\n",
       "    <tr>\n",
       "      <th>404396</th>\n",
       "      <td>45</td>\n",
       "      <td>1</td>\n",
       "      <td>4573685</td>\n",
       "    </tr>\n",
       "    <tr>\n",
       "      <th>4404</th>\n",
       "      <td>45</td>\n",
       "      <td>1</td>\n",
       "      <td>2990993</td>\n",
       "    </tr>\n",
       "    <tr>\n",
       "      <th>404061</th>\n",
       "      <td>45</td>\n",
       "      <td>1</td>\n",
       "      <td>3748170</td>\n",
       "    </tr>\n",
       "    <tr>\n",
       "      <th>6668</th>\n",
       "      <td>45</td>\n",
       "      <td>1</td>\n",
       "      <td>5876955</td>\n",
       "    </tr>\n",
       "    <tr>\n",
       "      <th>404394</th>\n",
       "      <td>45</td>\n",
       "      <td>1</td>\n",
       "      <td>4572139</td>\n",
       "    </tr>\n",
       "    <tr>\n",
       "      <th>404042</th>\n",
       "      <td>44</td>\n",
       "      <td>1</td>\n",
       "      <td>3738213</td>\n",
       "    </tr>\n",
       "    <tr>\n",
       "      <th>404062</th>\n",
       "      <td>44</td>\n",
       "      <td>1</td>\n",
       "      <td>3748687</td>\n",
       "    </tr>\n",
       "    <tr>\n",
       "      <th>404038</th>\n",
       "      <td>44</td>\n",
       "      <td>1</td>\n",
       "      <td>3736339</td>\n",
       "    </tr>\n",
       "    <tr>\n",
       "      <th>404060</th>\n",
       "      <td>44</td>\n",
       "      <td>1</td>\n",
       "      <td>3747579</td>\n",
       "    </tr>\n",
       "  </tbody>\n",
       "</table>\n",
       "</div>"
      ],
      "text/plain": [
       "        position_count #CHROM      POS\n",
       "5927                49      1  4839047\n",
       "5878                48      1  4813073\n",
       "5877                48      1  4813070\n",
       "5869                48      1  4808453\n",
       "5879                47      1  4813114\n",
       "6468                46      1  5678782\n",
       "404613              46      1  4844375\n",
       "5854                45      1  4802512\n",
       "404049              45      1  3741210\n",
       "404620              45      1  4850822\n",
       "404614              45      1  4845111\n",
       "404396              45      1  4573685\n",
       "4404                45      1  2990993\n",
       "404061              45      1  3748170\n",
       "6668                45      1  5876955\n",
       "404394              45      1  4572139\n",
       "404042              44      1  3738213\n",
       "404062              44      1  3748687\n",
       "404038              44      1  3736339\n",
       "404060              44      1  3747579"
      ]
     },
     "execution_count": 27,
     "metadata": {},
     "output_type": "execute_result"
    }
   ],
   "source": [
    "df_position_count.sort_values('position_count', ascending=False).head(20)"
   ]
  },
  {
   "cell_type": "code",
   "execution_count": 52,
   "metadata": {},
   "outputs": [],
   "source": [
    "df_manhattan=df_position_count\n",
    "df_manhattan[\"#CHROM\"] = df_manhattan[\"#CHROM\"].astype(int)\n",
    "df_manhattan[\"POS\"] = df_manhattan[\"POS\"].astype(int)\n",
    "df_manhattan = df_manhattan.sort_values(by=[\"#CHROM\", \"POS\"])\n",
    "df_manhattan['P'] = df_manhattan['position_count'].apply(create_fake_p_value)"
   ]
  },
  {
   "cell_type": "code",
   "execution_count": 53,
   "metadata": {},
   "outputs": [
    {
     "data": {
      "image/png": "[encoded data removed]",
      "text/plain": [
       "<Figure size 900x300 with 1 Axes>"
      ]
     },
     "metadata": {},
     "output_type": "display_data"
    }
   ],
   "source": [
    "from qmplot import manhattanplot\n",
    "ax = manhattanplot(\n",
    "    data=df_manhattan,\n",
    "    genomewideline=0.05,\n",
    "    xticklabel_kws={\"rotation\": \"vertical\"})"
   ]
  },
  {
   "cell_type": "code",
   "execution_count": 58,
   "metadata": {},
   "outputs": [
    {
     "data": {
      "text/html": [
       "<div>\n",
       "<style scoped>\n",
       "    .dataframe tbody tr th:only-of-type {\n",
       "        vertical-align: middle;\n",
       "    }\n",
       "\n",
       "    .dataframe tbody tr th {\n",
       "        vertical-align: top;\n",
       "    }\n",
       "\n",
       "    .dataframe thead th {\n",
       "        text-align: right;\n",
       "    }\n",
       "</style>\n",
       "<table border=\"1\" class=\"dataframe\">\n",
       "  <thead>\n",
       "    <tr style=\"text-align: right;\">\n",
       "      <th></th>\n",
       "      <th>position_count</th>\n",
       "      <th>#CHROM</th>\n",
       "      <th>POS</th>\n",
       "      <th>P</th>\n",
       "    </tr>\n",
       "  </thead>\n",
       "  <tbody>\n",
       "    <tr>\n",
       "      <th>5927</th>\n",
       "      <td>49</td>\n",
       "      <td>1</td>\n",
       "      <td>4839047</td>\n",
       "      <td>0.040816</td>\n",
       "    </tr>\n",
       "    <tr>\n",
       "      <th>5869</th>\n",
       "      <td>48</td>\n",
       "      <td>1</td>\n",
       "      <td>4808453</td>\n",
       "      <td>0.041667</td>\n",
       "    </tr>\n",
       "    <tr>\n",
       "      <th>5878</th>\n",
       "      <td>48</td>\n",
       "      <td>1</td>\n",
       "      <td>4813073</td>\n",
       "      <td>0.041667</td>\n",
       "    </tr>\n",
       "    <tr>\n",
       "      <th>5877</th>\n",
       "      <td>48</td>\n",
       "      <td>1</td>\n",
       "      <td>4813070</td>\n",
       "      <td>0.041667</td>\n",
       "    </tr>\n",
       "    <tr>\n",
       "      <th>5879</th>\n",
       "      <td>47</td>\n",
       "      <td>1</td>\n",
       "      <td>4813114</td>\n",
       "      <td>0.042553</td>\n",
       "    </tr>\n",
       "    <tr>\n",
       "      <th>...</th>\n",
       "      <td>...</td>\n",
       "      <td>...</td>\n",
       "      <td>...</td>\n",
       "      <td>...</td>\n",
       "    </tr>\n",
       "    <tr>\n",
       "      <th>952521</th>\n",
       "      <td>21</td>\n",
       "      <td>6</td>\n",
       "      <td>122312809</td>\n",
       "      <td>0.095238</td>\n",
       "    </tr>\n",
       "    <tr>\n",
       "      <th>952519</th>\n",
       "      <td>21</td>\n",
       "      <td>6</td>\n",
       "      <td>122312756</td>\n",
       "      <td>0.095238</td>\n",
       "    </tr>\n",
       "    <tr>\n",
       "      <th>952518</th>\n",
       "      <td>21</td>\n",
       "      <td>6</td>\n",
       "      <td>122312433</td>\n",
       "      <td>0.095238</td>\n",
       "    </tr>\n",
       "    <tr>\n",
       "      <th>952516</th>\n",
       "      <td>21</td>\n",
       "      <td>6</td>\n",
       "      <td>122312050</td>\n",
       "      <td>0.095238</td>\n",
       "    </tr>\n",
       "    <tr>\n",
       "      <th>2079309</th>\n",
       "      <td>21</td>\n",
       "      <td>6</td>\n",
       "      <td>10538182</td>\n",
       "      <td>0.095238</td>\n",
       "    </tr>\n",
       "  </tbody>\n",
       "</table>\n",
       "<p>85695 rows × 4 columns</p>\n",
       "</div>"
      ],
      "text/plain": [
       "         position_count #CHROM        POS         P\n",
       "5927                 49      1    4839047  0.040816\n",
       "5869                 48      1    4808453  0.041667\n",
       "5878                 48      1    4813073  0.041667\n",
       "5877                 48      1    4813070  0.041667\n",
       "5879                 47      1    4813114  0.042553\n",
       "...                 ...    ...        ...       ...\n",
       "952521               21      6  122312809  0.095238\n",
       "952519               21      6  122312756  0.095238\n",
       "952518               21      6  122312433  0.095238\n",
       "952516               21      6  122312050  0.095238\n",
       "2079309              21      6   10538182  0.095238\n",
       "\n",
       "[85695 rows x 4 columns]"
      ]
     },
     "execution_count": 58,
     "metadata": {},
     "output_type": "execute_result"
    }
   ],
   "source": [
    "df_LOH_20 = df_manhattan[df_manhattan['position_count']>20].sort_values('position_count', ascending=False)\n",
    "df_LOH_20"
   ]
  },
  {
   "cell_type": "code",
   "execution_count": 61,
   "metadata": {},
   "outputs": [
    {
     "data": {
      "text/html": [
       "<div>\n",
       "<style scoped>\n",
       "    .dataframe tbody tr th:only-of-type {\n",
       "        vertical-align: middle;\n",
       "    }\n",
       "\n",
       "    .dataframe tbody tr th {\n",
       "        vertical-align: top;\n",
       "    }\n",
       "\n",
       "    .dataframe thead th {\n",
       "        text-align: right;\n",
       "    }\n",
       "</style>\n",
       "<table border=\"1\" class=\"dataframe\">\n",
       "  <thead>\n",
       "    <tr style=\"text-align: right;\">\n",
       "      <th></th>\n",
       "      <th>position_count</th>\n",
       "      <th>#CHROM</th>\n",
       "      <th>POS</th>\n",
       "      <th>P</th>\n",
       "    </tr>\n",
       "  </thead>\n",
       "  <tbody>\n",
       "    <tr>\n",
       "      <th>630172</th>\n",
       "      <td>28</td>\n",
       "      <td>14</td>\n",
       "      <td>106748942</td>\n",
       "      <td>0.071429</td>\n",
       "    </tr>\n",
       "    <tr>\n",
       "      <th>630171</th>\n",
       "      <td>28</td>\n",
       "      <td>14</td>\n",
       "      <td>106748868</td>\n",
       "      <td>0.071429</td>\n",
       "    </tr>\n",
       "    <tr>\n",
       "      <th>630170</th>\n",
       "      <td>28</td>\n",
       "      <td>14</td>\n",
       "      <td>106748015</td>\n",
       "      <td>0.071429</td>\n",
       "    </tr>\n",
       "  </tbody>\n",
       "</table>\n",
       "</div>"
      ],
      "text/plain": [
       "        position_count #CHROM        POS         P\n",
       "630172              28     14  106748942  0.071429\n",
       "630171              28     14  106748868  0.071429\n",
       "630170              28     14  106748015  0.071429"
      ]
     },
     "execution_count": 61,
     "metadata": {},
     "output_type": "execute_result"
    }
   ],
   "source": [
    "df_LOH_20[df_LOH_20['#CHROM']=='14']"
   ]
  },
  {
   "cell_type": "code",
   "execution_count": null,
   "metadata": {},
   "outputs": [],
   "source": []
  }
 ],
 "metadata": {
  "kernelspec": {
   "display_name": ".venv",
   "language": "python",
   "name": "python3"
  },
  "language_info": {
   "codemirror_mode": {
    "name": "ipython",
    "version": 3
   },
   "file_extension": ".py",
   "mimetype": "text/x-python",
   "name": "python",
   "nbconvert_exporter": "python",
   "pygments_lexer": "ipython3",
   "version": "3.10.9"
  },
  "orig_nbformat": 4
 },
 "nbformat": 4,
 "nbformat_minor": 2
}

{
 "cells": [
  {
   "cell_type": "code",
   "execution_count": 26,
   "metadata": {},
   "outputs": [],
   "source": [
    "import gzip\n",
    "\n",
    "import pandas as pd\n",
    "\n",
    "pd.set_option(\"display.max_columns\", None)"
   ]
  },
  {
   "attachments": {},
   "cell_type": "markdown",
   "metadata": {},
   "source": [
    "Read LOH positions"
   ]
  },
  {
   "cell_type": "code",
   "execution_count": 27,
   "metadata": {},
   "outputs": [
    {
     "data": {
      "text/plain": [
       "19090241"
      ]
     },
     "execution_count": 27,
     "metadata": {},
     "output_type": "execute_result"
    }
   ],
   "source": [
    "df = pd.read_csv(\"/home/junkhann/daten/intersect_mmml_onek1k_with_header.vcf.gz\", sep=\"\\t\", compression=\"gzip\", low_memory=False)\n",
    "len(df)"
   ]
  },
  {
   "cell_type": "code",
   "execution_count": 28,
   "metadata": {},
   "outputs": [],
   "source": [
    "df = df.drop(columns=[\"Unnamed: 29\", \"position_dummy\", \"#CHR\", \"POS\", \"POS_DUMMY\"])"
   ]
  },
  {
   "cell_type": "code",
   "execution_count": 29,
   "metadata": {},
   "outputs": [],
   "source": [
    "df[\"position_code\"] = df[\"#CHROM\"].astype(str) + \"-\" + df[\"pos\"].astype(str)"
   ]
  },
  {
   "cell_type": "code",
   "execution_count": 30,
   "metadata": {},
   "outputs": [
    {
     "data": {
      "text/html": [
       "<div>\n",
       "<style scoped>\n",
       "    .dataframe tbody tr th:only-of-type {\n",
       "        vertical-align: middle;\n",
       "    }\n",
       "\n",
       "    .dataframe tbody tr th {\n",
       "        vertical-align: top;\n",
       "    }\n",
       "\n",
       "    .dataframe thead th {\n",
       "        text-align: right;\n",
       "    }\n",
       "</style>\n",
       "<table border=\"1\" class=\"dataframe\">\n",
       "  <thead>\n",
       "    <tr style=\"text-align: right;\">\n",
       "      <th></th>\n",
       "      <th>#CHROM</th>\n",
       "      <th>pos</th>\n",
       "      <th>REF</th>\n",
       "      <th>ALT</th>\n",
       "      <th>INFO</th>\n",
       "      <th>sample_control</th>\n",
       "      <th>sample_tumor</th>\n",
       "      <th>start</th>\n",
       "      <th>end</th>\n",
       "      <th>genotype</th>\n",
       "      <th>TCN</th>\n",
       "      <th>PID</th>\n",
       "      <th>normal_genotype</th>\n",
       "      <th>tumor_genotype</th>\n",
       "      <th>quality_score</th>\n",
       "      <th>reads_normal</th>\n",
       "      <th>reads_tumor</th>\n",
       "      <th>CELL_TYPE</th>\n",
       "      <th>RSID</th>\n",
       "      <th>GENE</th>\n",
       "      <th>GENE_ID</th>\n",
       "      <th>A1</th>\n",
       "      <th>A2</th>\n",
       "      <th>A2_FREQ_ONEK1K</th>\n",
       "      <th>A2_FREQ_HRC</th>\n",
       "      <th>position_code</th>\n",
       "    </tr>\n",
       "  </thead>\n",
       "  <tbody>\n",
       "    <tr>\n",
       "      <th>0</th>\n",
       "      <td>3</td>\n",
       "      <td>116723728</td>\n",
       "      <td>G</td>\n",
       "      <td>A</td>\n",
       "      <td>BRF=0.23;FR=0.2505;HP=1;HapScore=1;MGOF=13;MML...</td>\n",
       "      <td>1/0:-60.85,0,-76.25:4:99:40:17</td>\n",
       "      <td>0/0:0,-2.22,-65.4:13:22:18:1</td>\n",
       "      <td>116664052</td>\n",
       "      <td>116765897</td>\n",
       "      <td>1:0</td>\n",
       "      <td>1.0</td>\n",
       "      <td>4100314</td>\n",
       "      <td>1,1</td>\n",
       "      <td>1,0</td>\n",
       "      <td>99.0</td>\n",
       "      <td>40</td>\n",
       "      <td>18</td>\n",
       "      <td>CD4 Naive/Central memory T cell</td>\n",
       "      <td>rs1464621</td>\n",
       "      <td>{'RP11-384F7.1'}</td>\n",
       "      <td>{'ENSG00000243276'}</td>\n",
       "      <td>G</td>\n",
       "      <td>A</td>\n",
       "      <td>0.26109</td>\n",
       "      <td>0.269156</td>\n",
       "      <td>3-116723728</td>\n",
       "    </tr>\n",
       "    <tr>\n",
       "      <th>1</th>\n",
       "      <td>3</td>\n",
       "      <td>116725097</td>\n",
       "      <td>G</td>\n",
       "      <td>A</td>\n",
       "      <td>BRF=0.16;FR=0.4792;HP=4;HapScore=1;MGOF=16;MML...</td>\n",
       "      <td>1/0:-80.45,0,-60.95:7:99:46:26</td>\n",
       "      <td>1/0:-1.08,0,-61.28:16:11:21:2</td>\n",
       "      <td>116664052</td>\n",
       "      <td>116765897</td>\n",
       "      <td>1:0</td>\n",
       "      <td>1.0</td>\n",
       "      <td>4100314</td>\n",
       "      <td>1,1</td>\n",
       "      <td>1,0</td>\n",
       "      <td>99.0</td>\n",
       "      <td>46</td>\n",
       "      <td>21</td>\n",
       "      <td>CD4 Naive/Central memory T cell</td>\n",
       "      <td>rs9871824</td>\n",
       "      <td>{'RP11-384F7.1'}</td>\n",
       "      <td>{'ENSG00000243276'}</td>\n",
       "      <td>G</td>\n",
       "      <td>A</td>\n",
       "      <td>0.25949</td>\n",
       "      <td>0.256067</td>\n",
       "      <td>3-116725097</td>\n",
       "    </tr>\n",
       "    <tr>\n",
       "      <th>2</th>\n",
       "      <td>3</td>\n",
       "      <td>116725415</td>\n",
       "      <td>A</td>\n",
       "      <td>G</td>\n",
       "      <td>BRF=0.21;FR=0.4934;HP=1;HapScore=1;MGOF=12;MML...</td>\n",
       "      <td>0/1:-80.24,0,-94.94:7:99:59:27</td>\n",
       "      <td>0/1:-1.58,0,-55.58:12:16:20:2</td>\n",
       "      <td>116664052</td>\n",
       "      <td>116765897</td>\n",
       "      <td>1:0</td>\n",
       "      <td>1.0</td>\n",
       "      <td>4100314</td>\n",
       "      <td>1,1</td>\n",
       "      <td>1,0</td>\n",
       "      <td>99.0</td>\n",
       "      <td>59</td>\n",
       "      <td>20</td>\n",
       "      <td>CD4 Naive/Central memory T cell</td>\n",
       "      <td>rs6783180</td>\n",
       "      <td>{'RP11-384F7.1'}</td>\n",
       "      <td>{'ENSG00000243276'}</td>\n",
       "      <td>A</td>\n",
       "      <td>G</td>\n",
       "      <td>0.25897</td>\n",
       "      <td>0.256144</td>\n",
       "      <td>3-116725415</td>\n",
       "    </tr>\n",
       "    <tr>\n",
       "      <th>3</th>\n",
       "      <td>3</td>\n",
       "      <td>116726085</td>\n",
       "      <td>C</td>\n",
       "      <td>T</td>\n",
       "      <td>BRF=0.22;FR=0.5001;HP=2;HapScore=1;MGOF=25;MML...</td>\n",
       "      <td>0/1:-45.57,0,-38.67:25:99:28:13</td>\n",
       "      <td>0/1:-71.17,0,-3.57:2:36:26:23</td>\n",
       "      <td>116664052</td>\n",
       "      <td>116765897</td>\n",
       "      <td>1:0</td>\n",
       "      <td>1.0</td>\n",
       "      <td>4100314</td>\n",
       "      <td>1,1</td>\n",
       "      <td>0,1</td>\n",
       "      <td>99.0</td>\n",
       "      <td>28</td>\n",
       "      <td>26</td>\n",
       "      <td>CD4 Naive/Central memory T cell</td>\n",
       "      <td>rs75373647</td>\n",
       "      <td>{'RP11-384F7.1'}</td>\n",
       "      <td>{'ENSG00000243276'}</td>\n",
       "      <td>C</td>\n",
       "      <td>T</td>\n",
       "      <td>0.13415</td>\n",
       "      <td>0.144379</td>\n",
       "      <td>3-116726085</td>\n",
       "    </tr>\n",
       "    <tr>\n",
       "      <th>4</th>\n",
       "      <td>3</td>\n",
       "      <td>116726713</td>\n",
       "      <td>T</td>\n",
       "      <td>C</td>\n",
       "      <td>BRF=0.24;FR=0.7484;HP=5;HapScore=1;MGOF=21;MML...</td>\n",
       "      <td>1/0:-89.35,0,-57.55:15:99:55:33</td>\n",
       "      <td>1/1:-79.1,-1.71,0:21:17:29:27</td>\n",
       "      <td>116664052</td>\n",
       "      <td>116765897</td>\n",
       "      <td>1:0</td>\n",
       "      <td>1.0</td>\n",
       "      <td>4100314</td>\n",
       "      <td>1,1</td>\n",
       "      <td>0,1</td>\n",
       "      <td>99.0</td>\n",
       "      <td>55</td>\n",
       "      <td>29</td>\n",
       "      <td>CD4 Naive/Central memory T cell</td>\n",
       "      <td>rs12630933</td>\n",
       "      <td>{'RP11-384F7.1'}</td>\n",
       "      <td>{'ENSG00000243276'}</td>\n",
       "      <td>T</td>\n",
       "      <td>C</td>\n",
       "      <td>0.13452</td>\n",
       "      <td>0.144503</td>\n",
       "      <td>3-116726713</td>\n",
       "    </tr>\n",
       "  </tbody>\n",
       "</table>\n",
       "</div>"
      ],
      "text/plain": [
       "   #CHROM        pos REF ALT   \n",
       "0       3  116723728   G   A  \\\n",
       "1       3  116725097   G   A   \n",
       "2       3  116725415   A   G   \n",
       "3       3  116726085   C   T   \n",
       "4       3  116726713   T   C   \n",
       "\n",
       "                                                INFO   \n",
       "0  BRF=0.23;FR=0.2505;HP=1;HapScore=1;MGOF=13;MML...  \\\n",
       "1  BRF=0.16;FR=0.4792;HP=4;HapScore=1;MGOF=16;MML...   \n",
       "2  BRF=0.21;FR=0.4934;HP=1;HapScore=1;MGOF=12;MML...   \n",
       "3  BRF=0.22;FR=0.5001;HP=2;HapScore=1;MGOF=25;MML...   \n",
       "4  BRF=0.24;FR=0.7484;HP=5;HapScore=1;MGOF=21;MML...   \n",
       "\n",
       "                    sample_control                   sample_tumor      start   \n",
       "0   1/0:-60.85,0,-76.25:4:99:40:17   0/0:0,-2.22,-65.4:13:22:18:1  116664052  \\\n",
       "1   1/0:-80.45,0,-60.95:7:99:46:26  1/0:-1.08,0,-61.28:16:11:21:2  116664052   \n",
       "2   0/1:-80.24,0,-94.94:7:99:59:27  0/1:-1.58,0,-55.58:12:16:20:2  116664052   \n",
       "3  0/1:-45.57,0,-38.67:25:99:28:13  0/1:-71.17,0,-3.57:2:36:26:23  116664052   \n",
       "4  1/0:-89.35,0,-57.55:15:99:55:33  1/1:-79.1,-1.71,0:21:17:29:27  116664052   \n",
       "\n",
       "         end genotype  TCN      PID normal_genotype tumor_genotype   \n",
       "0  116765897      1:0  1.0  4100314             1,1            1,0  \\\n",
       "1  116765897      1:0  1.0  4100314             1,1            1,0   \n",
       "2  116765897      1:0  1.0  4100314             1,1            1,0   \n",
       "3  116765897      1:0  1.0  4100314             1,1            0,1   \n",
       "4  116765897      1:0  1.0  4100314             1,1            0,1   \n",
       "\n",
       "   quality_score  reads_normal  reads_tumor                        CELL_TYPE   \n",
       "0           99.0            40           18  CD4 Naive/Central memory T cell  \\\n",
       "1           99.0            46           21  CD4 Naive/Central memory T cell   \n",
       "2           99.0            59           20  CD4 Naive/Central memory T cell   \n",
       "3           99.0            28           26  CD4 Naive/Central memory T cell   \n",
       "4           99.0            55           29  CD4 Naive/Central memory T cell   \n",
       "\n",
       "         RSID              GENE              GENE_ID A1 A2  A2_FREQ_ONEK1K   \n",
       "0   rs1464621  {'RP11-384F7.1'}  {'ENSG00000243276'}  G  A         0.26109  \\\n",
       "1   rs9871824  {'RP11-384F7.1'}  {'ENSG00000243276'}  G  A         0.25949   \n",
       "2   rs6783180  {'RP11-384F7.1'}  {'ENSG00000243276'}  A  G         0.25897   \n",
       "3  rs75373647  {'RP11-384F7.1'}  {'ENSG00000243276'}  C  T         0.13415   \n",
       "4  rs12630933  {'RP11-384F7.1'}  {'ENSG00000243276'}  T  C         0.13452   \n",
       "\n",
       "   A2_FREQ_HRC position_code  \n",
       "0     0.269156   3-116723728  \n",
       "1     0.256067   3-116725097  \n",
       "2     0.256144   3-116725415  \n",
       "3     0.144379   3-116726085  \n",
       "4     0.144503   3-116726713  "
      ]
     },
     "execution_count": 30,
     "metadata": {},
     "output_type": "execute_result"
    }
   ],
   "source": [
    "df.head()"
   ]
  },
  {
   "attachments": {},
   "cell_type": "markdown",
   "metadata": {},
   "source": [
    "Analyse LOH positions"
   ]
  },
  {
   "cell_type": "code",
   "execution_count": 31,
   "metadata": {},
   "outputs": [
    {
     "data": {
      "text/plain": [
       "4124732"
      ]
     },
     "execution_count": 31,
     "metadata": {},
     "output_type": "execute_result"
    }
   ],
   "source": [
    "no_distinct_positions = df[\"position_code\"].nunique()\n",
    "no_distinct_positions"
   ]
  },
  {
   "cell_type": "code",
   "execution_count": 32,
   "metadata": {},
   "outputs": [
    {
     "data": {
      "text/plain": [
       "22"
      ]
     },
     "execution_count": 32,
     "metadata": {},
     "output_type": "execute_result"
    }
   ],
   "source": [
    "df[\"#CHROM\"].nunique()"
   ]
  },
  {
   "cell_type": "code",
   "execution_count": 33,
   "metadata": {},
   "outputs": [
    {
     "data": {
      "text/plain": [
       "235"
      ]
     },
     "execution_count": 33,
     "metadata": {},
     "output_type": "execute_result"
    }
   ],
   "source": [
    "no_distinct_patients = df[\"PID\"].nunique()\n",
    "no_distinct_patients"
   ]
  },
  {
   "cell_type": "code",
   "execution_count": 34,
   "metadata": {},
   "outputs": [
    {
     "data": {
      "text/plain": [
       "18870653"
      ]
     },
     "execution_count": 34,
     "metadata": {},
     "output_type": "execute_result"
    }
   ],
   "source": [
    "unique_combinations = len(df.drop_duplicates(['PID','position_code']).index)\n",
    "unique_combinations"
   ]
  },
  {
   "attachments": {},
   "cell_type": "markdown",
   "metadata": {},
   "source": [
    "Merge position count"
   ]
  },
  {
   "cell_type": "code",
   "execution_count": 35,
   "metadata": {},
   "outputs": [
    {
     "data": {
      "text/plain": [
       "(4124732, 2)"
      ]
     },
     "execution_count": 35,
     "metadata": {},
     "output_type": "execute_result"
    }
   ],
   "source": [
    "ser = pd.read_json(\"/home/junkhann/daten/intersect_position_count.json\", typ=\"series\", dtype={str})\n",
    "df_position_count = ser.to_frame(\"position_count\")\n",
    "df_position_count = df_position_count.reset_index(names=\"pos\")\n",
    "df_position_count.shape"
   ]
  },
  {
   "cell_type": "code",
   "execution_count": 36,
   "metadata": {},
   "outputs": [
    {
     "data": {
      "text/html": [
       "<div>\n",
       "<style scoped>\n",
       "    .dataframe tbody tr th:only-of-type {\n",
       "        vertical-align: middle;\n",
       "    }\n",
       "\n",
       "    .dataframe tbody tr th {\n",
       "        vertical-align: top;\n",
       "    }\n",
       "\n",
       "    .dataframe thead th {\n",
       "        text-align: right;\n",
       "    }\n",
       "</style>\n",
       "<table border=\"1\" class=\"dataframe\">\n",
       "  <thead>\n",
       "    <tr style=\"text-align: right;\">\n",
       "      <th></th>\n",
       "      <th>pos</th>\n",
       "      <th>position_count</th>\n",
       "    </tr>\n",
       "  </thead>\n",
       "  <tbody>\n",
       "    <tr>\n",
       "      <th>0</th>\n",
       "      <td>3-116723728</td>\n",
       "      <td>7</td>\n",
       "    </tr>\n",
       "    <tr>\n",
       "      <th>1</th>\n",
       "      <td>3-116725097</td>\n",
       "      <td>7</td>\n",
       "    </tr>\n",
       "    <tr>\n",
       "      <th>2</th>\n",
       "      <td>3-116725415</td>\n",
       "      <td>7</td>\n",
       "    </tr>\n",
       "    <tr>\n",
       "      <th>3</th>\n",
       "      <td>3-116726085</td>\n",
       "      <td>3</td>\n",
       "    </tr>\n",
       "    <tr>\n",
       "      <th>4</th>\n",
       "      <td>3-116726713</td>\n",
       "      <td>3</td>\n",
       "    </tr>\n",
       "  </tbody>\n",
       "</table>\n",
       "</div>"
      ],
      "text/plain": [
       "           pos  position_count\n",
       "0  3-116723728               7\n",
       "1  3-116725097               7\n",
       "2  3-116725415               7\n",
       "3  3-116726085               3\n",
       "4  3-116726713               3"
      ]
     },
     "execution_count": 36,
     "metadata": {},
     "output_type": "execute_result"
    }
   ],
   "source": [
    "df_position_count.head()"
   ]
  },
  {
   "cell_type": "code",
   "execution_count": 37,
   "metadata": {},
   "outputs": [
    {
     "data": {
      "text/plain": [
       "19090241"
      ]
     },
     "execution_count": 37,
     "metadata": {},
     "output_type": "execute_result"
    }
   ],
   "source": [
    "df = df.merge(df_position_count, how=\"inner\", left_on=\"position_code\", right_on=\"pos\")\n",
    "len(df)"
   ]
  },
  {
   "attachments": {},
   "cell_type": "markdown",
   "metadata": {},
   "source": [
    "Set threshold"
   ]
  },
  {
   "cell_type": "code",
   "execution_count": 51,
   "metadata": {},
   "outputs": [
    {
     "data": {
      "text/plain": [
       "7614506"
      ]
     },
     "execution_count": 51,
     "metadata": {},
     "output_type": "execute_result"
    }
   ],
   "source": [
    "threshold = 10\n",
    "df_thresholded = df[df[\"position_count\"] >= threshold]\n",
    "len(df_thresholded)"
   ]
  },
  {
   "attachments": {},
   "cell_type": "markdown",
   "metadata": {},
   "source": [
    "Analyze thresholded dataframe"
   ]
  },
  {
   "cell_type": "code",
   "execution_count": 52,
   "metadata": {},
   "outputs": [
    {
     "data": {
      "text/plain": [
       "231"
      ]
     },
     "execution_count": 52,
     "metadata": {},
     "output_type": "execute_result"
    }
   ],
   "source": [
    "df_thresholded[\"PID\"].nunique()"
   ]
  },
  {
   "cell_type": "code",
   "execution_count": 53,
   "metadata": {},
   "outputs": [
    {
     "data": {
      "text/plain": [
       "22"
      ]
     },
     "execution_count": 53,
     "metadata": {},
     "output_type": "execute_result"
    }
   ],
   "source": [
    "df_thresholded[\"#CHROM\"].nunique()"
   ]
  },
  {
   "cell_type": "code",
   "execution_count": 54,
   "metadata": {},
   "outputs": [
    {
     "data": {
      "text/plain": [
       "array([ 3,  4,  1,  6,  9, 14, 16, 17, 19, 22, 10, 11, 20, 13,  2, 15,  8,\n",
       "        7, 18, 12,  5, 21])"
      ]
     },
     "execution_count": 54,
     "metadata": {},
     "output_type": "execute_result"
    }
   ],
   "source": [
    "df_thresholded[\"#CHROM\"].unique()"
   ]
  },
  {
   "cell_type": "code",
   "execution_count": 55,
   "metadata": {},
   "outputs": [
    {
     "data": {
      "text/plain": [
       "490185"
      ]
     },
     "execution_count": 55,
     "metadata": {},
     "output_type": "execute_result"
    }
   ],
   "source": [
    "df_thresholded[\"position_code\"].nunique()"
   ]
  },
  {
   "attachments": {},
   "cell_type": "markdown",
   "metadata": {},
   "source": [
    "Write to csv"
   ]
  },
  {
   "cell_type": "code",
   "execution_count": 56,
   "metadata": {},
   "outputs": [],
   "source": [
    "df_thresholded.to_csv(f\"/home/junkhann/daten/LOH_pos_thresholded/LOH_positions_threshold_{threshold}.tsv.gz\", sep=\"\\t\", header=True, index=False, compression=\"gzip\")"
   ]
  },
  {
   "cell_type": "code",
   "execution_count": null,
   "metadata": {},
   "outputs": [],
   "source": []
  }
 ],
 "metadata": {
  "kernelspec": {
   "display_name": ".venv",
   "language": "python",
   "name": "python3"
  },
  "language_info": {
   "codemirror_mode": {
    "name": "ipython",
    "version": 3
   },
   "file_extension": ".py",
   "mimetype": "text/x-python",
   "name": "python",
   "nbconvert_exporter": "python",
   "pygments_lexer": "ipython3",
   "version": "3.10.6"
  },
  "orig_nbformat": 4
 },
 "nbformat": 4,
 "nbformat_minor": 2
}

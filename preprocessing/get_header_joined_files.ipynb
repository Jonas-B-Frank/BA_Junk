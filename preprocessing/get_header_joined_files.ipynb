{
 "cells": [
  {
   "cell_type": "code",
   "execution_count": 1,
   "metadata": {},
   "outputs": [],
   "source": [
    "import gzip"
   ]
  },
  {
   "cell_type": "code",
   "execution_count": 2,
   "metadata": {},
   "outputs": [
    {
     "data": {
      "text/plain": [
       "18"
      ]
     },
     "execution_count": 2,
     "metadata": {},
     "output_type": "execute_result"
    }
   ],
   "source": [
    "with open(\"/home/junkhann/daten/snvs_with_segments_extra_columns/extra_columns_4100314.tsv\", mode=\"r\") as mmml_file:\n",
    "    mmml_columns = mmml_file.readline()\n",
    "\n",
    "mmml_columns_list = mmml_columns.rstrip(\"\\n\").split(\"\\t\")\n",
    "len(mmml_columns_list)"
   ]
  },
  {
   "cell_type": "code",
   "execution_count": 3,
   "metadata": {},
   "outputs": [
    {
     "data": {
      "text/plain": [
       "11"
      ]
     },
     "execution_count": 3,
     "metadata": {},
     "output_type": "execute_result"
    }
   ],
   "source": [
    "with open(\"/home/junkhann/daten/onek1k/onek1k_subset_columns.tsv\", mode=\"r\") as onek1k_file:\n",
    "    onek1k_columns = onek1k_file.readline()\n",
    "\n",
    "onek1k_columns_list = onek1k_columns.rstrip(\"\\n\").split(\"\\t\")\n",
    "len(onek1k_columns_list)"
   ]
  },
  {
   "cell_type": "code",
   "execution_count": 4,
   "metadata": {},
   "outputs": [
    {
     "data": {
      "text/plain": [
       "29"
      ]
     },
     "execution_count": 4,
     "metadata": {},
     "output_type": "execute_result"
    }
   ],
   "source": [
    "columns_list = mmml_columns_list + onek1k_columns_list\n",
    "len(columns_list)"
   ]
  },
  {
   "cell_type": "code",
   "execution_count": 6,
   "metadata": {},
   "outputs": [],
   "source": [
    "with gzip.open(\"/home/junkhann/daten/mmml_onek1k_all_patients.vcf.gz\", mode=\"wt\") as write_file:\n",
    "    write_file.writelines(col + \"\\t\" for col in columns_list)\n",
    "    write_file.write(\"\\n\")"
   ]
  },
  {
   "cell_type": "code",
   "execution_count": 7,
   "metadata": {},
   "outputs": [],
   "source": [
    "with open(\"/home/junkhann/daten/mmml_onek1k_all_patients_columns.txt\", mode=\"w\") as text_file:\n",
    "    text_file.writelines(col + \"\\n\" for col in columns_list)"
   ]
  }
 ],
 "metadata": {
  "kernelspec": {
   "display_name": ".venv",
   "language": "python",
   "name": "python3"
  },
  "language_info": {
   "codemirror_mode": {
    "name": "ipython",
    "version": 3
   },
   "file_extension": ".py",
   "mimetype": "text/x-python",
   "name": "python",
   "nbconvert_exporter": "python",
   "pygments_lexer": "ipython3",
   "version": "3.10.6"
  },
  "orig_nbformat": 4,
  "vscode": {
   "interpreter": {
    "hash": "93a303f0ef870f638483e4737d45cbeec6639f70307ce4ab90c35c8ca4d6e6b9"
   }
  }
 },
 "nbformat": 4,
 "nbformat_minor": 2
}

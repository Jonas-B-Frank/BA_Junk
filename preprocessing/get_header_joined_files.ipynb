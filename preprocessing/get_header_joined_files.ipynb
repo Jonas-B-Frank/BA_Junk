{
 "cells": [
  {
   "cell_type": "code",
   "execution_count": null,
   "metadata": {},
   "outputs": [],
   "source": [
    "import gzip"
   ]
  },
  {
   "cell_type": "code",
   "execution_count": null,
   "metadata": {},
   "outputs": [],
   "source": [
    "with gzip.open(\"../snvs_with_segments_extra_columns/extra_columns_4100314.vcf.gz\", mode=\"rt\") as mmml_file:\n",
    "    mmml_columns = mmml_file.readline()\n",
    "\n",
    "mmml_columns_list = mmml_columns.rstrip(\"\\n\").split(\"\\t\")\n",
    "len(mmml_columns_list)"
   ]
  },
  {
   "cell_type": "code",
   "execution_count": null,
   "metadata": {},
   "outputs": [],
   "source": [
    "with open(\"../onek1k/onek1k_subset_columns.tsv\", mode=\"r\") as onek1k_file:\n",
    "    onek1k_columns = onek1k_file.readline()\n",
    "\n",
    "onek1k_columns_list = onek1k_columns.rstrip(\"\\n\").split(\"\\t\")\n",
    "len(onek1k_columns_list)"
   ]
  },
  {
   "cell_type": "code",
   "execution_count": null,
   "metadata": {},
   "outputs": [],
   "source": [
    "columns_list = mmml_columns_list + onek1k_columns_list\n",
    "len(columns_list)"
   ]
  },
  {
   "cell_type": "code",
   "execution_count": null,
   "metadata": {},
   "outputs": [],
   "source": [
    "#with gzip.open(\"../mmml_onek1k_all_patients.vcf.gz\", mode=\"wt\") as write_file:\n",
    "#    write_file.writelines(col + \"\\t\" for col in columns_list)\n",
    "#    write_file.write(\"\\n\")"
   ]
  },
  {
   "cell_type": "code",
   "execution_count": null,
   "metadata": {},
   "outputs": [],
   "source": [
    "with open(\"../mmml_onek1k_all_patients_columns.txt\", mode=\"w\") as text_file:\n",
    "    text_file.writelines(col + \"\\n\" for col in columns_list)"
   ]
  }
 ],
 "metadata": {
  "kernelspec": {
   "display_name": ".venv",
   "language": "python",
   "name": "python3"
  },
  "language_info": {
   "codemirror_mode": {
    "name": "ipython",
    "version": 3
   },
   "file_extension": ".py",
   "mimetype": "text/x-python",
   "name": "python",
   "nbconvert_exporter": "python",
   "pygments_lexer": "ipython3",
   "version": "3.10.6"
  },
  "orig_nbformat": 4,
  "vscode": {
   "interpreter": {
    "hash": "93a303f0ef870f638483e4737d45cbeec6639f70307ce4ab90c35c8ca4d6e6b9"
   }
  }
 },
 "nbformat": 4,
 "nbformat_minor": 2
}

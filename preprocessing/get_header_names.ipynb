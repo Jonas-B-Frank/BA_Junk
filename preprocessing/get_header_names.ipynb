{
 "cells": [
  {
   "cell_type": "code",
   "execution_count": null,
   "metadata": {},
   "outputs": [],
   "source": [
    "import gzip"
   ]
  },
  {
   "cell_type": "code",
   "execution_count": null,
   "metadata": {},
   "outputs": [],
   "source": [
    "with open(\"../all_combined_segments.txt\", mode=\"r\") as segments_file:\n",
    "    segments_columns = segments_file.readline()\n",
    "\n",
    "segments_columns_list = segments_columns.rstrip(\"\\n\").split(\"\\t\")\n",
    "len(segments_columns_list)"
   ]
  },
  {
   "cell_type": "code",
   "execution_count": null,
   "metadata": {},
   "outputs": [],
   "source": [
    "with gzip.open(\"../snv_files/snvs_4100049X.vcf.gz\", mode=\"rt\", encoding=\"utf-8\") as snv_file:\n",
    "    for line in snv_file:\n",
    "        if line.startswith(\"#CHROM\"):\n",
    "            snv_columns = line\n",
    "\n",
    "snv_columns_list = snv_columns.rstrip(\"\\n\").split(\"\\t\")\n",
    "len(snv_columns_list)"
   ]
  },
  {
   "cell_type": "code",
   "execution_count": null,
   "metadata": {},
   "outputs": [],
   "source": [
    "columns_list = snv_columns_list + segments_columns_list\n",
    "len(columns_list)"
   ]
  },
  {
   "cell_type": "code",
   "execution_count": null,
   "metadata": {},
   "outputs": [],
   "source": [
    "with open(\"header_names.txt\", mode=\"w\") as headers_file:\n",
    "    headers_file.writelines(col + \"\\n\" for col in columns_list)"
   ]
  },
  {
   "cell_type": "code",
   "execution_count": null,
   "metadata": {},
   "outputs": [],
   "source": []
  }
 ],
 "metadata": {
  "kernelspec": {
   "display_name": ".venv",
   "language": "python",
   "name": "python3"
  },
  "language_info": {
   "codemirror_mode": {
    "name": "ipython",
    "version": 3
   },
   "file_extension": ".py",
   "mimetype": "text/x-python",
   "name": "python",
   "nbconvert_exporter": "python",
   "pygments_lexer": "ipython3",
   "version": "3.10.6"
  },
  "orig_nbformat": 4,
  "vscode": {
   "interpreter": {
    "hash": "93a303f0ef870f638483e4737d45cbeec6639f70307ce4ab90c35c8ca4d6e6b9"
   }
  }
 },
 "nbformat": 4,
 "nbformat_minor": 2
}

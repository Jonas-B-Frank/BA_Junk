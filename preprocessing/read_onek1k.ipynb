{
 "cells": [
  {
   "cell_type": "code",
   "execution_count": null,
   "metadata": {},
   "outputs": [],
   "source": [
    "import pandas as pd\n",
    "pd.set_option(\"display.max_columns\", None)"
   ]
  },
  {
   "cell_type": "code",
   "execution_count": null,
   "metadata": {},
   "outputs": [],
   "source": [
    "filepath = \"../onek1k/onek1k_eqtl_dataset.tsv\"\n",
    "cols_list = (\"CELL_TYPE\", \"RSID\", \"GENE\", \"GENE_ID\", \"CHR\", \"POS\", \"A1\", \"A2\", \"A2_FREQ_ONEK1K\", \"A2_FREQ_HRC\")"
   ]
  },
  {
   "cell_type": "code",
   "execution_count": null,
   "metadata": {},
   "outputs": [],
   "source": [
    "df = pd.read_csv(filepath, sep=\"\\t\", usecols=cols_list)\n",
    "df.shape"
   ]
  },
  {
   "cell_type": "code",
   "execution_count": null,
   "metadata": {},
   "outputs": [],
   "source": [
    "df[\"POS_DUMMY\"] = df[\"POS\"].astype(\"int64\")\n",
    "df[\"POS\"] = (df[\"POS\"]).astype(\"int64\")\n",
    "df[\"POS\"] = df[\"POS\"]-1"
   ]
  },
  {
   "cell_type": "code",
   "execution_count": null,
   "metadata": {},
   "outputs": [],
   "source": [
    "df_sorted = df[[\"CHR\", \"POS\", \"POS_DUMMY\", \"CELL_TYPE\", \"RSID\", \"GENE\", \"GENE_ID\", \"A1\", \"A2\", \"A2_FREQ_ONEK1K\", \"A2_FREQ_HRC\"]]"
   ]
  },
  {
   "cell_type": "code",
   "execution_count": null,
   "metadata": {},
   "outputs": [],
   "source": [
    "df_sorted = df_sorted.rename(columns={\"CHR\": \"#CHR\"})\n",
    "df_sorted.head()"
   ]
  },
  {
   "cell_type": "code",
   "execution_count": null,
   "metadata": {},
   "outputs": [],
   "source": [
    "df_sorted.to_csv(\"../onek1k/onek1k_subset_columns_1based.tsv\", sep=\"\\t\", na_rep=\"NA\", index=False)"
   ]
  }
 ],
 "metadata": {
  "kernelspec": {
   "display_name": ".venv",
   "language": "python",
   "name": "python3"
  },
  "language_info": {
   "codemirror_mode": {
    "name": "ipython",
    "version": 3
   },
   "file_extension": ".py",
   "mimetype": "text/x-python",
   "name": "python",
   "nbconvert_exporter": "python",
   "pygments_lexer": "ipython3",
   "version": "3.10.9"
  },
  "orig_nbformat": 4
 },
 "nbformat": 4,
 "nbformat_minor": 2
}

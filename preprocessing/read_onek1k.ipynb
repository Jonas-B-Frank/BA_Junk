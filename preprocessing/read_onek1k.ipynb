{
 "cells": [
  {
   "cell_type": "code",
   "execution_count": 1,
   "metadata": {},
   "outputs": [],
   "source": [
    "import pandas as pd\n",
    "pd.set_option(\"display.max_columns\", None)"
   ]
  },
  {
   "cell_type": "code",
   "execution_count": 2,
   "metadata": {},
   "outputs": [],
   "source": [
    "filepath = \"../onek1k/onek1k_eqtl_dataset.tsv\"\n",
    "cols_list = (\"CELL_TYPE\", \"RSID\", \"GENE\", \"GENE_ID\", \"CHR\", \"POS\", \"A1\", \"A2\", \"A2_FREQ_ONEK1K\", \"A2_FREQ_HRC\")"
   ]
  },
  {
   "cell_type": "code",
   "execution_count": 3,
   "metadata": {},
   "outputs": [
    {
     "data": {
      "text/plain": [
       "(64374849, 10)"
      ]
     },
     "execution_count": 3,
     "metadata": {},
     "output_type": "execute_result"
    }
   ],
   "source": [
    "df = pd.read_csv(filepath, sep=\"\\t\", usecols=cols_list)\n",
    "df.shape"
   ]
  },
  {
   "cell_type": "code",
   "execution_count": 10,
   "metadata": {},
   "outputs": [],
   "source": [
    "df[\"POS_DUMMY\"] = df[\"POS\"].astype(\"int64\")\n",
    "df[\"POS\"] = (df[\"POS\"]+1).astype(\"int64\")"
   ]
  },
  {
   "cell_type": "code",
   "execution_count": 11,
   "metadata": {},
   "outputs": [],
   "source": [
    "df_sorted = df[[\"CHR\", \"POS\", \"POS_DUMMY\", \"CELL_TYPE\", \"RSID\", \"GENE\", \"GENE_ID\", \"A1\", \"A2\", \"A2_FREQ_ONEK1K\", \"A2_FREQ_HRC\"]]"
   ]
  },
  {
   "cell_type": "code",
   "execution_count": 12,
   "metadata": {},
   "outputs": [
    {
     "data": {
      "text/html": [
       "<div>\n",
       "<style scoped>\n",
       "    .dataframe tbody tr th:only-of-type {\n",
       "        vertical-align: middle;\n",
       "    }\n",
       "\n",
       "    .dataframe tbody tr th {\n",
       "        vertical-align: top;\n",
       "    }\n",
       "\n",
       "    .dataframe thead th {\n",
       "        text-align: right;\n",
       "    }\n",
       "</style>\n",
       "<table border=\"1\" class=\"dataframe\">\n",
       "  <thead>\n",
       "    <tr style=\"text-align: right;\">\n",
       "      <th></th>\n",
       "      <th>#CHR</th>\n",
       "      <th>POS</th>\n",
       "      <th>POS_DUMMY</th>\n",
       "      <th>CELL_TYPE</th>\n",
       "      <th>RSID</th>\n",
       "      <th>GENE</th>\n",
       "      <th>GENE_ID</th>\n",
       "      <th>A1</th>\n",
       "      <th>A2</th>\n",
       "      <th>A2_FREQ_ONEK1K</th>\n",
       "      <th>A2_FREQ_HRC</th>\n",
       "    </tr>\n",
       "  </thead>\n",
       "  <tbody>\n",
       "    <tr>\n",
       "      <th>0</th>\n",
       "      <td>1</td>\n",
       "      <td>228660479</td>\n",
       "      <td>228660479</td>\n",
       "      <td>Naïve/Immature B Cell</td>\n",
       "      <td>rs10753447</td>\n",
       "      <td>ZNF678</td>\n",
       "      <td>ENSG00000181450</td>\n",
       "      <td>C</td>\n",
       "      <td>A</td>\n",
       "      <td>0.56128</td>\n",
       "      <td>0.539544</td>\n",
       "    </tr>\n",
       "    <tr>\n",
       "      <th>1</th>\n",
       "      <td>1</td>\n",
       "      <td>228660501</td>\n",
       "      <td>228660501</td>\n",
       "      <td>Naïve/Immature B Cell</td>\n",
       "      <td>rs10733022</td>\n",
       "      <td>ZNF678</td>\n",
       "      <td>ENSG00000181450</td>\n",
       "      <td>C</td>\n",
       "      <td>A</td>\n",
       "      <td>0.64639</td>\n",
       "      <td>0.636110</td>\n",
       "    </tr>\n",
       "    <tr>\n",
       "      <th>2</th>\n",
       "      <td>1</td>\n",
       "      <td>228660718</td>\n",
       "      <td>228660718</td>\n",
       "      <td>Naïve/Immature B Cell</td>\n",
       "      <td>rs10916322</td>\n",
       "      <td>ZNF678</td>\n",
       "      <td>ENSG00000181450</td>\n",
       "      <td>A</td>\n",
       "      <td>G</td>\n",
       "      <td>0.08485</td>\n",
       "      <td>0.096012</td>\n",
       "    </tr>\n",
       "    <tr>\n",
       "      <th>3</th>\n",
       "      <td>1</td>\n",
       "      <td>228660847</td>\n",
       "      <td>228660847</td>\n",
       "      <td>Naïve/Immature B Cell</td>\n",
       "      <td>rs10737431</td>\n",
       "      <td>ZNF678</td>\n",
       "      <td>ENSG00000181450</td>\n",
       "      <td>A</td>\n",
       "      <td>G</td>\n",
       "      <td>0.66112</td>\n",
       "      <td>0.664737</td>\n",
       "    </tr>\n",
       "    <tr>\n",
       "      <th>4</th>\n",
       "      <td>1</td>\n",
       "      <td>228661593</td>\n",
       "      <td>228661593</td>\n",
       "      <td>Naïve/Immature B Cell</td>\n",
       "      <td>rs10916323</td>\n",
       "      <td>ZNF678</td>\n",
       "      <td>ENSG00000181450</td>\n",
       "      <td>G</td>\n",
       "      <td>T</td>\n",
       "      <td>0.13318</td>\n",
       "      <td>0.147475</td>\n",
       "    </tr>\n",
       "  </tbody>\n",
       "</table>\n",
       "</div>"
      ],
      "text/plain": [
       "   #CHR        POS  POS_DUMMY              CELL_TYPE        RSID    GENE   \n",
       "0     1  228660479  228660479  Naïve/Immature B Cell  rs10753447  ZNF678  \\\n",
       "1     1  228660501  228660501  Naïve/Immature B Cell  rs10733022  ZNF678   \n",
       "2     1  228660718  228660718  Naïve/Immature B Cell  rs10916322  ZNF678   \n",
       "3     1  228660847  228660847  Naïve/Immature B Cell  rs10737431  ZNF678   \n",
       "4     1  228661593  228661593  Naïve/Immature B Cell  rs10916323  ZNF678   \n",
       "\n",
       "           GENE_ID A1 A2  A2_FREQ_ONEK1K  A2_FREQ_HRC  \n",
       "0  ENSG00000181450  C  A         0.56128     0.539544  \n",
       "1  ENSG00000181450  C  A         0.64639     0.636110  \n",
       "2  ENSG00000181450  A  G         0.08485     0.096012  \n",
       "3  ENSG00000181450  A  G         0.66112     0.664737  \n",
       "4  ENSG00000181450  G  T         0.13318     0.147475  "
      ]
     },
     "execution_count": 12,
     "metadata": {},
     "output_type": "execute_result"
    }
   ],
   "source": [
    "df_sorted = df_sorted.rename(columns={\"CHR\": \"#CHR\"})\n",
    "df_sorted.head()"
   ]
  },
  {
   "cell_type": "code",
   "execution_count": 13,
   "metadata": {},
   "outputs": [],
   "source": [
    "df_sorted.to_csv(\"../onek1k/onek1k_subset_columns.tsv\", sep=\"\\t\", na_rep=\"NA\", index=False)"
   ]
  }
 ],
 "metadata": {
  "kernelspec": {
   "display_name": ".venv",
   "language": "python",
   "name": "python3"
  },
  "language_info": {
   "codemirror_mode": {
    "name": "ipython",
    "version": 3
   },
   "file_extension": ".py",
   "mimetype": "text/x-python",
   "name": "python",
   "nbconvert_exporter": "python",
   "pygments_lexer": "ipython3",
   "version": "3.10.6"
  },
  "orig_nbformat": 4
 },
 "nbformat": 4,
 "nbformat_minor": 2
}

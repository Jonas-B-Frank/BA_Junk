{
 "cells": [
  {
   "cell_type": "code",
   "execution_count": null,
   "metadata": {},
   "outputs": [],
   "source": [
    "import pandas as pd"
   ]
  },
  {
   "cell_type": "code",
   "execution_count": null,
   "metadata": {},
   "outputs": [],
   "source": [
    "df_segments = pd.read_csv(\"../all_combined_segments.txt\", sep=\"\\t\")\n",
    "df_segments.shape"
   ]
  },
  {
   "cell_type": "code",
   "execution_count": null,
   "metadata": {},
   "outputs": [],
   "source": [
    "df_segments = df_segments.rename(columns={\"chromosome\": \"#chromosome\"})"
   ]
  },
  {
   "cell_type": "code",
   "execution_count": null,
   "metadata": {},
   "outputs": [],
   "source": [
    "pids = df_segments.PID.unique()"
   ]
  },
  {
   "cell_type": "code",
   "execution_count": null,
   "metadata": {},
   "outputs": [],
   "source": [
    "grouped = df_segments.groupby(\"PID\")\n",
    "\n",
    "for pid in pids:\n",
    "    df_pid = grouped.get_group(pid)\n",
    "    df_pid.to_csv(f\"../segment_files/segments_{pid}.txt\", sep=\"\\t\", na_rep=\"NA\", index=False)"
   ]
  }
 ],
 "metadata": {
  "kernelspec": {
   "display_name": ".venv",
   "language": "python",
   "name": "python3"
  },
  "language_info": {
   "codemirror_mode": {
    "name": "ipython",
    "version": 3
   },
   "file_extension": ".py",
   "mimetype": "text/x-python",
   "name": "python",
   "nbconvert_exporter": "python",
   "pygments_lexer": "ipython3",
   "version": "3.10.6"
  },
  "orig_nbformat": 4,
  "vscode": {
   "interpreter": {
    "hash": "93a303f0ef870f638483e4737d45cbeec6639f70307ce4ab90c35c8ca4d6e6b9"
   }
  }
 },
 "nbformat": 4,
 "nbformat_minor": 2
}
